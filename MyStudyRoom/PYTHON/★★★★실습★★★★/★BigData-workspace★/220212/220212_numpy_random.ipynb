{
 "cells": [
  {
   "cell_type": "code",
   "execution_count": 1,
   "id": "54aa6db0",
   "metadata": {},
   "outputs": [],
   "source": [
    "import numpy as np"
   ]
  },
  {
   "cell_type": "markdown",
   "id": "3824a032",
   "metadata": {},
   "source": [
    "- 임의의 값으로 (3,2) 형태의 ndarray를 생성할 것"
   ]
  },
  {
   "cell_type": "code",
   "execution_count": 4,
   "id": "ddce6464",
   "metadata": {},
   "outputs": [
    {
     "name": "stdout",
     "output_type": "stream",
     "text": [
      "0.7492350079141129\n",
      "3\n"
     ]
    }
   ],
   "source": [
    "#파이선 랜덤\n",
    "import random\n",
    "#0,1 미만 사이의 랜덤값\n",
    "print(random.random())\n",
    "#1-6 사이 중 랜덤값 \n",
    "print(random.randrange(1,7))\n",
    "\n"
   ]
  },
  {
   "cell_type": "code",
   "execution_count": 5,
   "id": "cf0eeca9",
   "metadata": {},
   "outputs": [
    {
     "data": {
      "text/plain": [
       "array([[[0.55200649, 0.14308   , 0.8125405 , 0.61655882],\n",
       "        [0.11236731, 0.83920284, 0.46296291, 0.66540336],\n",
       "        [0.88765773, 0.93653927, 0.35524703, 0.40254479]],\n",
       "\n",
       "       [[0.22867621, 0.3898121 , 0.42545695, 0.1361749 ],\n",
       "        [0.73140627, 0.25619175, 0.96951681, 0.59121132],\n",
       "        [0.571015  , 0.99923692, 0.11228051, 0.12917553]]])"
      ]
     },
     "execution_count": 5,
     "metadata": {},
     "output_type": "execute_result"
    }
   ],
   "source": [
    "#0-1 균등분포 \n",
    "\n",
    "np.random.rand(2,3,4)"
   ]
  },
  {
   "cell_type": "code",
   "execution_count": 6,
   "id": "c7ee9237",
   "metadata": {},
   "outputs": [
    {
     "data": {
      "text/plain": [
       "array([-0.56132004,  2.11313053, -0.45915721,  1.32840803,  0.75584849])"
      ]
     },
     "execution_count": 6,
     "metadata": {},
     "output_type": "execute_result"
    }
   ],
   "source": [
    "# 정규분포 \n",
    "\n",
    "np.random.randn(5)"
   ]
  },
  {
   "cell_type": "code",
   "execution_count": 14,
   "id": "7c4d62ed",
   "metadata": {},
   "outputs": [
    {
     "name": "stdout",
     "output_type": "stream",
     "text": [
      "[2 2 0 0 2]\n",
      "[9 9 7 7 5]\n"
     ]
    }
   ],
   "source": [
    "# 0~2 사이의 숫자를 랜덤으로 뽑고 크기가 5\n",
    "a =np.random.randint(3, size=5)\n",
    "# 3~9 사이의 숫자를 랜덤으로 뽑고 크키가 5\n",
    "b =np.random.randint(3,10, size =5)\n",
    "print(a)\n",
    "print(b)\n"
   ]
  },
  {
   "cell_type": "code",
   "execution_count": 21,
   "id": "c7fa1226",
   "metadata": {},
   "outputs": [
    {
     "data": {
      "text/plain": [
       "array([[7, 7, 4, 8, 7],\n",
       "       [8, 4, 6, 3, 6],\n",
       "       [7, 8, 6, 4, 9]])"
      ]
     },
     "execution_count": 21,
     "metadata": {},
     "output_type": "execute_result"
    }
   ],
   "source": [
    "#3~9까지의 숫자를 랜덤으로 뽑고 배열의 크기가 행3열5\n",
    "np.random.randint(3,10, size =(3,5))"
   ]
  },
  {
   "cell_type": "code",
   "execution_count": 25,
   "id": "2f1d9c33",
   "metadata": {},
   "outputs": [
    {
     "name": "stdout",
     "output_type": "stream",
     "text": [
      "[[ 0.22827309  1.0268903  -0.83958485]\n",
      " [-0.59118152 -0.9568883  -0.22232569]]\n"
     ]
    }
   ],
   "source": [
    "#seed -> 랜덤으로 뽑지만 동일한 값\n",
    "#seed() 의 파라미터 값이 바뀌면 다른 숫자가 나오지만 같은 값을 넣으면 계속 같은 값만 나옴  \n",
    "np.random.seed(25)\n",
    "arr = np.random.randn(2,3)\n",
    "print(arr)"
   ]
  },
  {
   "cell_type": "code",
   "execution_count": 24,
   "id": "ecdc3ff9",
   "metadata": {},
   "outputs": [
    {
     "name": "stdout",
     "output_type": "stream",
     "text": [
      "[[ 0.88389311  0.19586502  0.35753652]\n",
      " [-2.34326191 -1.08483259  0.55969629]]\n"
     ]
    }
   ],
   "source": [
    "np.random.seed(20)\n",
    "arr = np.random.randn(2,3)\n",
    "print(arr)"
   ]
  },
  {
   "cell_type": "code",
   "execution_count": 44,
   "id": "29717104",
   "metadata": {},
   "outputs": [
    {
     "data": {
      "text/plain": [
       "array([2, 4, 4])"
      ]
     },
     "execution_count": 44,
     "metadata": {},
     "output_type": "execute_result"
    }
   ],
   "source": [
    "#0~5미만의 수 중 3개를 랜덤 추출 , true: 중복 허용 \n",
    "np.random.choice(5,3,True)"
   ]
  },
  {
   "cell_type": "code",
   "execution_count": 45,
   "id": "774d79a1",
   "metadata": {},
   "outputs": [
    {
     "data": {
      "text/plain": [
       "array([4, 2, 1])"
      ]
     },
     "execution_count": 45,
     "metadata": {},
     "output_type": "execute_result"
    }
   ],
   "source": [
    "#0~5 미만의 수 중 3개를 랜덤 추출 , false: 중복 비허용\n",
    "np.random.choice(5,3,False)"
   ]
  },
  {
   "cell_type": "markdown",
   "id": "4880f0e6",
   "metadata": {},
   "source": [
    "- 임의의 값으로 (3,2) 형태의 ndarray를 생성할 것 \n",
    "    - 단 같은 조는 동일한 값이 나와야 함"
   ]
  },
  {
   "cell_type": "code",
   "execution_count": 48,
   "id": "e5792b40",
   "metadata": {},
   "outputs": [
    {
     "name": "stdout",
     "output_type": "stream",
     "text": [
      "[[ 0.88389311  0.19586502  0.35753652]\n",
      " [-2.34326191 -1.08483259  0.55969629]]\n"
     ]
    }
   ],
   "source": [
    "np.random.seed(20)\n",
    "arr = np.random.randn(2,3)\n",
    "print(arr)"
   ]
  },
  {
   "cell_type": "code",
   "execution_count": 53,
   "id": "6ac605fa",
   "metadata": {},
   "outputs": [
    {
     "name": "stdout",
     "output_type": "stream",
     "text": [
      "[ 0  1  2  3  4  5  6  7  8  9 10 11]\n"
     ]
    }
   ],
   "source": [
    "# 1차원 12개 항목\n",
    "arr = np.arange(12)\n",
    "print(arr)\n"
   ]
  },
  {
   "cell_type": "code",
   "execution_count": 59,
   "id": "0fe956d6",
   "metadata": {},
   "outputs": [
    {
     "name": "stdout",
     "output_type": "stream",
     "text": [
      "[[ 0  1  2  3]\n",
      " [ 4  5  6  7]\n",
      " [ 8  9 10 11]]\n",
      "(3, 4)\n",
      "2\n"
     ]
    }
   ],
   "source": [
    "#2차원 3개의 행과 4개의 열\n",
    "arr2= arr.reshape(3,4)\n",
    "print(arr2)\n",
    "print(arr2.shape)\n",
    "print(arr2.ndim)"
   ]
  },
  {
   "cell_type": "code",
   "execution_count": 61,
   "id": "ccbf0c3c",
   "metadata": {},
   "outputs": [
    {
     "name": "stdout",
     "output_type": "stream",
     "text": [
      "[[ 0  1  2]\n",
      " [ 3  4  5]\n",
      " [ 6  7  8]\n",
      " [ 9 10 11]]\n",
      "--------\n",
      "[[ 0  1]\n",
      " [ 2  3]\n",
      " [ 4  5]\n",
      " [ 6  7]\n",
      " [ 8  9]\n",
      " [10 11]]\n"
     ]
    }
   ],
   "source": [
    "#2차원\n",
    "arr3=arr.reshape(4,3)\n",
    "arr4=arr.reshape(6,2)\n",
    "print(arr3)\n",
    "print(\"--------\")\n",
    "print(arr4)"
   ]
  },
  {
   "cell_type": "code",
   "execution_count": 65,
   "id": "f4a7392b",
   "metadata": {},
   "outputs": [
    {
     "name": "stdout",
     "output_type": "stream",
     "text": [
      "(2, 3, 2)\n",
      "3\n",
      "[[[ 0  1]\n",
      "  [ 2  3]\n",
      "  [ 4  5]]\n",
      "\n",
      " [[ 6  7]\n",
      "  [ 8  9]\n",
      "  [10 11]]]\n"
     ]
    }
   ],
   "source": [
    "#3차원\n",
    "arr5=arr.reshape(2,3,2)\n",
    "print(arr5.shape)\n",
    "print(arr5.ndim)\n",
    "print(arr5)"
   ]
  },
  {
   "cell_type": "code",
   "execution_count": 67,
   "id": "8b8c17ba",
   "metadata": {},
   "outputs": [
    {
     "data": {
      "text/plain": [
       "array([[ 0,  1,  2,  3],\n",
       "       [ 4,  5,  6,  7],\n",
       "       [ 8,  9, 10, 11]])"
      ]
     },
     "execution_count": 67,
     "metadata": {},
     "output_type": "execute_result"
    }
   ],
   "source": [
    "# 행을 정해주면 (3) 나머지 숫자로 알아서 열을 만듦\n",
    "arr.reshape(3,-1)"
   ]
  },
  {
   "cell_type": "code",
   "execution_count": 69,
   "id": "e3fab908",
   "metadata": {},
   "outputs": [
    {
     "name": "stdout",
     "output_type": "stream",
     "text": [
      "[[[ 0  1]\n",
      "  [ 2  3]\n",
      "  [ 4  5]]\n",
      "\n",
      " [[ 6  7]\n",
      "  [ 8  9]\n",
      "  [10 11]]]\n"
     ]
    }
   ],
   "source": [
    "arr6= np.arange(12).reshape(2,3,2)\n",
    "print(arr6)"
   ]
  },
  {
   "cell_type": "code",
   "execution_count": 70,
   "id": "31daa269",
   "metadata": {},
   "outputs": [
    {
     "data": {
      "text/plain": [
       "array([ 0,  1,  2,  3,  4,  5,  6,  7,  8,  9, 10, 11])"
      ]
     },
     "execution_count": 70,
     "metadata": {},
     "output_type": "execute_result"
    }
   ],
   "source": [
    "#1차원 배열로 바꿈 \n",
    "arr6.reshape(-1)"
   ]
  },
  {
   "cell_type": "code",
   "execution_count": null,
   "id": "507e5019",
   "metadata": {},
   "outputs": [],
   "source": []
  }
 ],
 "metadata": {
  "kernelspec": {
   "display_name": "Python 3 (ipykernel)",
   "language": "python",
   "name": "python3"
  },
  "language_info": {
   "codemirror_mode": {
    "name": "ipython",
    "version": 3
   },
   "file_extension": ".py",
   "mimetype": "text/x-python",
   "name": "python",
   "nbconvert_exporter": "python",
   "pygments_lexer": "ipython3",
   "version": "3.9.7"
  }
 },
 "nbformat": 4,
 "nbformat_minor": 5
}
