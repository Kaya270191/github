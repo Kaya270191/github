{
 "cells": [
  {
   "cell_type": "code",
   "execution_count": 7,
   "id": "82ea159b",
   "metadata": {},
   "outputs": [],
   "source": [
    "import numpy as np\n",
    "import pandas as pd\n",
    "import matplotlib.pyplot as plt\n",
    "import seaborn as sns\n",
    "import folium\n",
    "# import platform\n",
    "from matplotlib import font_manager, rc"
   ]
  },
  {
   "cell_type": "code",
   "execution_count": 8,
   "id": "e816a9e0",
   "metadata": {},
   "outputs": [],
   "source": [
    "from matplotlib import font_manager, rc\n",
    "# font_path = \"C:/Windows/Fonts/gulim.ttc\"\n",
    "font_path = \"c:/Windows/Fonts/malgun.ttf\"\n",
    "font = font_manager.FontProperties(fname=font_path).get_name()\n",
    "rc('font', family=font)"
   ]
  },
  {
   "cell_type": "code",
   "execution_count": 13,
   "id": "317ed04d",
   "metadata": {},
   "outputs": [
    {
     "data": {
      "text/html": [
       "<div>\n",
       "<style scoped>\n",
       "    .dataframe tbody tr th:only-of-type {\n",
       "        vertical-align: middle;\n",
       "    }\n",
       "\n",
       "    .dataframe tbody tr th {\n",
       "        vertical-align: top;\n",
       "    }\n",
       "\n",
       "    .dataframe thead th {\n",
       "        text-align: right;\n",
       "    }\n",
       "</style>\n",
       "<table border=\"1\" class=\"dataframe\">\n",
       "  <thead>\n",
       "    <tr style=\"text-align: right;\">\n",
       "      <th></th>\n",
       "      <th>관리기관명</th>\n",
       "      <th>소재지도로명주소</th>\n",
       "      <th>소재지지번주소</th>\n",
       "      <th>설치목적구분</th>\n",
       "      <th>카메라대수</th>\n",
       "      <th>카메라화소수</th>\n",
       "      <th>촬영방면정보</th>\n",
       "      <th>보관일수</th>\n",
       "      <th>설치년월</th>\n",
       "      <th>관리기관전화번호</th>\n",
       "      <th>위도</th>\n",
       "      <th>경도</th>\n",
       "      <th>데이터기준일자</th>\n",
       "    </tr>\n",
       "  </thead>\n",
       "  <tbody>\n",
       "    <tr>\n",
       "      <th>0</th>\n",
       "      <td>대구광역시청</td>\n",
       "      <td>대구광역시 달성군 구지면 응암리 646</td>\n",
       "      <td>대구광역시 달성군 구지면 응암리 646</td>\n",
       "      <td>교통정보수집</td>\n",
       "      <td>1</td>\n",
       "      <td>200</td>\n",
       "      <td>자동차 진행 방면</td>\n",
       "      <td>NaN</td>\n",
       "      <td>2016-11</td>\n",
       "      <td>053-803-4573</td>\n",
       "      <td>35.647368</td>\n",
       "      <td>128.415547</td>\n",
       "      <td>2020-03-18</td>\n",
       "    </tr>\n",
       "    <tr>\n",
       "      <th>1</th>\n",
       "      <td>대구광역시청</td>\n",
       "      <td>대구광역시 달성군 구지면 화산리 704</td>\n",
       "      <td>대구광역시 달성군 구지면 화산리 704</td>\n",
       "      <td>교통정보수집</td>\n",
       "      <td>1</td>\n",
       "      <td>200</td>\n",
       "      <td>자동차 진행 방면</td>\n",
       "      <td>NaN</td>\n",
       "      <td>2016-11</td>\n",
       "      <td>053-803-4573</td>\n",
       "      <td>35.664422</td>\n",
       "      <td>128.399093</td>\n",
       "      <td>2020-03-18</td>\n",
       "    </tr>\n",
       "    <tr>\n",
       "      <th>2</th>\n",
       "      <td>대구광역시청</td>\n",
       "      <td>대구광역시 동구 국채보상로 827</td>\n",
       "      <td>대구광역시 동구 신천3동 850-6</td>\n",
       "      <td>교통단속</td>\n",
       "      <td>1</td>\n",
       "      <td>130</td>\n",
       "      <td>버스전용차로 차량 진행방면</td>\n",
       "      <td>NaN</td>\n",
       "      <td>1999-11</td>\n",
       "      <td>053-803-4887</td>\n",
       "      <td>35.868391</td>\n",
       "      <td>128.620699</td>\n",
       "      <td>2020-03-18</td>\n",
       "    </tr>\n",
       "    <tr>\n",
       "      <th>3</th>\n",
       "      <td>대구광역시청</td>\n",
       "      <td>대구광역시 동구 국채보상로 827</td>\n",
       "      <td>대구광역시 동구 신천3동 850-6</td>\n",
       "      <td>교통단속</td>\n",
       "      <td>1</td>\n",
       "      <td>130</td>\n",
       "      <td>버스전용차로 차량 진행방면</td>\n",
       "      <td>NaN</td>\n",
       "      <td>1999-11</td>\n",
       "      <td>053-803-4887</td>\n",
       "      <td>35.868391</td>\n",
       "      <td>128.620699</td>\n",
       "      <td>2020-03-18</td>\n",
       "    </tr>\n",
       "    <tr>\n",
       "      <th>4</th>\n",
       "      <td>대구광역시청</td>\n",
       "      <td>대구광역시 북구 관문동 618-49</td>\n",
       "      <td>대구광역시 북구 관문동 618-49</td>\n",
       "      <td>교통단속</td>\n",
       "      <td>1</td>\n",
       "      <td>130</td>\n",
       "      <td>버스전용차로 차량 진행방면</td>\n",
       "      <td>NaN</td>\n",
       "      <td>2000-04</td>\n",
       "      <td>053-803-4887</td>\n",
       "      <td>35.902207</td>\n",
       "      <td>128.547110</td>\n",
       "      <td>2020-03-18</td>\n",
       "    </tr>\n",
       "  </tbody>\n",
       "</table>\n",
       "</div>"
      ],
      "text/plain": [
       "    관리기관명               소재지도로명주소                소재지지번주소  설치목적구분  카메라대수  \\\n",
       "0  대구광역시청  대구광역시 달성군 구지면 응암리 646  대구광역시 달성군 구지면 응암리 646  교통정보수집      1   \n",
       "1  대구광역시청  대구광역시 달성군 구지면 화산리 704  대구광역시 달성군 구지면 화산리 704  교통정보수집      1   \n",
       "2  대구광역시청     대구광역시 동구 국채보상로 827    대구광역시 동구 신천3동 850-6    교통단속      1   \n",
       "3  대구광역시청     대구광역시 동구 국채보상로 827    대구광역시 동구 신천3동 850-6    교통단속      1   \n",
       "4  대구광역시청    대구광역시 북구 관문동 618-49    대구광역시 북구 관문동 618-49    교통단속      1   \n",
       "\n",
       "   카메라화소수          촬영방면정보  보관일수     설치년월      관리기관전화번호         위도          경도  \\\n",
       "0     200       자동차 진행 방면   NaN  2016-11  053-803-4573  35.647368  128.415547   \n",
       "1     200       자동차 진행 방면   NaN  2016-11  053-803-4573  35.664422  128.399093   \n",
       "2     130  버스전용차로 차량 진행방면   NaN  1999-11  053-803-4887  35.868391  128.620699   \n",
       "3     130  버스전용차로 차량 진행방면   NaN  1999-11  053-803-4887  35.868391  128.620699   \n",
       "4     130  버스전용차로 차량 진행방면   NaN  2000-04  053-803-4887  35.902207  128.547110   \n",
       "\n",
       "      데이터기준일자  \n",
       "0  2020-03-18  \n",
       "1  2020-03-18  \n",
       "2  2020-03-18  \n",
       "3  2020-03-18  \n",
       "4  2020-03-18  "
      ]
     },
     "execution_count": 13,
     "metadata": {},
     "output_type": "execute_result"
    }
   ],
   "source": [
    "daegu_cctv = pd.read_csv('d_CCTV_20200318.csv',  encoding='euc-kr')\n",
    "daegu_cctv.head()"
   ]
  },
  {
   "cell_type": "code",
   "execution_count": 14,
   "id": "71625388",
   "metadata": {},
   "outputs": [
    {
     "data": {
      "text/plain": [
       "(308, 13)"
      ]
     },
     "execution_count": 14,
     "metadata": {},
     "output_type": "execute_result"
    }
   ],
   "source": [
    "daegu_cctv.shape"
   ]
  },
  {
   "cell_type": "code",
   "execution_count": 15,
   "id": "2471e1f2",
   "metadata": {},
   "outputs": [
    {
     "name": "stdout",
     "output_type": "stream",
     "text": [
      "<class 'pandas.core.frame.DataFrame'>\n",
      "RangeIndex: 308 entries, 0 to 307\n",
      "Data columns (total 13 columns):\n",
      " #   Column    Non-Null Count  Dtype  \n",
      "---  ------    --------------  -----  \n",
      " 0   관리기관명     308 non-null    object \n",
      " 1   소재지도로명주소  308 non-null    object \n",
      " 2   소재지지번주소   308 non-null    object \n",
      " 3   설치목적구분    308 non-null    object \n",
      " 4   카메라대수     308 non-null    int64  \n",
      " 5   카메라화소수    308 non-null    int64  \n",
      " 6   촬영방면정보    308 non-null    object \n",
      " 7   보관일수      0 non-null      float64\n",
      " 8   설치년월      308 non-null    object \n",
      " 9   관리기관전화번호  308 non-null    object \n",
      " 10  위도        308 non-null    float64\n",
      " 11  경도        308 non-null    float64\n",
      " 12  데이터기준일자   308 non-null    object \n",
      "dtypes: float64(3), int64(2), object(8)\n",
      "memory usage: 31.4+ KB\n"
     ]
    }
   ],
   "source": [
    "daegu_cctv.info()"
   ]
  },
  {
   "cell_type": "code",
   "execution_count": 16,
   "id": "62688b76",
   "metadata": {},
   "outputs": [
    {
     "data": {
      "text/html": [
       "<div>\n",
       "<style scoped>\n",
       "    .dataframe tbody tr th:only-of-type {\n",
       "        vertical-align: middle;\n",
       "    }\n",
       "\n",
       "    .dataframe tbody tr th {\n",
       "        vertical-align: top;\n",
       "    }\n",
       "\n",
       "    .dataframe thead th {\n",
       "        text-align: right;\n",
       "    }\n",
       "</style>\n",
       "<table border=\"1\" class=\"dataframe\">\n",
       "  <thead>\n",
       "    <tr style=\"text-align: right;\">\n",
       "      <th></th>\n",
       "      <th>카메라대수</th>\n",
       "      <th>카메라화소수</th>\n",
       "      <th>보관일수</th>\n",
       "      <th>위도</th>\n",
       "      <th>경도</th>\n",
       "    </tr>\n",
       "  </thead>\n",
       "  <tbody>\n",
       "    <tr>\n",
       "      <th>count</th>\n",
       "      <td>308.0</td>\n",
       "      <td>308.000000</td>\n",
       "      <td>0.0</td>\n",
       "      <td>308.000000</td>\n",
       "      <td>308.000000</td>\n",
       "    </tr>\n",
       "    <tr>\n",
       "      <th>mean</th>\n",
       "      <td>1.0</td>\n",
       "      <td>126.860390</td>\n",
       "      <td>NaN</td>\n",
       "      <td>35.858467</td>\n",
       "      <td>128.587524</td>\n",
       "    </tr>\n",
       "    <tr>\n",
       "      <th>std</th>\n",
       "      <td>0.0</td>\n",
       "      <td>67.114249</td>\n",
       "      <td>NaN</td>\n",
       "      <td>0.041613</td>\n",
       "      <td>0.059466</td>\n",
       "    </tr>\n",
       "    <tr>\n",
       "      <th>min</th>\n",
       "      <td>1.0</td>\n",
       "      <td>41.000000</td>\n",
       "      <td>NaN</td>\n",
       "      <td>35.647368</td>\n",
       "      <td>128.398886</td>\n",
       "    </tr>\n",
       "    <tr>\n",
       "      <th>25%</th>\n",
       "      <td>1.0</td>\n",
       "      <td>41.000000</td>\n",
       "      <td>NaN</td>\n",
       "      <td>35.847526</td>\n",
       "      <td>128.553984</td>\n",
       "    </tr>\n",
       "    <tr>\n",
       "      <th>50%</th>\n",
       "      <td>1.0</td>\n",
       "      <td>130.000000</td>\n",
       "      <td>NaN</td>\n",
       "      <td>35.865742</td>\n",
       "      <td>128.590158</td>\n",
       "    </tr>\n",
       "    <tr>\n",
       "      <th>75%</th>\n",
       "      <td>1.0</td>\n",
       "      <td>200.000000</td>\n",
       "      <td>NaN</td>\n",
       "      <td>35.877319</td>\n",
       "      <td>128.624370</td>\n",
       "    </tr>\n",
       "    <tr>\n",
       "      <th>max</th>\n",
       "      <td>1.0</td>\n",
       "      <td>200.000000</td>\n",
       "      <td>NaN</td>\n",
       "      <td>35.992603</td>\n",
       "      <td>128.730851</td>\n",
       "    </tr>\n",
       "  </tbody>\n",
       "</table>\n",
       "</div>"
      ],
      "text/plain": [
       "       카메라대수      카메라화소수  보관일수          위도          경도\n",
       "count  308.0  308.000000   0.0  308.000000  308.000000\n",
       "mean     1.0  126.860390   NaN   35.858467  128.587524\n",
       "std      0.0   67.114249   NaN    0.041613    0.059466\n",
       "min      1.0   41.000000   NaN   35.647368  128.398886\n",
       "25%      1.0   41.000000   NaN   35.847526  128.553984\n",
       "50%      1.0  130.000000   NaN   35.865742  128.590158\n",
       "75%      1.0  200.000000   NaN   35.877319  128.624370\n",
       "max      1.0  200.000000   NaN   35.992603  128.730851"
      ]
     },
     "execution_count": 16,
     "metadata": {},
     "output_type": "execute_result"
    }
   ],
   "source": [
    "daegu_cctv.describe()"
   ]
  },
  {
   "cell_type": "code",
   "execution_count": 17,
   "id": "f8439dd5",
   "metadata": {},
   "outputs": [
    {
     "data": {
      "text/html": [
       "<div>\n",
       "<style scoped>\n",
       "    .dataframe tbody tr th:only-of-type {\n",
       "        vertical-align: middle;\n",
       "    }\n",
       "\n",
       "    .dataframe tbody tr th {\n",
       "        vertical-align: top;\n",
       "    }\n",
       "\n",
       "    .dataframe thead th {\n",
       "        text-align: right;\n",
       "    }\n",
       "</style>\n",
       "<table border=\"1\" class=\"dataframe\">\n",
       "  <thead>\n",
       "    <tr style=\"text-align: right;\">\n",
       "      <th></th>\n",
       "      <th>관리기관명</th>\n",
       "      <th>소재지도로명주소</th>\n",
       "      <th>소재지지번주소</th>\n",
       "      <th>설치목적구분</th>\n",
       "      <th>촬영방면정보</th>\n",
       "      <th>설치년월</th>\n",
       "      <th>관리기관전화번호</th>\n",
       "      <th>데이터기준일자</th>\n",
       "    </tr>\n",
       "  </thead>\n",
       "  <tbody>\n",
       "    <tr>\n",
       "      <th>count</th>\n",
       "      <td>308</td>\n",
       "      <td>308</td>\n",
       "      <td>308</td>\n",
       "      <td>308</td>\n",
       "      <td>308</td>\n",
       "      <td>308</td>\n",
       "      <td>308</td>\n",
       "      <td>308</td>\n",
       "    </tr>\n",
       "    <tr>\n",
       "      <th>unique</th>\n",
       "      <td>1</td>\n",
       "      <td>243</td>\n",
       "      <td>244</td>\n",
       "      <td>4</td>\n",
       "      <td>24</td>\n",
       "      <td>52</td>\n",
       "      <td>4</td>\n",
       "      <td>1</td>\n",
       "    </tr>\n",
       "    <tr>\n",
       "      <th>top</th>\n",
       "      <td>대구광역시청</td>\n",
       "      <td>대구광역시 동구 신서동 1143</td>\n",
       "      <td>대구광역시 동구 신서동 1143</td>\n",
       "      <td>교통단속</td>\n",
       "      <td>자동차 진행 방면</td>\n",
       "      <td>2009-02</td>\n",
       "      <td>053-803-4887</td>\n",
       "      <td>2020-03-18</td>\n",
       "    </tr>\n",
       "    <tr>\n",
       "      <th>freq</th>\n",
       "      <td>308</td>\n",
       "      <td>6</td>\n",
       "      <td>6</td>\n",
       "      <td>145</td>\n",
       "      <td>131</td>\n",
       "      <td>39</td>\n",
       "      <td>145</td>\n",
       "      <td>308</td>\n",
       "    </tr>\n",
       "  </tbody>\n",
       "</table>\n",
       "</div>"
      ],
      "text/plain": [
       "         관리기관명           소재지도로명주소            소재지지번주소 설치목적구분     촬영방면정보  \\\n",
       "count      308                308                308    308        308   \n",
       "unique       1                243                244      4         24   \n",
       "top     대구광역시청  대구광역시 동구 신서동 1143  대구광역시 동구 신서동 1143   교통단속  자동차 진행 방면   \n",
       "freq       308                  6                  6    145        131   \n",
       "\n",
       "           설치년월      관리기관전화번호     데이터기준일자  \n",
       "count       308           308         308  \n",
       "unique       52             4           1  \n",
       "top     2009-02  053-803-4887  2020-03-18  \n",
       "freq         39           145         308  "
      ]
     },
     "execution_count": 17,
     "metadata": {},
     "output_type": "execute_result"
    }
   ],
   "source": [
    "daegu_cctv.describe(include = 'object')"
   ]
  },
  {
   "cell_type": "code",
   "execution_count": 18,
   "id": "5e4ca67d",
   "metadata": {},
   "outputs": [
    {
     "data": {
      "text/html": [
       "<div>\n",
       "<style scoped>\n",
       "    .dataframe tbody tr th:only-of-type {\n",
       "        vertical-align: middle;\n",
       "    }\n",
       "\n",
       "    .dataframe tbody tr th {\n",
       "        vertical-align: top;\n",
       "    }\n",
       "\n",
       "    .dataframe thead th {\n",
       "        text-align: right;\n",
       "    }\n",
       "</style>\n",
       "<table border=\"1\" class=\"dataframe\">\n",
       "  <thead>\n",
       "    <tr style=\"text-align: right;\">\n",
       "      <th></th>\n",
       "      <th>관리기관명</th>\n",
       "      <th>소재지도로명주소</th>\n",
       "      <th>소재지지번주소</th>\n",
       "      <th>설치목적구분</th>\n",
       "      <th>카메라대수</th>\n",
       "      <th>카메라화소수</th>\n",
       "      <th>촬영방면정보</th>\n",
       "      <th>보관일수</th>\n",
       "      <th>설치년월</th>\n",
       "      <th>관리기관전화번호</th>\n",
       "      <th>위도</th>\n",
       "      <th>경도</th>\n",
       "      <th>데이터기준일자</th>\n",
       "    </tr>\n",
       "  </thead>\n",
       "  <tbody>\n",
       "    <tr>\n",
       "      <th>0</th>\n",
       "      <td>대구광역시청</td>\n",
       "      <td>대구광역시 달성군 구지면 응암리 646</td>\n",
       "      <td>대구광역시 달성군 구지면 응암리 646</td>\n",
       "      <td>교통정보수집</td>\n",
       "      <td>1</td>\n",
       "      <td>200</td>\n",
       "      <td>자동차 진행 방면</td>\n",
       "      <td>NaN</td>\n",
       "      <td>2016-11</td>\n",
       "      <td>053-803-4573</td>\n",
       "      <td>35.647368</td>\n",
       "      <td>128.415547</td>\n",
       "      <td>2020-03-18</td>\n",
       "    </tr>\n",
       "    <tr>\n",
       "      <th>1</th>\n",
       "      <td>대구광역시청</td>\n",
       "      <td>대구광역시 달성군 구지면 화산리 704</td>\n",
       "      <td>대구광역시 달성군 구지면 화산리 704</td>\n",
       "      <td>교통정보수집</td>\n",
       "      <td>1</td>\n",
       "      <td>200</td>\n",
       "      <td>자동차 진행 방면</td>\n",
       "      <td>NaN</td>\n",
       "      <td>2016-11</td>\n",
       "      <td>053-803-4573</td>\n",
       "      <td>35.664422</td>\n",
       "      <td>128.399093</td>\n",
       "      <td>2020-03-18</td>\n",
       "    </tr>\n",
       "    <tr>\n",
       "      <th>2</th>\n",
       "      <td>대구광역시청</td>\n",
       "      <td>대구광역시 동구 국채보상로 827</td>\n",
       "      <td>대구광역시 동구 신천3동 850-6</td>\n",
       "      <td>교통단속</td>\n",
       "      <td>1</td>\n",
       "      <td>130</td>\n",
       "      <td>버스전용차로 차량 진행방면</td>\n",
       "      <td>NaN</td>\n",
       "      <td>1999-11</td>\n",
       "      <td>053-803-4887</td>\n",
       "      <td>35.868391</td>\n",
       "      <td>128.620699</td>\n",
       "      <td>2020-03-18</td>\n",
       "    </tr>\n",
       "  </tbody>\n",
       "</table>\n",
       "</div>"
      ],
      "text/plain": [
       "    관리기관명               소재지도로명주소                소재지지번주소  설치목적구분  카메라대수  \\\n",
       "0  대구광역시청  대구광역시 달성군 구지면 응암리 646  대구광역시 달성군 구지면 응암리 646  교통정보수집      1   \n",
       "1  대구광역시청  대구광역시 달성군 구지면 화산리 704  대구광역시 달성군 구지면 화산리 704  교통정보수집      1   \n",
       "2  대구광역시청     대구광역시 동구 국채보상로 827    대구광역시 동구 신천3동 850-6    교통단속      1   \n",
       "\n",
       "   카메라화소수          촬영방면정보  보관일수     설치년월      관리기관전화번호         위도          경도  \\\n",
       "0     200       자동차 진행 방면   NaN  2016-11  053-803-4573  35.647368  128.415547   \n",
       "1     200       자동차 진행 방면   NaN  2016-11  053-803-4573  35.664422  128.399093   \n",
       "2     130  버스전용차로 차량 진행방면   NaN  1999-11  053-803-4887  35.868391  128.620699   \n",
       "\n",
       "      데이터기준일자  \n",
       "0  2020-03-18  \n",
       "1  2020-03-18  \n",
       "2  2020-03-18  "
      ]
     },
     "execution_count": 18,
     "metadata": {},
     "output_type": "execute_result"
    }
   ],
   "source": [
    "daegu_cctv.head(3)"
   ]
  },
  {
   "cell_type": "code",
   "execution_count": 19,
   "id": "1b00a8ba",
   "metadata": {},
   "outputs": [
    {
     "data": {
      "text/html": [
       "<div>\n",
       "<style scoped>\n",
       "    .dataframe tbody tr th:only-of-type {\n",
       "        vertical-align: middle;\n",
       "    }\n",
       "\n",
       "    .dataframe tbody tr th {\n",
       "        vertical-align: top;\n",
       "    }\n",
       "\n",
       "    .dataframe thead th {\n",
       "        text-align: right;\n",
       "    }\n",
       "</style>\n",
       "<table border=\"1\" class=\"dataframe\">\n",
       "  <thead>\n",
       "    <tr style=\"text-align: right;\">\n",
       "      <th></th>\n",
       "      <th>관리기관명</th>\n",
       "      <th>소재지도로명주소</th>\n",
       "      <th>소재지지번주소</th>\n",
       "      <th>설치목적구분</th>\n",
       "      <th>카메라대수</th>\n",
       "      <th>카메라화소수</th>\n",
       "      <th>촬영방면정보</th>\n",
       "      <th>보관일수</th>\n",
       "      <th>설치년월</th>\n",
       "      <th>관리기관전화번호</th>\n",
       "      <th>위도</th>\n",
       "      <th>경도</th>\n",
       "      <th>데이터기준일자</th>\n",
       "    </tr>\n",
       "  </thead>\n",
       "  <tbody>\n",
       "    <tr>\n",
       "      <th>303</th>\n",
       "      <td>대구광역시청</td>\n",
       "      <td>대구광역시 남구 봉덕3동 1277-2</td>\n",
       "      <td>대구광역시 남구 봉덕3동 1277-2</td>\n",
       "      <td>교통정보수집</td>\n",
       "      <td>1</td>\n",
       "      <td>41</td>\n",
       "      <td>자동차 진행 방면</td>\n",
       "      <td>NaN</td>\n",
       "      <td>2011-07</td>\n",
       "      <td>053-803-4573</td>\n",
       "      <td>35.832552</td>\n",
       "      <td>128.597309</td>\n",
       "      <td>2020-03-18</td>\n",
       "    </tr>\n",
       "    <tr>\n",
       "      <th>304</th>\n",
       "      <td>대구광역시청</td>\n",
       "      <td>대구광역시 남구 봉덕동 1272-5</td>\n",
       "      <td>대구광역시 남구 봉덕동 1272-5</td>\n",
       "      <td>교통정보수집</td>\n",
       "      <td>1</td>\n",
       "      <td>41</td>\n",
       "      <td>자동차 진행 방면</td>\n",
       "      <td>NaN</td>\n",
       "      <td>2011-07</td>\n",
       "      <td>053-803-4573</td>\n",
       "      <td>35.833217</td>\n",
       "      <td>128.600574</td>\n",
       "      <td>2020-03-18</td>\n",
       "    </tr>\n",
       "    <tr>\n",
       "      <th>305</th>\n",
       "      <td>대구광역시청</td>\n",
       "      <td>대구광역시 달서구 송현동 1044-2</td>\n",
       "      <td>대구광역시 달서구 송현동 1044-2</td>\n",
       "      <td>교통정보수집</td>\n",
       "      <td>1</td>\n",
       "      <td>41</td>\n",
       "      <td>자동차 진행 방면</td>\n",
       "      <td>NaN</td>\n",
       "      <td>2011-07</td>\n",
       "      <td>053-803-4573</td>\n",
       "      <td>35.837616</td>\n",
       "      <td>128.557529</td>\n",
       "      <td>2020-03-18</td>\n",
       "    </tr>\n",
       "    <tr>\n",
       "      <th>306</th>\n",
       "      <td>대구광역시청</td>\n",
       "      <td>대구광역시 달서구 감산동 440-2</td>\n",
       "      <td>대구광역시 달서구 감산동 440-2</td>\n",
       "      <td>교통정보수집</td>\n",
       "      <td>1</td>\n",
       "      <td>41</td>\n",
       "      <td>자동차 진행 방면</td>\n",
       "      <td>NaN</td>\n",
       "      <td>2011-07</td>\n",
       "      <td>053-803-4573</td>\n",
       "      <td>35.850156</td>\n",
       "      <td>128.537257</td>\n",
       "      <td>2020-03-18</td>\n",
       "    </tr>\n",
       "    <tr>\n",
       "      <th>307</th>\n",
       "      <td>대구광역시청</td>\n",
       "      <td>대구광역시 달성군 구지면 응암리 1202-12</td>\n",
       "      <td>대구광역시 달성군 구지면 응암리 1202-12</td>\n",
       "      <td>교통정보수집</td>\n",
       "      <td>1</td>\n",
       "      <td>200</td>\n",
       "      <td>자동차 진행 방면</td>\n",
       "      <td>NaN</td>\n",
       "      <td>2016-09</td>\n",
       "      <td>053-803-4573</td>\n",
       "      <td>35.656490</td>\n",
       "      <td>128.415901</td>\n",
       "      <td>2020-03-18</td>\n",
       "    </tr>\n",
       "  </tbody>\n",
       "</table>\n",
       "</div>"
      ],
      "text/plain": [
       "      관리기관명                   소재지도로명주소                    소재지지번주소  설치목적구분  \\\n",
       "303  대구광역시청       대구광역시 남구 봉덕3동 1277-2       대구광역시 남구 봉덕3동 1277-2  교통정보수집   \n",
       "304  대구광역시청        대구광역시 남구 봉덕동 1272-5        대구광역시 남구 봉덕동 1272-5  교통정보수집   \n",
       "305  대구광역시청       대구광역시 달서구 송현동 1044-2       대구광역시 달서구 송현동 1044-2  교통정보수집   \n",
       "306  대구광역시청        대구광역시 달서구 감산동 440-2        대구광역시 달서구 감산동 440-2  교통정보수집   \n",
       "307  대구광역시청  대구광역시 달성군 구지면 응암리 1202-12  대구광역시 달성군 구지면 응암리 1202-12  교통정보수집   \n",
       "\n",
       "     카메라대수  카메라화소수     촬영방면정보  보관일수     설치년월      관리기관전화번호         위도  \\\n",
       "303      1      41  자동차 진행 방면   NaN  2011-07  053-803-4573  35.832552   \n",
       "304      1      41  자동차 진행 방면   NaN  2011-07  053-803-4573  35.833217   \n",
       "305      1      41  자동차 진행 방면   NaN  2011-07  053-803-4573  35.837616   \n",
       "306      1      41  자동차 진행 방면   NaN  2011-07  053-803-4573  35.850156   \n",
       "307      1     200  자동차 진행 방면   NaN  2016-09  053-803-4573  35.656490   \n",
       "\n",
       "             경도     데이터기준일자  \n",
       "303  128.597309  2020-03-18  \n",
       "304  128.600574  2020-03-18  \n",
       "305  128.557529  2020-03-18  \n",
       "306  128.537257  2020-03-18  \n",
       "307  128.415901  2020-03-18  "
      ]
     },
     "execution_count": 19,
     "metadata": {},
     "output_type": "execute_result"
    }
   ],
   "source": [
    "daegu_cctv.tail()"
   ]
  },
  {
   "cell_type": "code",
   "execution_count": 20,
   "id": "fe15d4a7",
   "metadata": {},
   "outputs": [
    {
     "data": {
      "text/plain": [
       "교통단속      145\n",
       "교통정보수집    131\n",
       "생활방범       20\n",
       "재난재해       12\n",
       "Name: 설치목적구분, dtype: int64"
      ]
     },
     "execution_count": 20,
     "metadata": {},
     "output_type": "execute_result"
    }
   ],
   "source": [
    "daegu_cctv['설치목적구분'].value_counts()"
   ]
  },
  {
   "cell_type": "code",
   "execution_count": 21,
   "id": "8026a4ab",
   "metadata": {},
   "outputs": [
    {
     "data": {
      "text/plain": [
       "(array(['교통단속', '교통정보수집', '생활방범', '재난재해'], dtype=object),\n",
       " array([145, 131,  20,  12], dtype=int64))"
      ]
     },
     "execution_count": 21,
     "metadata": {},
     "output_type": "execute_result"
    }
   ],
   "source": [
    "np.unique(daegu_cctv['설치목적구분'].to_numpy(), return_counts=True)"
   ]
  },
  {
   "cell_type": "code",
   "execution_count": 22,
   "id": "2f1aafd4",
   "metadata": {},
   "outputs": [
    {
     "data": {
      "text/plain": [
       "numpy.ndarray"
      ]
     },
     "execution_count": 22,
     "metadata": {},
     "output_type": "execute_result"
    }
   ],
   "source": [
    "type(np.unique(daegu_cctv['설치목적구분'].to_numpy()))"
   ]
  },
  {
   "cell_type": "code",
   "execution_count": 23,
   "id": "d215d15a",
   "metadata": {},
   "outputs": [
    {
     "data": {
      "text/plain": [
       "1    308\n",
       "Name: 카메라대수, dtype: int64"
      ]
     },
     "execution_count": 23,
     "metadata": {},
     "output_type": "execute_result"
    }
   ],
   "source": [
    "daegu_cctv['카메라대수'].value_counts()"
   ]
  },
  {
   "cell_type": "code",
   "execution_count": 24,
   "id": "6bf8b821",
   "metadata": {},
   "outputs": [
    {
     "data": {
      "text/plain": [
       "자동차 진행 방면          131\n",
       "불법 주정차 예상위치 방면     121\n",
       "버스전용차로 차량 진행방면      24\n",
       "하천 수위 방면            12\n",
       "2.28 주차장 방면          1\n",
       "광장휴게소 주차장 방면         1\n",
       "관리사무소 입구 방면          1\n",
       "시계탑 삼거리 방면           1\n",
       "두류수영장 뒷편 삼거리 방면      1\n",
       "친수형 휴게마당 방면          1\n",
       "다목적 운동장 방면           1\n",
       "인라인스케이트장 방면          1\n",
       "성당주차장 방면             1\n",
       "성당못 방면               1\n",
       "성당휴게소 사거리 방면         1\n",
       "부용정 입구 방면            1\n",
       "야구장입구 삼거리 방면         1\n",
       "반도지 삼거리 방면           1\n",
       "체육공원 사거리 방면          1\n",
       "산마루휴게소 주차장 방면        1\n",
       "야외음악당옆 인도 방면         1\n",
       "관광정보센터 주차장 방면        1\n",
       "두류테니스장 주차장 방면        1\n",
       "수경지 방면               1\n",
       "Name: 촬영방면정보, dtype: int64"
      ]
     },
     "execution_count": 24,
     "metadata": {},
     "output_type": "execute_result"
    }
   ],
   "source": [
    "daegu_cctv['촬영방면정보'].value_counts()"
   ]
  },
  {
   "cell_type": "code",
   "execution_count": 25,
   "id": "e619d72c",
   "metadata": {},
   "outputs": [
    {
     "data": {
      "text/plain": [
       "Series([], Name: 보관일수, dtype: int64)"
      ]
     },
     "execution_count": 25,
     "metadata": {},
     "output_type": "execute_result"
    }
   ],
   "source": [
    "daegu_cctv['보관일수'].value_counts()"
   ]
  },
  {
   "cell_type": "code",
   "execution_count": 26,
   "id": "2b970474",
   "metadata": {},
   "outputs": [
    {
     "data": {
      "text/plain": [
       "308"
      ]
     },
     "execution_count": 26,
     "metadata": {},
     "output_type": "execute_result"
    }
   ],
   "source": [
    "daegu_cctv['보관일수'].isna().sum()"
   ]
  },
  {
   "cell_type": "code",
   "execution_count": 27,
   "id": "772d6905",
   "metadata": {},
   "outputs": [
    {
     "data": {
      "text/plain": [
       "308"
      ]
     },
     "execution_count": 27,
     "metadata": {},
     "output_type": "execute_result"
    }
   ],
   "source": [
    "daegu_cctv['보관일수'].isna().sum()"
   ]
  },
  {
   "cell_type": "code",
   "execution_count": 28,
   "id": "7684306a",
   "metadata": {},
   "outputs": [
    {
     "data": {
      "text/plain": [
       "관리기관명         0\n",
       "소재지도로명주소      0\n",
       "소재지지번주소       0\n",
       "설치목적구분        0\n",
       "카메라대수         0\n",
       "카메라화소수        0\n",
       "촬영방면정보        0\n",
       "보관일수        308\n",
       "설치년월          0\n",
       "관리기관전화번호      0\n",
       "위도            0\n",
       "경도            0\n",
       "데이터기준일자       0\n",
       "dtype: int64"
      ]
     },
     "execution_count": 28,
     "metadata": {},
     "output_type": "execute_result"
    }
   ],
   "source": [
    "daegu_cctv.isna().sum()\n",
    "# daegu_cctv.isnull().sum()"
   ]
  },
  {
   "cell_type": "code",
   "execution_count": 29,
   "id": "3b67c28f",
   "metadata": {},
   "outputs": [
    {
     "name": "stdout",
     "output_type": "stream",
     "text": [
      "1988-08\n",
      "2090-07\n"
     ]
    }
   ],
   "source": [
    "print(daegu_cctv['설치년월'].min())\n",
    "print(daegu_cctv['설치년월'].max())"
   ]
  },
  {
   "cell_type": "code",
   "execution_count": 30,
   "id": "3dcb363a",
   "metadata": {
    "scrolled": true
   },
   "outputs": [
    {
     "name": "stdout",
     "output_type": "stream",
     "text": [
      "1988-08    15\n",
      "1989-06     5\n",
      "1990-07     6\n",
      "1991-10     7\n",
      "1994-07     5\n",
      "1994-09     1\n",
      "1997-06     1\n",
      "1998-02     1\n",
      "1998-06     2\n",
      "1999-01     1\n",
      "1999-11     2\n",
      "2000-04     1\n",
      "2000-12     6\n",
      "2002-04    10\n",
      "2002-11     7\n",
      "2003-02     3\n",
      "2004-01     3\n",
      "2006-02     1\n",
      "2007-06     5\n",
      "2007-11     4\n",
      "2008-04     1\n",
      "2009-02    39\n",
      "2010-05     1\n",
      "2010-12    19\n",
      "2011-01     6\n",
      "2011-02     1\n",
      "2011-07    13\n",
      "2011-09     1\n",
      "2011-11     6\n",
      "2012-12     4\n",
      "2013-01     6\n",
      "2013-05     1\n",
      "2013-08     6\n",
      "2013-11     2\n",
      "2014-04     5\n",
      "2014-06     6\n",
      "2014-08    18\n",
      "2014-09     4\n",
      "2014-12     2\n",
      "2015-01     6\n",
      "2015-05     8\n",
      "2015-09     1\n",
      "2015-11    20\n",
      "2016-02     2\n",
      "2016-05     1\n",
      "2016-09     1\n",
      "2016-11     2\n",
      "2016-12     6\n",
      "2017-03     2\n",
      "2017-05    30\n",
      "2089-06     1\n",
      "2090-07     1\n",
      "Name: 설치년월, dtype: int64\n"
     ]
    }
   ],
   "source": [
    "print(daegu_cctv['설치년월'].value_counts().sort_index())"
   ]
  },
  {
   "cell_type": "code",
   "execution_count": 31,
   "id": "f45fb9bc",
   "metadata": {},
   "outputs": [
    {
     "data": {
      "text/plain": [
       "053-803-4887    145\n",
       "053-803-4573    131\n",
       "053-803-7482     20\n",
       "053-803-2672     12\n",
       "Name: 관리기관전화번호, dtype: int64"
      ]
     },
     "execution_count": 31,
     "metadata": {},
     "output_type": "execute_result"
    }
   ],
   "source": [
    "daegu_cctv['관리기관전화번호'].value_counts()"
   ]
  },
  {
   "cell_type": "code",
   "execution_count": 32,
   "id": "aca20c65",
   "metadata": {},
   "outputs": [
    {
     "data": {
      "text/plain": [
       "2020-03-18    308\n",
       "Name: 데이터기준일자, dtype: int64"
      ]
     },
     "execution_count": 32,
     "metadata": {},
     "output_type": "execute_result"
    }
   ],
   "source": [
    "daegu_cctv['데이터기준일자'].value_counts()"
   ]
  },
  {
   "cell_type": "code",
   "execution_count": 33,
   "id": "d3b3b4ab",
   "metadata": {},
   "outputs": [
    {
     "data": {
      "text/html": [
       "<div>\n",
       "<style scoped>\n",
       "    .dataframe tbody tr th:only-of-type {\n",
       "        vertical-align: middle;\n",
       "    }\n",
       "\n",
       "    .dataframe tbody tr th {\n",
       "        vertical-align: top;\n",
       "    }\n",
       "\n",
       "    .dataframe thead th {\n",
       "        text-align: right;\n",
       "    }\n",
       "</style>\n",
       "<table border=\"1\" class=\"dataframe\">\n",
       "  <thead>\n",
       "    <tr style=\"text-align: right;\">\n",
       "      <th></th>\n",
       "      <th>관리기관명</th>\n",
       "      <th>소재지도로명주소</th>\n",
       "      <th>소재지지번주소</th>\n",
       "      <th>설치목적구분</th>\n",
       "      <th>카메라대수</th>\n",
       "      <th>카메라화소수</th>\n",
       "      <th>촬영방면정보</th>\n",
       "      <th>보관일수</th>\n",
       "      <th>설치년월</th>\n",
       "      <th>관리기관전화번호</th>\n",
       "      <th>위도</th>\n",
       "      <th>경도</th>\n",
       "      <th>데이터기준일자</th>\n",
       "    </tr>\n",
       "  </thead>\n",
       "  <tbody>\n",
       "    <tr>\n",
       "      <th>230</th>\n",
       "      <td>대구광역시청</td>\n",
       "      <td>대구광역시 서구 평리동 718-1</td>\n",
       "      <td>대구광역시 서구 평리동 718-1</td>\n",
       "      <td>교통정보수집</td>\n",
       "      <td>1</td>\n",
       "      <td>41</td>\n",
       "      <td>자동차 진행 방면</td>\n",
       "      <td>NaN</td>\n",
       "      <td>2090-07</td>\n",
       "      <td>053-803-4573</td>\n",
       "      <td>35.872292</td>\n",
       "      <td>128.571114</td>\n",
       "      <td>2020-03-18</td>\n",
       "    </tr>\n",
       "    <tr>\n",
       "      <th>245</th>\n",
       "      <td>대구광역시청</td>\n",
       "      <td>대구광역시 중구 동산동 312</td>\n",
       "      <td>대구광역시 중구 동산동 312</td>\n",
       "      <td>교통정보수집</td>\n",
       "      <td>1</td>\n",
       "      <td>41</td>\n",
       "      <td>자동차 진행 방면</td>\n",
       "      <td>NaN</td>\n",
       "      <td>2089-06</td>\n",
       "      <td>053-803-4573</td>\n",
       "      <td>35.866438</td>\n",
       "      <td>128.587642</td>\n",
       "      <td>2020-03-18</td>\n",
       "    </tr>\n",
       "  </tbody>\n",
       "</table>\n",
       "</div>"
      ],
      "text/plain": [
       "      관리기관명            소재지도로명주소             소재지지번주소  설치목적구분  카메라대수  카메라화소수  \\\n",
       "230  대구광역시청  대구광역시 서구 평리동 718-1  대구광역시 서구 평리동 718-1  교통정보수집      1      41   \n",
       "245  대구광역시청    대구광역시 중구 동산동 312    대구광역시 중구 동산동 312  교통정보수집      1      41   \n",
       "\n",
       "        촬영방면정보  보관일수     설치년월      관리기관전화번호         위도          경도     데이터기준일자  \n",
       "230  자동차 진행 방면   NaN  2090-07  053-803-4573  35.872292  128.571114  2020-03-18  \n",
       "245  자동차 진행 방면   NaN  2089-06  053-803-4573  35.866438  128.587642  2020-03-18  "
      ]
     },
     "execution_count": 33,
     "metadata": {},
     "output_type": "execute_result"
    }
   ],
   "source": [
    "daegu_cctv[daegu_cctv['설치년월'].isin(['2089-06', '2090-07'])]"
   ]
  },
  {
   "cell_type": "code",
   "execution_count": 34,
   "id": "144baf45",
   "metadata": {},
   "outputs": [
    {
     "data": {
      "text/html": [
       "<div>\n",
       "<style scoped>\n",
       "    .dataframe tbody tr th:only-of-type {\n",
       "        vertical-align: middle;\n",
       "    }\n",
       "\n",
       "    .dataframe tbody tr th {\n",
       "        vertical-align: top;\n",
       "    }\n",
       "\n",
       "    .dataframe thead th {\n",
       "        text-align: right;\n",
       "    }\n",
       "</style>\n",
       "<table border=\"1\" class=\"dataframe\">\n",
       "  <thead>\n",
       "    <tr style=\"text-align: right;\">\n",
       "      <th></th>\n",
       "      <th>관리기관명</th>\n",
       "      <th>소재지도로명주소</th>\n",
       "      <th>소재지지번주소</th>\n",
       "      <th>설치목적구분</th>\n",
       "      <th>카메라대수</th>\n",
       "      <th>카메라화소수</th>\n",
       "      <th>촬영방면정보</th>\n",
       "      <th>보관일수</th>\n",
       "      <th>설치년월</th>\n",
       "      <th>관리기관전화번호</th>\n",
       "      <th>위도</th>\n",
       "      <th>경도</th>\n",
       "      <th>데이터기준일자</th>\n",
       "    </tr>\n",
       "  </thead>\n",
       "  <tbody>\n",
       "    <tr>\n",
       "      <th>220</th>\n",
       "      <td>대구광역시청</td>\n",
       "      <td>대구광역시 북구 복현동 623</td>\n",
       "      <td>대구광역시 북구 복현동 623</td>\n",
       "      <td>교통정보수집</td>\n",
       "      <td>1</td>\n",
       "      <td>41</td>\n",
       "      <td>자동차 진행 방면</td>\n",
       "      <td>NaN</td>\n",
       "      <td>1994-07</td>\n",
       "      <td>053-803-4573</td>\n",
       "      <td>35.897673</td>\n",
       "      <td>128.614996</td>\n",
       "      <td>2020-03-18</td>\n",
       "    </tr>\n",
       "    <tr>\n",
       "      <th>221</th>\n",
       "      <td>대구광역시청</td>\n",
       "      <td>대구광역시 동구 효목동 964</td>\n",
       "      <td>대구광역시 동구 효목동 964</td>\n",
       "      <td>교통정보수집</td>\n",
       "      <td>1</td>\n",
       "      <td>41</td>\n",
       "      <td>자동차 진행 방면</td>\n",
       "      <td>NaN</td>\n",
       "      <td>1990-07</td>\n",
       "      <td>053-803-4573</td>\n",
       "      <td>35.885569</td>\n",
       "      <td>128.633053</td>\n",
       "      <td>2020-03-18</td>\n",
       "    </tr>\n",
       "    <tr>\n",
       "      <th>222</th>\n",
       "      <td>대구광역시청</td>\n",
       "      <td>대구광역시 동구 신암동 368</td>\n",
       "      <td>대구광역시 동구 신암동 368</td>\n",
       "      <td>교통정보수집</td>\n",
       "      <td>1</td>\n",
       "      <td>41</td>\n",
       "      <td>자동차 진행 방면</td>\n",
       "      <td>NaN</td>\n",
       "      <td>1990-07</td>\n",
       "      <td>053-803-4573</td>\n",
       "      <td>35.883319</td>\n",
       "      <td>128.623946</td>\n",
       "      <td>2020-03-18</td>\n",
       "    </tr>\n",
       "    <tr>\n",
       "      <th>223</th>\n",
       "      <td>대구광역시청</td>\n",
       "      <td>대구광역시 동구 신암동 804-4</td>\n",
       "      <td>대구광역시 동구 신암동 804-4</td>\n",
       "      <td>교통정보수집</td>\n",
       "      <td>1</td>\n",
       "      <td>41</td>\n",
       "      <td>자동차 진행 방면</td>\n",
       "      <td>NaN</td>\n",
       "      <td>1990-07</td>\n",
       "      <td>053-803-4573</td>\n",
       "      <td>35.882720</td>\n",
       "      <td>128.613606</td>\n",
       "      <td>2020-03-18</td>\n",
       "    </tr>\n",
       "    <tr>\n",
       "      <th>224</th>\n",
       "      <td>대구광역시청</td>\n",
       "      <td>대구광역시 중구 동인동1가 405-1</td>\n",
       "      <td>대구광역시 중구 동인동1가 405-1</td>\n",
       "      <td>교통정보수집</td>\n",
       "      <td>1</td>\n",
       "      <td>41</td>\n",
       "      <td>자동차 진행 방면</td>\n",
       "      <td>NaN</td>\n",
       "      <td>1988-08</td>\n",
       "      <td>053-803-4573</td>\n",
       "      <td>35.872562</td>\n",
       "      <td>128.604525</td>\n",
       "      <td>2020-03-18</td>\n",
       "    </tr>\n",
       "    <tr>\n",
       "      <th>225</th>\n",
       "      <td>대구광역시청</td>\n",
       "      <td>대구광역시 중구 동인동1가 116-3</td>\n",
       "      <td>대구광역시 중구 동인동1가 116-3</td>\n",
       "      <td>교통정보수집</td>\n",
       "      <td>1</td>\n",
       "      <td>41</td>\n",
       "      <td>자동차 진행 방면</td>\n",
       "      <td>NaN</td>\n",
       "      <td>1988-08</td>\n",
       "      <td>053-803-4573</td>\n",
       "      <td>35.873836</td>\n",
       "      <td>128.601333</td>\n",
       "      <td>2020-03-18</td>\n",
       "    </tr>\n",
       "    <tr>\n",
       "      <th>226</th>\n",
       "      <td>대구광역시청</td>\n",
       "      <td>대구광역시 중구 태평로 3가 225-1</td>\n",
       "      <td>대구광역시 중구 태평로 3가 225-1</td>\n",
       "      <td>교통정보수집</td>\n",
       "      <td>1</td>\n",
       "      <td>41</td>\n",
       "      <td>자동차 진행 방면</td>\n",
       "      <td>NaN</td>\n",
       "      <td>1988-08</td>\n",
       "      <td>053-803-4573</td>\n",
       "      <td>35.876472</td>\n",
       "      <td>128.587980</td>\n",
       "      <td>2020-03-18</td>\n",
       "    </tr>\n",
       "    <tr>\n",
       "      <th>227</th>\n",
       "      <td>대구광역시청</td>\n",
       "      <td>대구광역시 중구 수창동 104-7</td>\n",
       "      <td>대구광역시 중구 수창동 104-7</td>\n",
       "      <td>교통정보수집</td>\n",
       "      <td>1</td>\n",
       "      <td>41</td>\n",
       "      <td>자동차 진행 방면</td>\n",
       "      <td>NaN</td>\n",
       "      <td>1988-08</td>\n",
       "      <td>053-803-4573</td>\n",
       "      <td>35.877673</td>\n",
       "      <td>128.581502</td>\n",
       "      <td>2020-03-18</td>\n",
       "    </tr>\n",
       "    <tr>\n",
       "      <th>228</th>\n",
       "      <td>대구광역시청</td>\n",
       "      <td>대구광역시 서구 비산동 541-25</td>\n",
       "      <td>대구광역시 서구 비산동 541-25</td>\n",
       "      <td>교통정보수집</td>\n",
       "      <td>1</td>\n",
       "      <td>41</td>\n",
       "      <td>자동차 진행 방면</td>\n",
       "      <td>NaN</td>\n",
       "      <td>1990-07</td>\n",
       "      <td>053-803-4573</td>\n",
       "      <td>35.879602</td>\n",
       "      <td>128.571338</td>\n",
       "      <td>2020-03-18</td>\n",
       "    </tr>\n",
       "    <tr>\n",
       "      <th>229</th>\n",
       "      <td>대구광역시청</td>\n",
       "      <td>대구광역시 서구 평리동 1621-26</td>\n",
       "      <td>대구광역시 서구 평리동 1621-26</td>\n",
       "      <td>교통정보수집</td>\n",
       "      <td>1</td>\n",
       "      <td>41</td>\n",
       "      <td>자동차 진행 방면</td>\n",
       "      <td>NaN</td>\n",
       "      <td>2002-04</td>\n",
       "      <td>053-803-4573</td>\n",
       "      <td>35.870471</td>\n",
       "      <td>128.554923</td>\n",
       "      <td>2020-03-18</td>\n",
       "    </tr>\n",
       "    <tr>\n",
       "      <th>230</th>\n",
       "      <td>대구광역시청</td>\n",
       "      <td>대구광역시 서구 평리동 718-1</td>\n",
       "      <td>대구광역시 서구 평리동 718-1</td>\n",
       "      <td>교통정보수집</td>\n",
       "      <td>1</td>\n",
       "      <td>41</td>\n",
       "      <td>자동차 진행 방면</td>\n",
       "      <td>NaN</td>\n",
       "      <td>2090-07</td>\n",
       "      <td>053-803-4573</td>\n",
       "      <td>35.872292</td>\n",
       "      <td>128.571114</td>\n",
       "      <td>2020-03-18</td>\n",
       "    </tr>\n",
       "    <tr>\n",
       "      <th>231</th>\n",
       "      <td>대구광역시청</td>\n",
       "      <td>대구광역시 수성구 범물동 184</td>\n",
       "      <td>대구광역시 수성구 범물동 184</td>\n",
       "      <td>교통정보수집</td>\n",
       "      <td>1</td>\n",
       "      <td>41</td>\n",
       "      <td>자동차 진행 방면</td>\n",
       "      <td>NaN</td>\n",
       "      <td>2002-04</td>\n",
       "      <td>053-803-4573</td>\n",
       "      <td>35.818903</td>\n",
       "      <td>128.649662</td>\n",
       "      <td>2020-03-18</td>\n",
       "    </tr>\n",
       "    <tr>\n",
       "      <th>232</th>\n",
       "      <td>대구광역시청</td>\n",
       "      <td>대구광역시 중구 서성로2가 22-7</td>\n",
       "      <td>대구광역시 중구 서성로2가 22-7</td>\n",
       "      <td>교통정보수집</td>\n",
       "      <td>1</td>\n",
       "      <td>41</td>\n",
       "      <td>자동차 진행 방면</td>\n",
       "      <td>NaN</td>\n",
       "      <td>1988-08</td>\n",
       "      <td>053-803-4573</td>\n",
       "      <td>35.870102</td>\n",
       "      <td>128.587245</td>\n",
       "      <td>2020-03-18</td>\n",
       "    </tr>\n",
       "    <tr>\n",
       "      <th>233</th>\n",
       "      <td>대구광역시청</td>\n",
       "      <td>대구광역시 수성구 황금동 908</td>\n",
       "      <td>대구광역시 수성구 황금동 908</td>\n",
       "      <td>교통정보수집</td>\n",
       "      <td>1</td>\n",
       "      <td>41</td>\n",
       "      <td>자동차 진행 방면</td>\n",
       "      <td>NaN</td>\n",
       "      <td>2000-12</td>\n",
       "      <td>053-803-4573</td>\n",
       "      <td>35.839863</td>\n",
       "      <td>128.624002</td>\n",
       "      <td>2020-03-18</td>\n",
       "    </tr>\n",
       "    <tr>\n",
       "      <th>234</th>\n",
       "      <td>대구광역시청</td>\n",
       "      <td>대구광역시 중구 공평동 101</td>\n",
       "      <td>대구광역시 중구 공평동 101</td>\n",
       "      <td>교통정보수집</td>\n",
       "      <td>1</td>\n",
       "      <td>41</td>\n",
       "      <td>자동차 진행 방면</td>\n",
       "      <td>NaN</td>\n",
       "      <td>1988-08</td>\n",
       "      <td>053-803-4573</td>\n",
       "      <td>35.870117</td>\n",
       "      <td>128.600292</td>\n",
       "      <td>2020-03-18</td>\n",
       "    </tr>\n",
       "    <tr>\n",
       "      <th>235</th>\n",
       "      <td>대구광역시청</td>\n",
       "      <td>대구광역시 중구 동문동 9-86</td>\n",
       "      <td>대구광역시 중구 동문동 9-86</td>\n",
       "      <td>교통정보수집</td>\n",
       "      <td>1</td>\n",
       "      <td>41</td>\n",
       "      <td>자동차 진행 방면</td>\n",
       "      <td>NaN</td>\n",
       "      <td>1988-08</td>\n",
       "      <td>053-803-4573</td>\n",
       "      <td>35.871425</td>\n",
       "      <td>128.600637</td>\n",
       "      <td>2020-03-18</td>\n",
       "    </tr>\n",
       "    <tr>\n",
       "      <th>236</th>\n",
       "      <td>대구광역시청</td>\n",
       "      <td>대구광역시 중구 동인동2가 259</td>\n",
       "      <td>대구광역시 중구 동인동2가 259</td>\n",
       "      <td>교통정보수집</td>\n",
       "      <td>1</td>\n",
       "      <td>41</td>\n",
       "      <td>자동차 진행 방면</td>\n",
       "      <td>NaN</td>\n",
       "      <td>1988-08</td>\n",
       "      <td>053-803-4573</td>\n",
       "      <td>35.869242</td>\n",
       "      <td>128.604063</td>\n",
       "      <td>2020-03-18</td>\n",
       "    </tr>\n",
       "    <tr>\n",
       "      <th>237</th>\n",
       "      <td>대구광역시청</td>\n",
       "      <td>대구광역시 남구 이천동 392-5</td>\n",
       "      <td>대구광역시 남구 이천동 392-5</td>\n",
       "      <td>교통정보수집</td>\n",
       "      <td>1</td>\n",
       "      <td>41</td>\n",
       "      <td>자동차 진행 방면</td>\n",
       "      <td>NaN</td>\n",
       "      <td>1991-10</td>\n",
       "      <td>053-803-4573</td>\n",
       "      <td>35.855533</td>\n",
       "      <td>128.598278</td>\n",
       "      <td>2020-03-18</td>\n",
       "    </tr>\n",
       "    <tr>\n",
       "      <th>238</th>\n",
       "      <td>대구광역시청</td>\n",
       "      <td>대구광역시 남구 대명동 2321-1</td>\n",
       "      <td>대구광역시 남구 대명동 2321-1</td>\n",
       "      <td>교통정보수집</td>\n",
       "      <td>1</td>\n",
       "      <td>41</td>\n",
       "      <td>자동차 진행 방면</td>\n",
       "      <td>NaN</td>\n",
       "      <td>1988-08</td>\n",
       "      <td>053-803-4573</td>\n",
       "      <td>35.857005</td>\n",
       "      <td>128.590701</td>\n",
       "      <td>2020-03-18</td>\n",
       "    </tr>\n",
       "    <tr>\n",
       "      <th>239</th>\n",
       "      <td>대구광역시청</td>\n",
       "      <td>대구광역시 중구 남산동 697-1</td>\n",
       "      <td>대구광역시 중구 남산동 697-1</td>\n",
       "      <td>교통정보수집</td>\n",
       "      <td>1</td>\n",
       "      <td>41</td>\n",
       "      <td>자동차 진행 방면</td>\n",
       "      <td>NaN</td>\n",
       "      <td>1988-08</td>\n",
       "      <td>053-803-4573</td>\n",
       "      <td>35.861246</td>\n",
       "      <td>128.592717</td>\n",
       "      <td>2020-03-18</td>\n",
       "    </tr>\n",
       "    <tr>\n",
       "      <th>240</th>\n",
       "      <td>대구광역시청</td>\n",
       "      <td>대구광역시 남구 대명동 2321-1</td>\n",
       "      <td>대구광역시 남구 대명동 2321-1</td>\n",
       "      <td>교통정보수집</td>\n",
       "      <td>1</td>\n",
       "      <td>41</td>\n",
       "      <td>자동차 진행 방면</td>\n",
       "      <td>NaN</td>\n",
       "      <td>1989-06</td>\n",
       "      <td>053-803-4573</td>\n",
       "      <td>35.856388</td>\n",
       "      <td>128.582857</td>\n",
       "      <td>2020-03-18</td>\n",
       "    </tr>\n",
       "    <tr>\n",
       "      <th>241</th>\n",
       "      <td>대구광역시청</td>\n",
       "      <td>대구광역시 수성구 만촌동 1332</td>\n",
       "      <td>대구광역시 수성구 만촌동 1332</td>\n",
       "      <td>교통정보수집</td>\n",
       "      <td>1</td>\n",
       "      <td>41</td>\n",
       "      <td>자동차 진행 방면</td>\n",
       "      <td>NaN</td>\n",
       "      <td>2002-04</td>\n",
       "      <td>053-803-4573</td>\n",
       "      <td>35.876600</td>\n",
       "      <td>128.644991</td>\n",
       "      <td>2020-03-18</td>\n",
       "    </tr>\n",
       "    <tr>\n",
       "      <th>242</th>\n",
       "      <td>대구광역시청</td>\n",
       "      <td>대구광역시 남구 대명동 1291</td>\n",
       "      <td>대구광역시 남구 대명동 1291</td>\n",
       "      <td>교통정보수집</td>\n",
       "      <td>1</td>\n",
       "      <td>41</td>\n",
       "      <td>자동차 진행 방면</td>\n",
       "      <td>NaN</td>\n",
       "      <td>2002-11</td>\n",
       "      <td>053-803-4573</td>\n",
       "      <td>35.848742</td>\n",
       "      <td>128.579866</td>\n",
       "      <td>2020-03-18</td>\n",
       "    </tr>\n",
       "    <tr>\n",
       "      <th>243</th>\n",
       "      <td>대구광역시청</td>\n",
       "      <td>대구광역시 서구 내당동 1290</td>\n",
       "      <td>대구광역시 서구 내당동 1290</td>\n",
       "      <td>교통정보수집</td>\n",
       "      <td>1</td>\n",
       "      <td>41</td>\n",
       "      <td>자동차 진행 방면</td>\n",
       "      <td>NaN</td>\n",
       "      <td>1989-06</td>\n",
       "      <td>053-803-4573</td>\n",
       "      <td>35.862095</td>\n",
       "      <td>128.572056</td>\n",
       "      <td>2020-03-18</td>\n",
       "    </tr>\n",
       "    <tr>\n",
       "      <th>244</th>\n",
       "      <td>대구광역시청</td>\n",
       "      <td>대구광역시 북구 태전동 991</td>\n",
       "      <td>대구광역시 북구 태전동 991</td>\n",
       "      <td>교통정보수집</td>\n",
       "      <td>1</td>\n",
       "      <td>41</td>\n",
       "      <td>자동차 진행 방면</td>\n",
       "      <td>NaN</td>\n",
       "      <td>2002-11</td>\n",
       "      <td>053-803-4573</td>\n",
       "      <td>35.932851</td>\n",
       "      <td>128.548448</td>\n",
       "      <td>2020-03-18</td>\n",
       "    </tr>\n",
       "    <tr>\n",
       "      <th>245</th>\n",
       "      <td>대구광역시청</td>\n",
       "      <td>대구광역시 중구 동산동 312</td>\n",
       "      <td>대구광역시 중구 동산동 312</td>\n",
       "      <td>교통정보수집</td>\n",
       "      <td>1</td>\n",
       "      <td>41</td>\n",
       "      <td>자동차 진행 방면</td>\n",
       "      <td>NaN</td>\n",
       "      <td>2089-06</td>\n",
       "      <td>053-803-4573</td>\n",
       "      <td>35.866438</td>\n",
       "      <td>128.587642</td>\n",
       "      <td>2020-03-18</td>\n",
       "    </tr>\n",
       "    <tr>\n",
       "      <th>246</th>\n",
       "      <td>대구광역시청</td>\n",
       "      <td>대구광역시 중구 봉산동 127-1</td>\n",
       "      <td>대구광역시 중구 봉산동 127-1</td>\n",
       "      <td>교통정보수집</td>\n",
       "      <td>1</td>\n",
       "      <td>41</td>\n",
       "      <td>자동차 진행 방면</td>\n",
       "      <td>NaN</td>\n",
       "      <td>1988-08</td>\n",
       "      <td>053-803-4573</td>\n",
       "      <td>35.863942</td>\n",
       "      <td>128.599459</td>\n",
       "      <td>2020-03-18</td>\n",
       "    </tr>\n",
       "    <tr>\n",
       "      <th>247</th>\n",
       "      <td>대구광역시청</td>\n",
       "      <td>대구광역시 중구 대봉동 654-1</td>\n",
       "      <td>대구광역시 중구 대봉동 654-1</td>\n",
       "      <td>교통정보수집</td>\n",
       "      <td>1</td>\n",
       "      <td>41</td>\n",
       "      <td>자동차 진행 방면</td>\n",
       "      <td>NaN</td>\n",
       "      <td>1988-08</td>\n",
       "      <td>053-803-4573</td>\n",
       "      <td>35.863207</td>\n",
       "      <td>128.602722</td>\n",
       "      <td>2020-03-18</td>\n",
       "    </tr>\n",
       "    <tr>\n",
       "      <th>248</th>\n",
       "      <td>대구광역시청</td>\n",
       "      <td>대구광역시 수성구 수성4가 1186-99</td>\n",
       "      <td>대구광역시 수성구 수성4가 1186-99</td>\n",
       "      <td>교통정보수집</td>\n",
       "      <td>1</td>\n",
       "      <td>41</td>\n",
       "      <td>자동차 진행 방면</td>\n",
       "      <td>NaN</td>\n",
       "      <td>1990-07</td>\n",
       "      <td>053-803-4573</td>\n",
       "      <td>35.859805</td>\n",
       "      <td>128.614098</td>\n",
       "      <td>2020-03-18</td>\n",
       "    </tr>\n",
       "    <tr>\n",
       "      <th>249</th>\n",
       "      <td>대구광역시청</td>\n",
       "      <td>대구광역시 중구 남산동 97-3</td>\n",
       "      <td>대구광역시 중구 남산동 97-3</td>\n",
       "      <td>교통정보수집</td>\n",
       "      <td>1</td>\n",
       "      <td>41</td>\n",
       "      <td>자동차 진행 방면</td>\n",
       "      <td>NaN</td>\n",
       "      <td>1989-06</td>\n",
       "      <td>053-803-4573</td>\n",
       "      <td>35.864913</td>\n",
       "      <td>128.582362</td>\n",
       "      <td>2020-03-18</td>\n",
       "    </tr>\n",
       "    <tr>\n",
       "      <th>250</th>\n",
       "      <td>대구광역시청</td>\n",
       "      <td>대구광역시 수성구 지산동 1086</td>\n",
       "      <td>대구광역시 수성구 지산동 1086</td>\n",
       "      <td>교통정보수집</td>\n",
       "      <td>1</td>\n",
       "      <td>41</td>\n",
       "      <td>자동차 진행 방면</td>\n",
       "      <td>NaN</td>\n",
       "      <td>2007-06</td>\n",
       "      <td>053-803-4573</td>\n",
       "      <td>35.830111</td>\n",
       "      <td>128.623218</td>\n",
       "      <td>2020-03-18</td>\n",
       "    </tr>\n",
       "  </tbody>\n",
       "</table>\n",
       "</div>"
      ],
      "text/plain": [
       "      관리기관명                소재지도로명주소                 소재지지번주소  설치목적구분  카메라대수  \\\n",
       "220  대구광역시청        대구광역시 북구 복현동 623        대구광역시 북구 복현동 623  교통정보수집      1   \n",
       "221  대구광역시청        대구광역시 동구 효목동 964        대구광역시 동구 효목동 964  교통정보수집      1   \n",
       "222  대구광역시청        대구광역시 동구 신암동 368        대구광역시 동구 신암동 368  교통정보수집      1   \n",
       "223  대구광역시청      대구광역시 동구 신암동 804-4      대구광역시 동구 신암동 804-4  교통정보수집      1   \n",
       "224  대구광역시청    대구광역시 중구 동인동1가 405-1    대구광역시 중구 동인동1가 405-1  교통정보수집      1   \n",
       "225  대구광역시청    대구광역시 중구 동인동1가 116-3    대구광역시 중구 동인동1가 116-3  교통정보수집      1   \n",
       "226  대구광역시청   대구광역시 중구 태평로 3가 225-1   대구광역시 중구 태평로 3가 225-1  교통정보수집      1   \n",
       "227  대구광역시청      대구광역시 중구 수창동 104-7      대구광역시 중구 수창동 104-7  교통정보수집      1   \n",
       "228  대구광역시청     대구광역시 서구 비산동 541-25     대구광역시 서구 비산동 541-25  교통정보수집      1   \n",
       "229  대구광역시청    대구광역시 서구 평리동 1621-26    대구광역시 서구 평리동 1621-26  교통정보수집      1   \n",
       "230  대구광역시청      대구광역시 서구 평리동 718-1      대구광역시 서구 평리동 718-1  교통정보수집      1   \n",
       "231  대구광역시청       대구광역시 수성구 범물동 184       대구광역시 수성구 범물동 184  교통정보수집      1   \n",
       "232  대구광역시청     대구광역시 중구 서성로2가 22-7     대구광역시 중구 서성로2가 22-7  교통정보수집      1   \n",
       "233  대구광역시청       대구광역시 수성구 황금동 908       대구광역시 수성구 황금동 908  교통정보수집      1   \n",
       "234  대구광역시청        대구광역시 중구 공평동 101        대구광역시 중구 공평동 101  교통정보수집      1   \n",
       "235  대구광역시청       대구광역시 중구 동문동 9-86       대구광역시 중구 동문동 9-86  교통정보수집      1   \n",
       "236  대구광역시청      대구광역시 중구 동인동2가 259      대구광역시 중구 동인동2가 259  교통정보수집      1   \n",
       "237  대구광역시청      대구광역시 남구 이천동 392-5      대구광역시 남구 이천동 392-5  교통정보수집      1   \n",
       "238  대구광역시청     대구광역시 남구 대명동 2321-1     대구광역시 남구 대명동 2321-1  교통정보수집      1   \n",
       "239  대구광역시청      대구광역시 중구 남산동 697-1      대구광역시 중구 남산동 697-1  교통정보수집      1   \n",
       "240  대구광역시청     대구광역시 남구 대명동 2321-1     대구광역시 남구 대명동 2321-1  교통정보수집      1   \n",
       "241  대구광역시청      대구광역시 수성구 만촌동 1332      대구광역시 수성구 만촌동 1332  교통정보수집      1   \n",
       "242  대구광역시청       대구광역시 남구 대명동 1291       대구광역시 남구 대명동 1291  교통정보수집      1   \n",
       "243  대구광역시청       대구광역시 서구 내당동 1290       대구광역시 서구 내당동 1290  교통정보수집      1   \n",
       "244  대구광역시청        대구광역시 북구 태전동 991        대구광역시 북구 태전동 991  교통정보수집      1   \n",
       "245  대구광역시청        대구광역시 중구 동산동 312        대구광역시 중구 동산동 312  교통정보수집      1   \n",
       "246  대구광역시청      대구광역시 중구 봉산동 127-1      대구광역시 중구 봉산동 127-1  교통정보수집      1   \n",
       "247  대구광역시청      대구광역시 중구 대봉동 654-1      대구광역시 중구 대봉동 654-1  교통정보수집      1   \n",
       "248  대구광역시청  대구광역시 수성구 수성4가 1186-99  대구광역시 수성구 수성4가 1186-99  교통정보수집      1   \n",
       "249  대구광역시청       대구광역시 중구 남산동 97-3       대구광역시 중구 남산동 97-3  교통정보수집      1   \n",
       "250  대구광역시청      대구광역시 수성구 지산동 1086      대구광역시 수성구 지산동 1086  교통정보수집      1   \n",
       "\n",
       "     카메라화소수     촬영방면정보  보관일수     설치년월      관리기관전화번호         위도          경도  \\\n",
       "220      41  자동차 진행 방면   NaN  1994-07  053-803-4573  35.897673  128.614996   \n",
       "221      41  자동차 진행 방면   NaN  1990-07  053-803-4573  35.885569  128.633053   \n",
       "222      41  자동차 진행 방면   NaN  1990-07  053-803-4573  35.883319  128.623946   \n",
       "223      41  자동차 진행 방면   NaN  1990-07  053-803-4573  35.882720  128.613606   \n",
       "224      41  자동차 진행 방면   NaN  1988-08  053-803-4573  35.872562  128.604525   \n",
       "225      41  자동차 진행 방면   NaN  1988-08  053-803-4573  35.873836  128.601333   \n",
       "226      41  자동차 진행 방면   NaN  1988-08  053-803-4573  35.876472  128.587980   \n",
       "227      41  자동차 진행 방면   NaN  1988-08  053-803-4573  35.877673  128.581502   \n",
       "228      41  자동차 진행 방면   NaN  1990-07  053-803-4573  35.879602  128.571338   \n",
       "229      41  자동차 진행 방면   NaN  2002-04  053-803-4573  35.870471  128.554923   \n",
       "230      41  자동차 진행 방면   NaN  2090-07  053-803-4573  35.872292  128.571114   \n",
       "231      41  자동차 진행 방면   NaN  2002-04  053-803-4573  35.818903  128.649662   \n",
       "232      41  자동차 진행 방면   NaN  1988-08  053-803-4573  35.870102  128.587245   \n",
       "233      41  자동차 진행 방면   NaN  2000-12  053-803-4573  35.839863  128.624002   \n",
       "234      41  자동차 진행 방면   NaN  1988-08  053-803-4573  35.870117  128.600292   \n",
       "235      41  자동차 진행 방면   NaN  1988-08  053-803-4573  35.871425  128.600637   \n",
       "236      41  자동차 진행 방면   NaN  1988-08  053-803-4573  35.869242  128.604063   \n",
       "237      41  자동차 진행 방면   NaN  1991-10  053-803-4573  35.855533  128.598278   \n",
       "238      41  자동차 진행 방면   NaN  1988-08  053-803-4573  35.857005  128.590701   \n",
       "239      41  자동차 진행 방면   NaN  1988-08  053-803-4573  35.861246  128.592717   \n",
       "240      41  자동차 진행 방면   NaN  1989-06  053-803-4573  35.856388  128.582857   \n",
       "241      41  자동차 진행 방면   NaN  2002-04  053-803-4573  35.876600  128.644991   \n",
       "242      41  자동차 진행 방면   NaN  2002-11  053-803-4573  35.848742  128.579866   \n",
       "243      41  자동차 진행 방면   NaN  1989-06  053-803-4573  35.862095  128.572056   \n",
       "244      41  자동차 진행 방면   NaN  2002-11  053-803-4573  35.932851  128.548448   \n",
       "245      41  자동차 진행 방면   NaN  2089-06  053-803-4573  35.866438  128.587642   \n",
       "246      41  자동차 진행 방면   NaN  1988-08  053-803-4573  35.863942  128.599459   \n",
       "247      41  자동차 진행 방면   NaN  1988-08  053-803-4573  35.863207  128.602722   \n",
       "248      41  자동차 진행 방면   NaN  1990-07  053-803-4573  35.859805  128.614098   \n",
       "249      41  자동차 진행 방면   NaN  1989-06  053-803-4573  35.864913  128.582362   \n",
       "250      41  자동차 진행 방면   NaN  2007-06  053-803-4573  35.830111  128.623218   \n",
       "\n",
       "        데이터기준일자  \n",
       "220  2020-03-18  \n",
       "221  2020-03-18  \n",
       "222  2020-03-18  \n",
       "223  2020-03-18  \n",
       "224  2020-03-18  \n",
       "225  2020-03-18  \n",
       "226  2020-03-18  \n",
       "227  2020-03-18  \n",
       "228  2020-03-18  \n",
       "229  2020-03-18  \n",
       "230  2020-03-18  \n",
       "231  2020-03-18  \n",
       "232  2020-03-18  \n",
       "233  2020-03-18  \n",
       "234  2020-03-18  \n",
       "235  2020-03-18  \n",
       "236  2020-03-18  \n",
       "237  2020-03-18  \n",
       "238  2020-03-18  \n",
       "239  2020-03-18  \n",
       "240  2020-03-18  \n",
       "241  2020-03-18  \n",
       "242  2020-03-18  \n",
       "243  2020-03-18  \n",
       "244  2020-03-18  \n",
       "245  2020-03-18  \n",
       "246  2020-03-18  \n",
       "247  2020-03-18  \n",
       "248  2020-03-18  \n",
       "249  2020-03-18  \n",
       "250  2020-03-18  "
      ]
     },
     "execution_count": 34,
     "metadata": {},
     "output_type": "execute_result"
    }
   ],
   "source": [
    "daegu_cctv.loc[220:250, :]"
   ]
  },
  {
   "cell_type": "code",
   "execution_count": 37,
   "id": "5d16f71e",
   "metadata": {},
   "outputs": [],
   "source": [
    "daegu_cctv.loc[daegu_cctv['설치년월'] == '2089-06' , '설치년월'] = '1998-06'"
   ]
  },
  {
   "cell_type": "code",
   "execution_count": 36,
   "id": "14c3fffb",
   "metadata": {},
   "outputs": [
    {
     "data": {
      "text/html": [
       "<div>\n",
       "<style scoped>\n",
       "    .dataframe tbody tr th:only-of-type {\n",
       "        vertical-align: middle;\n",
       "    }\n",
       "\n",
       "    .dataframe tbody tr th {\n",
       "        vertical-align: top;\n",
       "    }\n",
       "\n",
       "    .dataframe thead th {\n",
       "        text-align: right;\n",
       "    }\n",
       "</style>\n",
       "<table border=\"1\" class=\"dataframe\">\n",
       "  <thead>\n",
       "    <tr style=\"text-align: right;\">\n",
       "      <th></th>\n",
       "      <th>관리기관명</th>\n",
       "      <th>소재지도로명주소</th>\n",
       "      <th>소재지지번주소</th>\n",
       "      <th>설치목적구분</th>\n",
       "      <th>카메라대수</th>\n",
       "      <th>카메라화소수</th>\n",
       "      <th>촬영방면정보</th>\n",
       "      <th>보관일수</th>\n",
       "      <th>설치년월</th>\n",
       "      <th>관리기관전화번호</th>\n",
       "      <th>위도</th>\n",
       "      <th>경도</th>\n",
       "      <th>데이터기준일자</th>\n",
       "    </tr>\n",
       "  </thead>\n",
       "  <tbody>\n",
       "    <tr>\n",
       "      <th>245</th>\n",
       "      <td>대구광역시청</td>\n",
       "      <td>대구광역시 중구 동산동 312</td>\n",
       "      <td>대구광역시 중구 동산동 312</td>\n",
       "      <td>교통정보수집</td>\n",
       "      <td>1</td>\n",
       "      <td>41</td>\n",
       "      <td>자동차 진행 방면</td>\n",
       "      <td>NaN</td>\n",
       "      <td>1998-06</td>\n",
       "      <td>053-803-4573</td>\n",
       "      <td>35.866438</td>\n",
       "      <td>128.587642</td>\n",
       "      <td>2020-03-18</td>\n",
       "    </tr>\n",
       "    <tr>\n",
       "      <th>246</th>\n",
       "      <td>대구광역시청</td>\n",
       "      <td>대구광역시 중구 봉산동 127-1</td>\n",
       "      <td>대구광역시 중구 봉산동 127-1</td>\n",
       "      <td>교통정보수집</td>\n",
       "      <td>1</td>\n",
       "      <td>41</td>\n",
       "      <td>자동차 진행 방면</td>\n",
       "      <td>NaN</td>\n",
       "      <td>1988-08</td>\n",
       "      <td>053-803-4573</td>\n",
       "      <td>35.863942</td>\n",
       "      <td>128.599459</td>\n",
       "      <td>2020-03-18</td>\n",
       "    </tr>\n",
       "  </tbody>\n",
       "</table>\n",
       "</div>"
      ],
      "text/plain": [
       "      관리기관명            소재지도로명주소             소재지지번주소  설치목적구분  카메라대수  카메라화소수  \\\n",
       "245  대구광역시청    대구광역시 중구 동산동 312    대구광역시 중구 동산동 312  교통정보수집      1      41   \n",
       "246  대구광역시청  대구광역시 중구 봉산동 127-1  대구광역시 중구 봉산동 127-1  교통정보수집      1      41   \n",
       "\n",
       "        촬영방면정보  보관일수     설치년월      관리기관전화번호         위도          경도     데이터기준일자  \n",
       "245  자동차 진행 방면   NaN  1998-06  053-803-4573  35.866438  128.587642  2020-03-18  \n",
       "246  자동차 진행 방면   NaN  1988-08  053-803-4573  35.863942  128.599459  2020-03-18  "
      ]
     },
     "execution_count": 36,
     "metadata": {},
     "output_type": "execute_result"
    }
   ],
   "source": [
    "daegu_cctv.loc[245:246]"
   ]
  },
  {
   "cell_type": "code",
   "execution_count": 38,
   "id": "f96757d1",
   "metadata": {},
   "outputs": [],
   "source": [
    "daegu_cctv.loc[daegu_cctv['설치년월'] == '2090-07' , '설치년월'] = '1990-07'"
   ]
  },
  {
   "cell_type": "code",
   "execution_count": 39,
   "id": "1e4920f9",
   "metadata": {},
   "outputs": [
    {
     "data": {
      "text/html": [
       "<div>\n",
       "<style scoped>\n",
       "    .dataframe tbody tr th:only-of-type {\n",
       "        vertical-align: middle;\n",
       "    }\n",
       "\n",
       "    .dataframe tbody tr th {\n",
       "        vertical-align: top;\n",
       "    }\n",
       "\n",
       "    .dataframe thead th {\n",
       "        text-align: right;\n",
       "    }\n",
       "</style>\n",
       "<table border=\"1\" class=\"dataframe\">\n",
       "  <thead>\n",
       "    <tr style=\"text-align: right;\">\n",
       "      <th></th>\n",
       "      <th>관리기관명</th>\n",
       "      <th>소재지도로명주소</th>\n",
       "      <th>소재지지번주소</th>\n",
       "      <th>설치목적구분</th>\n",
       "      <th>카메라대수</th>\n",
       "      <th>카메라화소수</th>\n",
       "      <th>촬영방면정보</th>\n",
       "      <th>보관일수</th>\n",
       "      <th>설치년월</th>\n",
       "      <th>관리기관전화번호</th>\n",
       "      <th>위도</th>\n",
       "      <th>경도</th>\n",
       "      <th>데이터기준일자</th>\n",
       "    </tr>\n",
       "  </thead>\n",
       "  <tbody>\n",
       "    <tr>\n",
       "      <th>230</th>\n",
       "      <td>대구광역시청</td>\n",
       "      <td>대구광역시 서구 평리동 718-1</td>\n",
       "      <td>대구광역시 서구 평리동 718-1</td>\n",
       "      <td>교통정보수집</td>\n",
       "      <td>1</td>\n",
       "      <td>41</td>\n",
       "      <td>자동차 진행 방면</td>\n",
       "      <td>NaN</td>\n",
       "      <td>1990-07</td>\n",
       "      <td>053-803-4573</td>\n",
       "      <td>35.872292</td>\n",
       "      <td>128.571114</td>\n",
       "      <td>2020-03-18</td>\n",
       "    </tr>\n",
       "    <tr>\n",
       "      <th>231</th>\n",
       "      <td>대구광역시청</td>\n",
       "      <td>대구광역시 수성구 범물동 184</td>\n",
       "      <td>대구광역시 수성구 범물동 184</td>\n",
       "      <td>교통정보수집</td>\n",
       "      <td>1</td>\n",
       "      <td>41</td>\n",
       "      <td>자동차 진행 방면</td>\n",
       "      <td>NaN</td>\n",
       "      <td>2002-04</td>\n",
       "      <td>053-803-4573</td>\n",
       "      <td>35.818903</td>\n",
       "      <td>128.649662</td>\n",
       "      <td>2020-03-18</td>\n",
       "    </tr>\n",
       "  </tbody>\n",
       "</table>\n",
       "</div>"
      ],
      "text/plain": [
       "      관리기관명            소재지도로명주소             소재지지번주소  설치목적구분  카메라대수  카메라화소수  \\\n",
       "230  대구광역시청  대구광역시 서구 평리동 718-1  대구광역시 서구 평리동 718-1  교통정보수집      1      41   \n",
       "231  대구광역시청   대구광역시 수성구 범물동 184   대구광역시 수성구 범물동 184  교통정보수집      1      41   \n",
       "\n",
       "        촬영방면정보  보관일수     설치년월      관리기관전화번호         위도          경도     데이터기준일자  \n",
       "230  자동차 진행 방면   NaN  1990-07  053-803-4573  35.872292  128.571114  2020-03-18  \n",
       "231  자동차 진행 방면   NaN  2002-04  053-803-4573  35.818903  128.649662  2020-03-18  "
      ]
     },
     "execution_count": 39,
     "metadata": {},
     "output_type": "execute_result"
    }
   ],
   "source": [
    "daegu_cctv.loc[230:231]"
   ]
  },
  {
   "cell_type": "code",
   "execution_count": null,
   "id": "b155ffa9",
   "metadata": {},
   "outputs": [],
   "source": [
    "daegu_cctv['설치년월'].max()"
   ]
  },
  {
   "cell_type": "code",
   "execution_count": null,
   "id": "d3f75b0c",
   "metadata": {},
   "outputs": [],
   "source": [
    "daegu_cctv.isna().sum()"
   ]
  },
  {
   "cell_type": "code",
   "execution_count": null,
   "id": "45141c6d",
   "metadata": {},
   "outputs": [],
   "source": [
    "daegu_cctv.shape"
   ]
  },
  {
   "cell_type": "code",
   "execution_count": null,
   "id": "0d011f63",
   "metadata": {},
   "outputs": [],
   "source": [
    "daegu_cctv.dropna(how='all', inplace=True)"
   ]
  },
  {
   "cell_type": "code",
   "execution_count": null,
   "id": "dbc3fc69",
   "metadata": {},
   "outputs": [],
   "source": [
    "daegu_cctv.shape"
   ]
  },
  {
   "cell_type": "code",
   "execution_count": null,
   "id": "3772f74d",
   "metadata": {},
   "outputs": [],
   "source": [
    "daegu_cctv.columns "
   ]
  },
  {
   "cell_type": "code",
   "execution_count": null,
   "id": "7b5cbdea",
   "metadata": {},
   "outputs": [],
   "source": [
    "daegu_cctv = daegu_cctv[['소재지도로명주소', '설치목적구분', '설치년월', '위도', '경도']] \n",
    "daegu_cctv.head(3)"
   ]
  },
  {
   "cell_type": "code",
   "execution_count": null,
   "id": "c5931566",
   "metadata": {},
   "outputs": [],
   "source": [
    "# print(daegu_cctv['소재지도로명주소'])\n",
    "print(daegu_cctv['소재지도로명주소'][0].split())\n",
    "print(daegu_cctv['소재지도로명주소'][0].split()[1])\n",
    "print(daegu_cctv['소재지도로명주소'][1].split()[1])\n",
    "print(daegu_cctv['소재지도로명주소'][2].split()[1])"
   ]
  },
  {
   "cell_type": "code",
   "execution_count": null,
   "id": "5866d3cc",
   "metadata": {},
   "outputs": [],
   "source": [
    "for eachAddress in daegu_cctv['소재지도로명주소']:\n",
    "    print(eachAddress.split()[1])"
   ]
  },
  {
   "cell_type": "code",
   "execution_count": null,
   "id": "45acbb63",
   "metadata": {},
   "outputs": [],
   "source": [
    "[eachAddress.split()[1] for eachAddress in daegu_cctv['소재지도로명주소']]"
   ]
  },
  {
   "cell_type": "code",
   "execution_count": null,
   "id": "09fe7142",
   "metadata": {},
   "outputs": [],
   "source": [
    "daegu_cctv['구'] = [eachAddress.split()[1] for eachAddress in daegu_cctv['소재지도로명주소']]"
   ]
  },
  {
   "cell_type": "code",
   "execution_count": null,
   "id": "01770eb0",
   "metadata": {},
   "outputs": [],
   "source": [
    "daegu_cctv.head(3)"
   ]
  },
  {
   "cell_type": "code",
   "execution_count": null,
   "id": "1492580b",
   "metadata": {},
   "outputs": [],
   "source": [
    "def get_gu(address):\n",
    "    return address.split()[1]"
   ]
  },
  {
   "cell_type": "code",
   "execution_count": null,
   "id": "192e0e6a",
   "metadata": {},
   "outputs": [],
   "source": [
    "daegu_cctv['구'] = daegu_cctv['소재지도로명주소'].apply(get_gu)"
   ]
  },
  {
   "cell_type": "code",
   "execution_count": null,
   "id": "f93d9246",
   "metadata": {},
   "outputs": [],
   "source": [
    "daegu_cctv[['소재지도로명주소', '구']]"
   ]
  },
  {
   "cell_type": "code",
   "execution_count": null,
   "id": "31c31e64",
   "metadata": {},
   "outputs": [],
   "source": [
    "daegu_cctv['구'].value_counts()"
   ]
  },
  {
   "cell_type": "code",
   "execution_count": null,
   "id": "374fba20",
   "metadata": {},
   "outputs": [],
   "source": [
    "daegu_cctv[daegu_cctv['구'] == '청도군']\n",
    "daegu_cctv[daegu_cctv['구'] == '청도군'].index\n",
    "daegu_cctv[daegu_cctv['구'] == '청도군'].index[0]\n",
    "daegu_cctv.drop(daegu_cctv[daegu_cctv['구'] == '청도군'].index[0], inplace=True)\n",
    "daegu_cctv['구'].value_counts()"
   ]
  },
  {
   "cell_type": "code",
   "execution_count": null,
   "id": "48f6da9d",
   "metadata": {},
   "outputs": [],
   "source": [
    "daegu_cctv.info()"
   ]
  },
  {
   "cell_type": "code",
   "execution_count": null,
   "id": "02fcb6c0",
   "metadata": {},
   "outputs": [],
   "source": [
    "daegu_cctv.head(2)"
   ]
  },
  {
   "cell_type": "code",
   "execution_count": null,
   "id": "4b892458",
   "metadata": {},
   "outputs": [],
   "source": [
    "daegu_cctv['설치년'] = pd.to_datetime(daegu_cctv['설치년월'], format='%Y-%m').dt.year\n",
    "daegu_cctv['설치월'] = pd.to_datetime(daegu_cctv['설치년월'], format='%Y-%m').dt.month\n",
    "daegu_cctv.head(3)"
   ]
  },
  {
   "cell_type": "code",
   "execution_count": null,
   "id": "c237fa18",
   "metadata": {},
   "outputs": [],
   "source": [
    "# def aaa(x):\n",
    "#     return 1 if int(x) >= 2016 esle 0"
   ]
  },
  {
   "cell_type": "code",
   "execution_count": null,
   "id": "878887d1",
   "metadata": {},
   "outputs": [],
   "source": [
    "daegu_cctv['최근설치'] = daegu_cctv['설치년'].apply(lambda x : 1 if int(x) >= 2016 else 0)\n",
    "daegu_cctv.head(3)"
   ]
  },
  {
   "cell_type": "code",
   "execution_count": null,
   "id": "aa76e8c5",
   "metadata": {},
   "outputs": [],
   "source": [
    "daegu_cctv['설치목적'] = daegu_cctv['설치목적구분']\n",
    "daegu_cctv.head(3)"
   ]
  },
  {
   "cell_type": "code",
   "execution_count": null,
   "id": "909ec121",
   "metadata": {},
   "outputs": [],
   "source": [
    "daegu_cctv = pd.get_dummies(daegu_cctv, columns=['설치목적구분'])\n",
    "daegu_cctv.head(3)"
   ]
  },
  {
   "cell_type": "code",
   "execution_count": null,
   "id": "a40f4ba3",
   "metadata": {},
   "outputs": [],
   "source": [
    "daegu_cctv.rename(columns = {'설치목적구분_교통단속':'교통단속', \n",
    "                             '설치목적구분_교통정보수집':'교통정보수집',\n",
    "                             '설치목적구분_생활방범':'생활방범',\n",
    "                             '설치목적구분_재난재해':'재난재해',\n",
    "                             }, inplace = True)"
   ]
  },
  {
   "cell_type": "code",
   "execution_count": null,
   "id": "51a721a6",
   "metadata": {},
   "outputs": [],
   "source": [
    "daegu_cctv.head(3)"
   ]
  },
  {
   "cell_type": "code",
   "execution_count": null,
   "id": "a856984b",
   "metadata": {},
   "outputs": [],
   "source": [
    "s1 = daegu_cctv.groupby('설치년')['설치년'].count()\n",
    "s1.head(3)"
   ]
  },
  {
   "cell_type": "code",
   "execution_count": null,
   "id": "9f61f19b",
   "metadata": {},
   "outputs": [],
   "source": [
    "s1.index"
   ]
  },
  {
   "cell_type": "code",
   "execution_count": null,
   "id": "72f5d326",
   "metadata": {},
   "outputs": [],
   "source": [
    "plt.figure(figsize=(12, 5))\n",
    "plt.plot(s1.index, s1.values, marker='o')\n",
    "plt.xlabel('설치년')\n",
    "plt.ylabel('설치개수')\n",
    "plt.xticks(s1.index)\n",
    "plt.grid(True, axis='y')\n",
    "plt.show()"
   ]
  },
  {
   "cell_type": "code",
   "execution_count": null,
   "id": "ce3757f5",
   "metadata": {},
   "outputs": [],
   "source": [
    "plt.figure(figsize=(12, 5))\n",
    "plt.bar(s1.index, s1.values)\n",
    "plt.xlabel('설치년')\n",
    "plt.ylabel('설치개수')\n",
    "plt.xticks(s1.index, rotation=40)\n",
    "plt.grid(True, axis='y')\n",
    "plt.show()"
   ]
  },
  {
   "cell_type": "code",
   "execution_count": null,
   "id": "d311214b",
   "metadata": {},
   "outputs": [],
   "source": [
    "dc1 = daegu_cctv.groupby(['설치년', '설치목적'])['설치년월'].count().reset_index()\n",
    "dc1.rename(columns = {'설치년월':'설치개수'}, inplace = True)\n",
    "dc1.head(3)"
   ]
  },
  {
   "cell_type": "code",
   "execution_count": null,
   "id": "7a2aeab3",
   "metadata": {},
   "outputs": [],
   "source": [
    "dc1['설치목적'].value_counts()"
   ]
  },
  {
   "cell_type": "code",
   "execution_count": null,
   "id": "125ccf6e",
   "metadata": {},
   "outputs": [],
   "source": [
    "dc1_1 = dc1[dc1['설치목적'] == '교통정보수집']\n",
    "dc1_2 = dc1[dc1['설치목적'] == '교통단속']\n",
    "dc1_3 = dc1[dc1['설치목적'] == '재난재해']\n",
    "dc1_4 = dc1[dc1['설치목적'] == '생활방범']"
   ]
  },
  {
   "cell_type": "code",
   "execution_count": null,
   "id": "20543f4f",
   "metadata": {},
   "outputs": [],
   "source": [
    "plt.figure(figsize=(12, 5))\n",
    "plt.plot(dc1_1['설치년'], dc1_1['설치개수'], marker='*', label='교통정보수집')\n",
    "plt.plot(dc1_2['설치년'], dc1_2['설치개수'], marker='^', label='교통단속')\n",
    "plt.plot(dc1_3['설치년'], dc1_3['설치개수'], marker='<', label='재난재해')\n",
    "plt.plot(dc1_4['설치년'], dc1_4['설치개수'], marker='>', label='생활방범')\n",
    "plt.xticks(s1.index, rotation=40)\n",
    "plt.legend()\n",
    "plt.grid(True, axis='y')\n",
    "plt.show()"
   ]
  },
  {
   "cell_type": "code",
   "execution_count": null,
   "id": "2b262b14",
   "metadata": {},
   "outputs": [],
   "source": [
    "dc1_4"
   ]
  },
  {
   "cell_type": "code",
   "execution_count": null,
   "id": "d0f732a8",
   "metadata": {},
   "outputs": [],
   "source": [
    "daegu_cctv"
   ]
  },
  {
   "cell_type": "code",
   "execution_count": null,
   "id": "1a192d0b",
   "metadata": {},
   "outputs": [],
   "source": [
    "plt.figure(figsize=(12, 5))\n",
    "sns.countplot(x='설치년', data=daegu_cctv)\n",
    "plt.grid(True, axis='y')\n",
    "plt.show()"
   ]
  },
  {
   "cell_type": "code",
   "execution_count": null,
   "id": "f483a9ac",
   "metadata": {},
   "outputs": [],
   "source": [
    "plt.figure(figsize=(12, 5))\n",
    "sns.countplot(x='설치년', hue='설치목적', data=daegu_cctv)\n",
    "plt.grid(True, axis='y')\n",
    "plt.show()"
   ]
  },
  {
   "cell_type": "code",
   "execution_count": null,
   "id": "d094bd37",
   "metadata": {},
   "outputs": [],
   "source": [
    "plt.figure(figsize=(12, 8))\n",
    "sns.lineplot(x='설치년', y='설치개수', hue='설치목적', style='설치목적', markers=True, data=dc1)\n",
    "plt.xticks(dc1['설치년'].values)\n",
    "plt.grid(True, axis='y')\n",
    "plt.show()"
   ]
  },
  {
   "cell_type": "markdown",
   "id": "742c0b8a",
   "metadata": {},
   "source": [
    "- pip install folium"
   ]
  },
  {
   "cell_type": "code",
   "execution_count": null,
   "id": "9b7892cb",
   "metadata": {},
   "outputs": [],
   "source": [
    "map = folium.Map(location=[35.872149814444164,128.6016540684953], zoom_start=12)\n",
    "\n",
    "# # 모든 cctv를 지도에 표시\n",
    "for n in daegu_cctv.index:\n",
    "    folium.Marker([daegu_cctv.loc[n, '위도'], daegu_cctv.loc[n, '경도']], popup=daegu_cctv.loc[n, '소재지도로명주소'], icon=folium.Icon(color='red',icon='info-sign')).add_to(map)\n",
    "    \n",
    "map    "
   ]
  },
  {
   "cell_type": "code",
   "execution_count": null,
   "id": "cfb101fe",
   "metadata": {},
   "outputs": [],
   "source": [
    "map.save('대구_CCTV_위치.html')"
   ]
  },
  {
   "cell_type": "code",
   "execution_count": null,
   "id": "712c75be",
   "metadata": {},
   "outputs": [],
   "source": [
    "daegu_cctv_gu = daegu_cctv.groupby('구')[['설치년월', '최근설치', '교통단속', '교통정보수집', '생활방범', '재난재해']].agg({\n",
    "    '설치년월':'count', '최근설치':'sum', '교통단속':'sum', '교통정보수집':'sum', '생활방범':'sum', '재난재해':'sum'})\n",
    "daegu_cctv_gu.head(2)"
   ]
  },
  {
   "cell_type": "code",
   "execution_count": null,
   "id": "104ccda9",
   "metadata": {},
   "outputs": [],
   "source": [
    "daegu_cctv_gu.rename(columns = {'설치년월':'설치개수', '최근설치':'최근설치개수'}, inplace = True)\n",
    "daegu_cctv_gu.head(3)"
   ]
  },
  {
   "cell_type": "code",
   "execution_count": null,
   "id": "eeff6f4b",
   "metadata": {},
   "outputs": [],
   "source": [
    "daegu_cctv_gu['이전설치개수'] = daegu_cctv_gu['설치개수'] - daegu_cctv_gu['최근설치개수']\n",
    "daegu_cctv_gu.head(3)"
   ]
  },
  {
   "cell_type": "code",
   "execution_count": null,
   "id": "b4ce1dc0",
   "metadata": {},
   "outputs": [],
   "source": [
    "daegu_cctv_gu['cctv개수증가율'] = daegu_cctv_gu['최근설치개수'] / daegu_cctv_gu['이전설치개수'] * 100\n",
    "daegu_cctv_gu[['설치개수', '이전설치개수', '최근설치개수', 'cctv개수증가율']]"
   ]
  },
  {
   "cell_type": "code",
   "execution_count": null,
   "id": "99c6f304",
   "metadata": {},
   "outputs": [],
   "source": [
    "s2 = daegu_cctv_gu['설치개수'].sort_values()\n",
    "s3 = daegu_cctv_gu['최근설치개수'].sort_values()\n",
    "s4 = daegu_cctv_gu['cctv개수증가율'].sort_values()"
   ]
  },
  {
   "cell_type": "code",
   "execution_count": null,
   "id": "47da660c",
   "metadata": {},
   "outputs": [],
   "source": [
    "plt.figure(figsize=(12, 3))\n",
    "plt.barh(s2.index.to_list(), s2.values)\n",
    "plt.xlabel('구')\n",
    "plt.ylabel('설치개수')\n",
    "plt.xticks(np.arange(0, s2.max()+1, 5))\n",
    "plt.grid(True, axis='x')\n",
    "plt.show()"
   ]
  },
  {
   "cell_type": "code",
   "execution_count": null,
   "id": "1accd10b",
   "metadata": {},
   "outputs": [],
   "source": [
    "plt.figure(figsize=(12, 3))\n",
    "plt.barh(s3.index.to_list(), s3.values)\n",
    "plt.xlabel('구')\n",
    "plt.ylabel('최근설치개수')\n",
    "plt.xticks(np.arange(0, s3.max()+1))\n",
    "plt.grid(True, axis='x')\n",
    "plt.show()"
   ]
  },
  {
   "cell_type": "code",
   "execution_count": null,
   "id": "c70ae41b",
   "metadata": {},
   "outputs": [],
   "source": [
    "plt.figure(figsize=(12, 3))\n",
    "plt.barh(s4.index.to_list(), s4.values)\n",
    "plt.xlabel('구')\n",
    "plt.ylabel('cctv 증가율')\n",
    "plt.xticks(np.arange(0, s4.max()+1, 5))\n",
    "plt.grid(True, axis='x')\n",
    "plt.show()"
   ]
  },
  {
   "cell_type": "code",
   "execution_count": null,
   "id": "1d2d40a9",
   "metadata": {},
   "outputs": [],
   "source": [
    "daegu_cctv_gu"
   ]
  },
  {
   "cell_type": "code",
   "execution_count": null,
   "id": "7b427bba",
   "metadata": {},
   "outputs": [],
   "source": [
    "plt.figure(figsize=(12, 6))\n",
    "plt.plot(daegu_cctv_gu.index, daegu_cctv_gu['교통단속'], marker='*')\n",
    "plt.plot(daegu_cctv_gu.index, daegu_cctv_gu['교통정보수집'], marker='o')\n",
    "plt.plot(daegu_cctv_gu.index, daegu_cctv_gu['생활방범'], marker='^')\n",
    "plt.plot(daegu_cctv_gu.index, daegu_cctv_gu['재난재해'], marker='<')\n",
    "plt.yticks(np.arange(0, 50, 5))\n",
    "plt.grid(True, axis='y')\n",
    "plt.legend(['교통단속', '교통정보수집', '생활방범', '재난재해'])\n",
    "plt.show()"
   ]
  },
  {
   "cell_type": "code",
   "execution_count": null,
   "id": "3278c423",
   "metadata": {},
   "outputs": [],
   "source": [
    "x_index = np.arange(0, len(daegu_cctv_gu.index))\n",
    "bar_width = 0.2\n",
    "\n",
    "plt.figure(figsize=(16, 6))\n",
    "plt.bar(x_index, daegu_cctv_gu['교통단속'], bar_width)\n",
    "plt.bar(x_index + bar_width, daegu_cctv_gu['교통정보수집'], bar_width)\n",
    "plt.bar(x_index + (bar_width * 2), daegu_cctv_gu['생활방범'], bar_width)\n",
    "plt.bar(x_index + (bar_width * 3), daegu_cctv_gu['재난재해'], bar_width)\n",
    "plt.xticks(x_index, daegu_cctv_gu.index)\n",
    "plt.yticks(np.arange(0, 45, 5))\n",
    "plt.grid(True, axis='y')\n",
    "plt.legend(['교통단속', '교통정보수집', '생활방범', '재난재해'])\n",
    "plt.show()"
   ]
  },
  {
   "cell_type": "code",
   "execution_count": null,
   "id": "da903d8e",
   "metadata": {},
   "outputs": [],
   "source": [
    "plt.figure(figsize=(12, 8))\n",
    "plt.bar(daegu_cctv_gu.index, daegu_cctv_gu['교통단속'])\n",
    "plt.bar(daegu_cctv_gu.index, daegu_cctv_gu['교통정보수집'], bottom=daegu_cctv_gu['교통단속'])\n",
    "plt.bar(daegu_cctv_gu.index, daegu_cctv_gu['생활방범'], bottom=daegu_cctv_gu['교통단속'] + daegu_cctv_gu['교통정보수집'])\n",
    "plt.bar(daegu_cctv_gu.index, daegu_cctv_gu['재난재해'], bottom=daegu_cctv_gu['교통단속'] + daegu_cctv_gu['교통정보수집'] + daegu_cctv_gu['생활방범'])\n",
    "plt.yticks(np.arange(0, 70, 5))\n",
    "plt.grid(True, axis='y')\n",
    "plt.legend(['교통단속', '교통정보수집', '생활방범', '재난재해'])\n",
    "plt.show()"
   ]
  },
  {
   "cell_type": "code",
   "execution_count": null,
   "id": "670f4daa",
   "metadata": {},
   "outputs": [],
   "source": [
    "daegu_people = pd.read_csv('./data/d_people__20211028201839.csv',  encoding='euc-kr')\n",
    "daegu_people"
   ]
  },
  {
   "cell_type": "code",
   "execution_count": null,
   "id": "a7c61c03",
   "metadata": {},
   "outputs": [],
   "source": [
    "daegu_people.shape"
   ]
  },
  {
   "cell_type": "code",
   "execution_count": null,
   "id": "ebc0b475",
   "metadata": {},
   "outputs": [],
   "source": [
    "daegu_people = daegu_people.loc[3:]\n",
    "daegu_people.head()"
   ]
  },
  {
   "cell_type": "code",
   "execution_count": null,
   "id": "eee037f6",
   "metadata": {},
   "outputs": [],
   "source": [
    "daegu_people['항목'] != '계'"
   ]
  },
  {
   "cell_type": "code",
   "execution_count": null,
   "id": "1f8cdd6a",
   "metadata": {},
   "outputs": [],
   "source": [
    "daegu_people = daegu_people[daegu_people['항목'] != '계']\n",
    "daegu_people.head()"
   ]
  },
  {
   "cell_type": "code",
   "execution_count": null,
   "id": "ac805add",
   "metadata": {},
   "outputs": [],
   "source": [
    "daegu_people.rename(columns = {'연령별(1)':'구분', \n",
    "                             '행정구역(동읍면)별(1)':'구',\n",
    "                             '항목':'성별'}, inplace = True)\n",
    "daegu_people.head(3)"
   ]
  },
  {
   "cell_type": "code",
   "execution_count": null,
   "id": "67974105",
   "metadata": {},
   "outputs": [],
   "source": [
    "dpa = daegu_people.groupby('구분')[['2011', '2012', '2013', '2014', '2015', '2016', '2017', '2018', '2019']].sum()\n",
    "dpa"
   ]
  },
  {
   "cell_type": "code",
   "execution_count": null,
   "id": "b03e239a",
   "metadata": {},
   "outputs": [],
   "source": [
    "plt.figure(figsize=(12, 6))\n",
    "sns.lineplot(x=dpa.columns, y=dpa.iloc[0], marker='o')\n",
    "plt.grid(True, axis='y')\n",
    "plt.show()"
   ]
  },
  {
   "cell_type": "code",
   "execution_count": null,
   "id": "839bf0d7",
   "metadata": {},
   "outputs": [],
   "source": [
    "dps = daegu_people.groupby('성별')[['2011', '2012', '2013', '2014', '2015', '2016', '2017', '2018', '2019']].sum()\n",
    "dps"
   ]
  },
  {
   "cell_type": "code",
   "execution_count": null,
   "id": "edb1eed5",
   "metadata": {},
   "outputs": [],
   "source": [
    "plt.figure(figsize=(12, 6))\n",
    "sns.lineplot(x=dps.columns, y=dps.iloc[0], marker='o')\n",
    "sns.lineplot(x=dps.columns, y=dps.iloc[1], marker='^')\n",
    "plt.grid(True, axis='y')\n",
    "plt.legend(['남자', '여자'])\n",
    "plt.show()"
   ]
  },
  {
   "cell_type": "code",
   "execution_count": null,
   "id": "27f17fab",
   "metadata": {},
   "outputs": [],
   "source": [
    "daegu_people.shape"
   ]
  },
  {
   "cell_type": "code",
   "execution_count": null,
   "id": "179939d9",
   "metadata": {},
   "outputs": [],
   "source": [
    "plt.figure(figsize=(12, 6))\n",
    "sns.barplot(x='구', y='2019', hue='성별', data=daegu_people)\n",
    "plt.grid(True, axis='y')\n",
    "plt.show()"
   ]
  },
  {
   "cell_type": "code",
   "execution_count": null,
   "id": "0660c35d",
   "metadata": {},
   "outputs": [],
   "source": [
    "daegu_people"
   ]
  },
  {
   "cell_type": "code",
   "execution_count": null,
   "id": "3c73920a",
   "metadata": {},
   "outputs": [],
   "source": [
    "dpm = daegu_people.loc[daegu_people['성별'] == '남자', ['구', '2015', '2019']]\n",
    "dpw = daegu_people.loc[daegu_people['성별'] == '여자', ['구', '2015', '2019']]\n",
    "dpm.columns = ['구', '2015_남', '2019_남']\n",
    "dpw.columns = ['구', '2015_여', '2019_여']\n",
    "print(dpm.head(3))\n",
    "print('--------------------')\n",
    "print(dpw.head(3))"
   ]
  },
  {
   "cell_type": "code",
   "execution_count": null,
   "id": "829d0a6f",
   "metadata": {},
   "outputs": [],
   "source": [
    "daegu_cctv_gu = pd.merge(daegu_cctv_gu, dpm, on='구', how='left')\n",
    "daegu_cctv_gu = pd.merge(daegu_cctv_gu, dpw, on='구', how='left')\n",
    "daegu_cctv_gu"
   ]
  },
  {
   "cell_type": "code",
   "execution_count": null,
   "id": "c456e346",
   "metadata": {},
   "outputs": [],
   "source": [
    "daegu_cctv_gu"
   ]
  },
  {
   "cell_type": "code",
   "execution_count": null,
   "id": "05ed51cc",
   "metadata": {},
   "outputs": [],
   "source": [
    "daegu_cctv_gu['2015_총'] = daegu_cctv_gu['2015_남'] + daegu_cctv_gu['2015_여']\n",
    "daegu_cctv_gu['2019_총'] = daegu_cctv_gu['2019_남'] + daegu_cctv_gu['2019_여']\n",
    "daegu_cctv_gu.head(3)"
   ]
  },
  {
   "cell_type": "code",
   "execution_count": null,
   "id": "d3013539",
   "metadata": {},
   "outputs": [],
   "source": [
    "daegu_cctv_gu['인구증가수_남'] = daegu_cctv_gu['2019_남'] - daegu_cctv_gu['2015_남']\n",
    "daegu_cctv_gu['인구증가수_여'] = daegu_cctv_gu['2019_여'] - daegu_cctv_gu['2015_여']\n",
    "daegu_cctv_gu['인구증가수_총'] = daegu_cctv_gu['2019_총'] - daegu_cctv_gu['2015_총']\n",
    "daegu_cctv_gu"
   ]
  },
  {
   "cell_type": "code",
   "execution_count": null,
   "id": "962ad436",
   "metadata": {
    "scrolled": false
   },
   "outputs": [],
   "source": [
    "daegu_cctv_gu.set_index('구', inplace=True)\n",
    "daegu_cctv_gu.head(3)"
   ]
  },
  {
   "cell_type": "code",
   "execution_count": null,
   "id": "1736602c",
   "metadata": {},
   "outputs": [],
   "source": [
    "daegu_cctv_gu.drop('교통단속', axis=1, inplace=True)\n",
    "daegu_cctv_gu.drop('교통정보수집', axis=1, inplace=True)\n",
    "daegu_cctv_gu.drop('생활방범', axis=1, inplace=True)\n",
    "daegu_cctv_gu.drop('재난재해', axis=1, inplace=True)\n",
    "daegu_cctv_gu.drop('2015_남', axis=1, inplace=True)\n",
    "daegu_cctv_gu.drop('2015_여', axis=1, inplace=True)\n",
    "daegu_cctv_gu.drop('2015_총', axis=1, inplace=True)\n",
    "daegu_cctv_gu.head(3)"
   ]
  },
  {
   "cell_type": "code",
   "execution_count": null,
   "id": "fa95531d",
   "metadata": {},
   "outputs": [],
   "source": [
    "daegu_cctv_gu.rename(columns = {'2019_남' : '인구수_남'}, inplace=True)\n",
    "daegu_cctv_gu.rename(columns = {'2019_여' : '인구수_여'}, inplace=True)\n",
    "daegu_cctv_gu.rename(columns = {'2019_총' : '인구수_총'}, inplace=True)\n",
    "daegu_cctv_gu.head(3)"
   ]
  },
  {
   "cell_type": "code",
   "execution_count": null,
   "id": "683745f4",
   "metadata": {},
   "outputs": [],
   "source": [
    "daegu_cctv_gu.shape"
   ]
  },
  {
   "cell_type": "code",
   "execution_count": null,
   "id": "57bf6d25",
   "metadata": {},
   "outputs": [],
   "source": [
    "daegu_cctv_gu.info()"
   ]
  },
  {
   "cell_type": "code",
   "execution_count": null,
   "id": "996f5903",
   "metadata": {},
   "outputs": [],
   "source": [
    "daegu_cctv_gu.describe()"
   ]
  },
  {
   "cell_type": "code",
   "execution_count": null,
   "id": "fc989927",
   "metadata": {},
   "outputs": [],
   "source": [
    "# 전체 cctv 개당 인구수\n",
    "daegu_cctv_gu['인구수_총'].sum() / daegu_cctv_gu['설치개수'].sum()"
   ]
  },
  {
   "cell_type": "code",
   "execution_count": null,
   "id": "e71564f9",
   "metadata": {},
   "outputs": [],
   "source": [
    "daegu_cctv_gu['인구수_총'] / daegu_cctv_gu['설치개수']"
   ]
  },
  {
   "cell_type": "code",
   "execution_count": null,
   "id": "cf49d831",
   "metadata": {},
   "outputs": [],
   "source": [
    "(daegu_cctv_gu['인구수_총'] / daegu_cctv_gu['설치개수']).plot(kind='barh')"
   ]
  },
  {
   "cell_type": "code",
   "execution_count": null,
   "id": "7edc814f",
   "metadata": {},
   "outputs": [],
   "source": [
    "(daegu_cctv_gu['인구수_총'] / daegu_cctv_gu['설치개수']).sort_values(ascending=False).plot(kind='barh')"
   ]
  },
  {
   "cell_type": "code",
   "execution_count": null,
   "id": "87c4ae2c",
   "metadata": {},
   "outputs": [],
   "source": [
    "plt.figure(figsize=(12, 3))\n",
    "(daegu_cctv_gu['인구수_총'] / daegu_cctv_gu['설치개수']).sort_values(ascending=False).plot(kind='barh')\n",
    "plt.grid(True, axis='x')\n",
    "plt.show()"
   ]
  },
  {
   "cell_type": "code",
   "execution_count": null,
   "id": "9348fe73",
   "metadata": {},
   "outputs": [],
   "source": [
    "dcg_s1 = daegu_cctv_gu['최근설치개수'].sort_values(ascending=False)\n",
    "# 시각화\n",
    "sns.barplot(x=dcg_s1.index,    # '구',\n",
    "            y=dcg_s1.values,     # '최근증가수'\n",
    "            palette='gist_rainbow_r')"
   ]
  },
  {
   "cell_type": "code",
   "execution_count": null,
   "id": "2f24c418",
   "metadata": {},
   "outputs": [],
   "source": [
    "# 인구증가수_총'로 정렬(내림차순)하여 보기 \n",
    "dcg_s2 = daegu_cctv_gu['인구증가수_총'].sort_values(ascending=False)\n",
    "# 시각화\n",
    "sns.barplot(x=dcg_s2.index.tolist(),    # '구',\n",
    "            y=dcg_s2.values.tolist(),     # '인구증가율_수''\n",
    "            palette='viridis_r')\n",
    "plt.show()"
   ]
  },
  {
   "cell_type": "code",
   "execution_count": null,
   "id": "d4ca68b8",
   "metadata": {},
   "outputs": [],
   "source": [
    "plt.rc('axes', unicode_minus=False)"
   ]
  },
  {
   "cell_type": "code",
   "execution_count": null,
   "id": "3a666356",
   "metadata": {},
   "outputs": [],
   "source": [
    "dcg_s5 = daegu_cctv_gu['인구증가수_총'].sort_values(ascending=False)\n",
    "# 시각화\n",
    "sns.barplot(x=dcg_s5.index.tolist(),    # '구',\n",
    "            y=dcg_s5.values.tolist(),     # '인구증가율_수''\n",
    "            palette='viridis_r')\n",
    "plt.show()"
   ]
  },
  {
   "cell_type": "code",
   "execution_count": null,
   "id": "bc02cd2d",
   "metadata": {},
   "outputs": [],
   "source": [
    "dcg_s5 = daegu_cctv_gu['인구증가수_총'].sort_values(ascending=False)\n",
    "# 시각화\n",
    "plt.figure(figsize=(6, 5))\n",
    "sns.barplot(x=dcg_s5.index.tolist(),    # '구',\n",
    "            y=dcg_s5.values.tolist(),     # '인구증가율_수''\n",
    "            palette='viridis_r')\n",
    "plt.grid(True, axis='y')\n",
    "plt.show()"
   ]
  },
  {
   "cell_type": "code",
   "execution_count": null,
   "id": "c66d1913",
   "metadata": {},
   "outputs": [],
   "source": [
    "daegu_cctv_gu.columns"
   ]
  },
  {
   "cell_type": "code",
   "execution_count": null,
   "id": "55620aed",
   "metadata": {},
   "outputs": [],
   "source": [
    "daegu_cctv_gu[col_list].corr()"
   ]
  },
  {
   "cell_type": "code",
   "execution_count": null,
   "id": "9b48b30c",
   "metadata": {},
   "outputs": [],
   "source": [
    "col_list = ['설치개수', '최근설치개수', '인구수_총', '인구증가수_총', '인구증가수_여']\n",
    "plt.figure(figsize=(10, 8))\n",
    "sns.heatmap(daegu_cctv_gu[col_list].corr(), annot=True, cmap=\"YlGnBu\")\n",
    "plt.show()"
   ]
  },
  {
   "cell_type": "code",
   "execution_count": null,
   "id": "219d7967",
   "metadata": {},
   "outputs": [],
   "source": [
    "sns.pairplot(daegu_cctv_gu[col_list])\n",
    "plt.show()"
   ]
  },
  {
   "cell_type": "code",
   "execution_count": null,
   "id": "90695754",
   "metadata": {},
   "outputs": [],
   "source": [
    "daegu_cctv_gu.columns"
   ]
  },
  {
   "cell_type": "code",
   "execution_count": null,
   "id": "f5f561b6",
   "metadata": {},
   "outputs": [],
   "source": [
    "plt.scatter(daegu_cctv_gu['인구수_총'], daegu_cctv_gu['설치개수'])\n",
    "plt.xlabel('인구수_총')\n",
    "plt.ylabel('설치개수')\n",
    "plt.grid()\n",
    "plt.show()"
   ]
  },
  {
   "cell_type": "code",
   "execution_count": null,
   "id": "186c7f74",
   "metadata": {},
   "outputs": [],
   "source": [
    "fp1 = np.polyfit(daegu_cctv_gu['인구수_총'], daegu_cctv_gu['설치개수'], 1)\n",
    "fp1"
   ]
  },
  {
   "cell_type": "code",
   "execution_count": null,
   "id": "dbcb30bf",
   "metadata": {},
   "outputs": [],
   "source": [
    "### poly1d => 함수로 만들어 줌 ###\n",
    "# fp1[0] * 1 + fp1[1]\n",
    "f1 = np.poly1d(fp1)\n",
    "\n",
    "# 5.18623749e-05 * 1 + 2.25697403e+01\n",
    "print(f1(1))\n",
    "# 5.18623749e-05 * 2 + 2.25697403e+01\n",
    "print(f1(2))\n",
    "# 1, 2\n",
    "print(f1([1, 2]))"
   ]
  },
  {
   "cell_type": "code",
   "execution_count": null,
   "id": "8a0abafb",
   "metadata": {},
   "outputs": [],
   "source": [
    "### linspace Test ###\n",
    "# 시작값, 끝값, 몇 개의 요소를 만들지\n",
    "print(np.linspace(0, 10, 1))\n",
    "print(np.linspace(0, 10, 2))\n",
    "print(np.linspace(0, 10, 11))\n",
    "# print(np.linspace(100000, 600000, 100))"
   ]
  },
  {
   "cell_type": "code",
   "execution_count": null,
   "id": "1c91ba5a",
   "metadata": {},
   "outputs": [],
   "source": [
    "fx = np.linspace(50000, 600000, 100)\n",
    "# fx = np.linspace(np.min(daegu_cctv_gu['인구수_총']), np.max(daegu_cctv_gu['인구수_여']), 100)"
   ]
  },
  {
   "cell_type": "code",
   "execution_count": null,
   "id": "6df0347a",
   "metadata": {},
   "outputs": [],
   "source": [
    "plt.figure(figsize=(10,7))\n",
    "plt.scatter(daegu_cctv_gu['인구수_총'], daegu_cctv_gu['설치개수'], s=50)\n",
    "# plt.plot(fx, f1(fx), ls='dashed', lw=2, color='r')\n",
    "plt.plot(fx, f1(fx), 'r--')\n",
    "\n",
    "for n in range(daegu_cctv_gu['인구수_총'].shape[0]):\n",
    "    plt.text(daegu_cctv_gu['인구수_총'][n]+4500, daegu_cctv_gu['설치개수'][n], daegu_cctv_gu.index[n], fontsize=12)\n",
    "\n",
    "plt.xlabel('인구수_총')\n",
    "plt.ylabel('설치개수')\n",
    "# plt.colorbar()\n",
    "plt.grid()\n",
    "plt.show()"
   ]
  },
  {
   "cell_type": "code",
   "execution_count": null,
   "id": "1622b486",
   "metadata": {
    "scrolled": true
   },
   "outputs": [],
   "source": [
    "sns.lmplot(x = '인구수_총',\n",
    "           y = '설치개수',\n",
    "           data = daegu_cctv_gu)\n",
    "plt.show()"
   ]
  },
  {
   "cell_type": "code",
   "execution_count": null,
   "id": "c650cd36",
   "metadata": {},
   "outputs": [],
   "source": [
    "plt.scatter(daegu_cctv_gu['인구수_여'], daegu_cctv_gu['설치개수'], s=50)\n",
    "plt.xlabel('인구수_여')\n",
    "plt.ylabel('설치개수')\n",
    "plt.grid()\n",
    "plt.show()"
   ]
  },
  {
   "cell_type": "code",
   "execution_count": null,
   "id": "dc94fc8c",
   "metadata": {},
   "outputs": [],
   "source": [
    "fp1 = np.polyfit(daegu_cctv_gu['인구수_여'], daegu_cctv_gu['설치개수'], 1)\n",
    "f1 = np.poly1d(fp1)\n",
    "fx = np.linspace(40000, 350000, 100)\n",
    "# fx = np.linspace(np.min(daegu_cctv_gu['인구수_여']), np.max(daegu_cctv_gu['인구수_여']), 100)\n",
    "\n",
    "plt.figure(figsize=(10,7))\n",
    "plt.scatter(daegu_cctv_gu['인구수_여'], daegu_cctv_gu['설치개수'], s=50)\n",
    "# plt.plot(fx, f1(fx), ls='dashed', lw=2, color='r')\n",
    "plt.plot(fx, f1(fx), 'r--')\n",
    "\n",
    "for n in range(daegu_cctv_gu['인구수_여'].shape[0]):\n",
    "    plt.text(daegu_cctv_gu['인구수_여'][n]+4500, daegu_cctv_gu['설치개수'][n], daegu_cctv_gu.index[n], fontsize=12)\n",
    "\n",
    "plt.xlabel('인구수_여')\n",
    "plt.ylabel('설치개수')\n",
    "# plt.colorbar()\n",
    "plt.grid()\n",
    "plt.show()"
   ]
  },
  {
   "cell_type": "code",
   "execution_count": null,
   "id": "98fe2f6a",
   "metadata": {},
   "outputs": [],
   "source": [
    "plt.figure(figsize=(10, 8))\n",
    "sns.lmplot(x = '인구수_여',\n",
    "           y = '설치개수',\n",
    "           data = daegu_cctv_gu)\n",
    "plt.show()"
   ]
  },
  {
   "cell_type": "code",
   "execution_count": null,
   "id": "864f8a4e",
   "metadata": {},
   "outputs": [],
   "source": [
    "sns.lmplot(x = '인구증가수_여',\n",
    "           y = '최근설치개수',\n",
    "           data = daegu_cctv_gu)\n",
    "plt.show()"
   ]
  },
  {
   "cell_type": "code",
   "execution_count": null,
   "id": "ca74231f",
   "metadata": {},
   "outputs": [],
   "source": [
    "daegu_cctv_gu.boxplot(column='설치개수'  )"
   ]
  },
  {
   "cell_type": "code",
   "execution_count": null,
   "id": "05f7ef86",
   "metadata": {},
   "outputs": [],
   "source": [
    "daegu_cctv_gu.boxplot(column=['인구수_남', '인구수_여'] )"
   ]
  },
  {
   "cell_type": "code",
   "execution_count": null,
   "id": "4527affd",
   "metadata": {},
   "outputs": [],
   "source": [
    "sns.boxplot(y=\"최근설치개수\", data=daegu_cctv_gu, palette=\"Set3\")"
   ]
  },
  {
   "cell_type": "code",
   "execution_count": null,
   "id": "cf42dc09",
   "metadata": {},
   "outputs": [],
   "source": [
    "sns.boxplot(y=\"설치개수\", data=daegu_cctv_gu, palette=\"Set3\")"
   ]
  },
  {
   "cell_type": "code",
   "execution_count": null,
   "id": "46344e0c",
   "metadata": {},
   "outputs": [],
   "source": [
    "# 각 구청의 위도 정보를 Series로 생성\n",
    "se_x = pd.Series([35.869478,35.872019, 35.846242, 35.85803,35.885644 ,35.886584 ,35.830182 ,35.774859 ],\n",
    "               index=[\"중구\", \"서구\", \"남구\", \"수성구\", \"북구\",\"동구\", \"달서구\", \"달성군\"], name=\"위도\")\n",
    "\n",
    "# 각 구청의 경도 정보를 Series로 생성\n",
    "se_y = pd.Series([128.6039893,128.5569713, 128.5955493, 128.6284373,128.5809731 ,128.6333593 ,128.5307293 ,128.4295003 ],\n",
    "               index=[\"중구\", \"서구\", \"남구\", \"수성구\", \"북구\",\"동구\", \"달서구\", \"달성군\"], name=\"경도\")\n",
    "\n",
    "# 구청의 위/경도 정보를 합치기\n",
    "daegu_cctv_gu = pd.concat([daegu_cctv_gu, se_x], axis=1)\n",
    "daegu_cctv_gu = pd.concat([daegu_cctv_gu, se_y], axis=1)\n",
    "daegu_cctv_gu"
   ]
  },
  {
   "cell_type": "code",
   "execution_count": null,
   "id": "894eedeb",
   "metadata": {},
   "outputs": [],
   "source": [
    "daegu_cctv_gu = daegu_cctv_gu.reset_index()"
   ]
  },
  {
   "cell_type": "code",
   "execution_count": null,
   "id": "1270af94",
   "metadata": {},
   "outputs": [],
   "source": [
    "daegu_cctv_gu.rename(columns = {'index':'구'}, inplace = True)"
   ]
  },
  {
   "cell_type": "code",
   "execution_count": null,
   "id": "da9cf2fd",
   "metadata": {},
   "outputs": [],
   "source": [
    "daegu_cctv_gu.head(3)"
   ]
  },
  {
   "cell_type": "code",
   "execution_count": null,
   "id": "59971469",
   "metadata": {},
   "outputs": [],
   "source": [
    "# 대구시청을 중심으로 지도 표현\n",
    "map2 = folium.Map(location=[35.8724,128.5995983], zoom_start=13, tiles='Stamen Toner')\n",
    "\n",
    "# 모든 cctv를 지도에 표시\n",
    "for n in daegu_cctv_gu.index:\n",
    "    folium.Marker([daegu_cctv_gu['위도'][n],daegu_cctv_gu['경도'][n]], popup=\"{} : {}\".format(daegu_cctv_gu['구'][n], daegu_cctv_gu['설치개수'][n]), icon=folium.Icon(color='green',icon='info-sign')).add_to(map2)\n",
    "\n",
    "map2"
   ]
  },
  {
   "cell_type": "code",
   "execution_count": null,
   "id": "94fd49cd",
   "metadata": {},
   "outputs": [],
   "source": [
    "map3 = folium.Map(location=[35.8724,128.5995983], zoom_start=13, tiles='Stamen Toner')\n",
    "\n",
    "# 모든 cctv를 지도에 표시\n",
    "for n in daegu_cctv_gu.index:\n",
    "    folium.Marker([daegu_cctv_gu['위도'][n],daegu_cctv_gu['경도'][n]], popup=\"{} : {}\".format(n, daegu_cctv_gu['설치개수'][n]), icon=folium.Icon(color='green',icon='info-sign')).add_to(map3)\n",
    "    folium.CircleMarker([daegu_cctv_gu['위도'][n],daegu_cctv_gu['경도'][n]], radius=int(daegu_cctv_gu['설치개수'][n]), \n",
    "                        tooltip='{} : {}'.format(daegu_cctv_gu['구'][n], daegu_cctv_gu['설치개수'][n]), color='#258643', fill_color='#258643', ).add_to(map3)\n",
    "\n",
    "map3"
   ]
  },
  {
   "cell_type": "code",
   "execution_count": null,
   "id": "bf353613",
   "metadata": {},
   "outputs": [],
   "source": []
  }
 ],
 "metadata": {
  "kernelspec": {
   "display_name": "Python 3 (ipykernel)",
   "language": "python",
   "name": "python3"
  },
  "language_info": {
   "codemirror_mode": {
    "name": "ipython",
    "version": 3
   },
   "file_extension": ".py",
   "mimetype": "text/x-python",
   "name": "python",
   "nbconvert_exporter": "python",
   "pygments_lexer": "ipython3",
   "version": "3.9.7"
  }
 },
 "nbformat": 4,
 "nbformat_minor": 5
}
