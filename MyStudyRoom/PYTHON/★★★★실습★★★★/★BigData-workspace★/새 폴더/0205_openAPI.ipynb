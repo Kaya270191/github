{
 "cells": [
  {
   "cell_type": "markdown",
   "id": "680a7e60",
   "metadata": {},
   "source": [
    "## 시도별 실시간 측정 정보 조회\n",
    "#### 웹브라우저 test\n",
    "- link http://apis.data.go.kr/B552584/ArpltnInforInqireSvc\n",
    "- key dx787IZ9fd2MlLGJtSAHZ1JhN4mHOCq%2FH8MUynMuKpY6T6cqlUkXMgUtpRCsNXtRkM9TfvjrZw%2FS6ZFQeE%2F69g%3D%3D\n",
    "- http://apis.data.go.kr/B552584/ArpltnInforInqireSvc/getCtprvnRltmMesureDnsty?sidoName=대구&pageNo=1&numOfRows=1000&returnType=json&serviceKey=서비스키&ver=1.0\n",
    "    - numOfRows : 1000/return Type : json/sidoName : 대구/serviceKey=자신의 서비스키\n",
    "    url에 바로 요청할때는 인코딩된 키 입력\n",
    "- link+key \n",
    "http://apis.data.go.kr/B552584/ArpltnInforInqireSvc/getCtprvnRltmMesureDnsty?sidoName=대구&pageNo=1&numOfRows=1000&returnType=json&serviceKey=dx787IZ9fd2MlLGJtSAHZ1JhN4mHOCq%2FH8MUynMuKpY6T6cqlUkXMgUtpRCsNXtRkM9TfvjrZw%2FS6ZFQeE%2F69g%3D%3D&ver=1.0"
   ]
  },
  {
   "cell_type": "code",
   "execution_count": 1,
   "id": "67bfd695",
   "metadata": {},
   "outputs": [],
   "source": [
    "import requests\n",
    "from bs4 import BeautifulSoup"
   ]
  },
  {
   "cell_type": "code",
   "execution_count": 13,
   "id": "c7b9704a",
   "metadata": {},
   "outputs": [],
   "source": [
    "url=\"http://apis.data.go.kr/B552584/ArpltnInforInqireSvc/getCtprvnRltmMesureDnsty\"\n",
    "param_data={\n",
    "    'sidoName':'대구',#요청할 시 도\n",
    "    'pageNo':'1',#페이지 번호\n",
    "    'numOfRows':'1000',\n",
    "    'returnType':'json',#리턴타입\n",
    "    #디코딩된 serviceKey. => param으로 요청시 python에서 인코딩하여 요청\n",
    "    'serviceKey':'dx787IZ9fd2MlLGJtSAHZ1JhN4mHOCq/H8MUynMuKpY6T6cqlUkXMgUtpRCsNXtRkM9TfvjrZw/S6ZFQeE/69g==',\n",
    "    'ver':'1.0'\n",
    "}\n",
    "res=requests.get(url,params=param_data)"
   ]
  },
  {
   "cell_type": "code",
   "execution_count": 14,
   "id": "d026d1ee",
   "metadata": {},
   "outputs": [
    {
     "name": "stdout",
     "output_type": "stream",
     "text": [
      "http://apis.data.go.kr/B552584/ArpltnInforInqireSvc/getCtprvnRltmMesureDnsty?sidoName=%EB%8C%80%EA%B5%AC&pageNo=1&numOfRows=1000&returnType=json&serviceKey=dx787IZ9fd2MlLGJtSAHZ1JhN4mHOCq%2FH8MUynMuKpY6T6cqlUkXMgUtpRCsNXtRkM9TfvjrZw%2FS6ZFQeE%2F69g%3D%3D&ver=1.0\n"
     ]
    }
   ],
   "source": [
    "print(res.url)"
   ]
  },
  {
   "cell_type": "code",
   "execution_count": 16,
   "id": "29647ecf",
   "metadata": {},
   "outputs": [
    {
     "data": {
      "text/plain": [
       "'{\"response\":{\"body\":{\"totalCount\":20,\"items\":[{\"so2Grade\":\"1\",\"coFlag\":null,\"khaiValue\":\"60\",\"so2Value\":\"0.002\",\"coValue\":\"0.2\",\"pm25Flag\":null,\"pm10Flag\":null,\"o3Grade\":\"2\",\"pm10Value\":\"37\",\"khaiGrade\":\"2\",\"pm25Value\":\"5\",\"sidoName\":\"대구\",\"no2Flag\":null,\"no2Grade\":\"1\",\"o3Flag\":null,\"pm25Grade\":\"1\",\"so2Flag\":null,\"dataTime\":\"2022-02-05 15:00\",\"coGrade\":\"1\",\"no2Value\":\"0.008\",\"stationName\":\"수창동\",\"pm10Grade\":\"1\",\"o3Value\":\"0.042\"},{\"so2Grade\":\"1\",\"coFlag\":null,\"khaiValue\":\"53\",\"so2Value\":\"0.004\",\"coValue\":\"0.3\",\"pm25Flag\":null,\"pm10Flag\":null,\"o3Grade\":\"2\",\"pm10Value\":\"33\",\"khaiGrade\":\"2\",\"pm25Value\":\"10\",\"sidoName\":\"대구\",\"no2Flag\":null,\"no2Grade\":\"1\",\"o3Flag\":null,\"pm25Grade\":\"1\",\"so2Flag\":null,\"dataTime\":\"2022-02-05 15:00\",\"coGrade\":\"1\",\"no2Value\":\"0.007\",\"stationName\":\"지산동\",\"pm10Grade\":\"2\",\"o3Value\":\"0.033\"},{\"so2Grade\":\"1\",\"coFlag\":null,\"khaiValue\":\"-\",\"so2Value\":\"0.002\",\"coValue\":\"0.3\",\"pm25Flag\":null,\"pm10Flag\":null,\"o3Grade\":\"2\",\"pm10Value\":\"37\",\"khaiGrade\":null,\"pm25Value\":\"8\",\"sidoName\":\"대구\",\"no2Flag\":null,\"no2Grade\":\"1\",\"o3Flag\":null,\"pm25Grade\":null,\"so2Flag\":null,\"dataTime\":\"2022-02-05 15:00\",\"coGrade\":\"1\",\"no2Value\":\"0.007\",\"stationName\":\"서호동\",\"pm10Grade\":null,\"o3Value\":\"0.037\"},{\"so2Grade\":\"1\",\"coFlag\":null,\"khaiValue\":\"62\",\"so2Value\":\"0.002\",\"coValue\":\"0.3\",\"pm25Flag\":null,\"pm10Flag\":null,\"o3Grade\":\"2\",\"pm10Value\":\"26\",\"khaiGrade\":\"2\",\"pm25Value\":\"7\",\"sidoName\":\"대구\",\"no2Flag\":null,\"no2Grade\":\"1\",\"o3Flag\":null,\"pm25Grade\":\"1\",\"so2Flag\":null,\"dataTime\":\"2022-02-05 15:00\",\"coGrade\":\"1\",\"no2Value\":\"0.005\",\"stationName\":\"이현동\",\"pm10Grade\":\"1\",\"o3Value\":\"0.044\"},{\"so2Grade\":\"1\",\"coFlag\":null,\"khaiValue\":\"60\",\"so2Value\":\"0.002\",\"coValue\":\"0.3\",\"pm25Flag\":null,\"pm10Flag\":null,\"o3Grade\":\"2\",\"pm10Value\":\"43\",\"khaiGrade\":\"2\",\"pm25Value\":\"8\",\"sidoName\":\"대구\",\"no2Flag\":null,\"no2Grade\":\"1\",\"o3Flag\":null,\"pm25Grade\":\"1\",\"so2Flag\":null,\"dataTime\":\"2022-02-05 15:00\",\"coGrade\":\"1\",\"no2Value\":\"0.010\",\"stationName\":\"평리동\",\"pm10Grade\":\"2\",\"o3Value\":\"0.039\"},{\"so2Grade\":\"1\",\"coFlag\":null,\"khaiValue\":\"59\",\"so2Value\":\"0.002\",\"coValue\":\"0.3\",\"pm25Flag\":null,\"pm10Flag\":null,\"o3Grade\":\"2\",\"pm10Value\":\"27\",\"khaiGrade\":\"2\",\"pm25Value\":\"7\",\"sidoName\":\"대구\",\"no2Flag\":null,\"no2Grade\":\"1\",\"o3Flag\":null,\"pm25Grade\":\"1\",\"so2Flag\":null,\"dataTime\":\"2022-02-05 15:00\",\"coGrade\":\"1\",\"no2Value\":\"0.004\",\"stationName\":\"대명동\",\"pm10Grade\":\"1\",\"o3Value\":\"0.041\"},{\"so2Grade\":\"1\",\"coFlag\":null,\"khaiValue\":\"60\",\"so2Value\":\"0.001\",\"coValue\":\"0.5\",\"pm25Flag\":null,\"pm10Flag\":null,\"o3Grade\":\"2\",\"pm10Value\":\"39\",\"khaiGrade\":\"2\",\"pm25Value\":\"6\",\"sidoName\":\"대구\",\"no2Flag\":null,\"no2Grade\":\"1\",\"o3Flag\":null,\"pm25Grade\":\"1\",\"so2Flag\":null,\"dataTime\":\"2022-02-05 15:00\",\"coGrade\":\"1\",\"no2Value\":\"0.005\",\"stationName\":\"신암동\",\"pm10Grade\":\"1\",\"o3Value\":\"0.042\"},{\"so2Grade\":\"1\",\"coFlag\":null,\"khaiValue\":\"60\",\"so2Value\":\"0.002\",\"coValue\":\"0.4\",\"pm25Flag\":null,\"pm10Flag\":null,\"o3Grade\":\"2\",\"pm10Value\":\"34\",\"khaiGrade\":\"2\",\"pm25Value\":\"7\",\"sidoName\":\"대구\",\"no2Flag\":null,\"no2Grade\":\"1\",\"o3Flag\":null,\"pm25Grade\":\"1\",\"so2Flag\":null,\"dataTime\":\"2022-02-05 15:00\",\"coGrade\":\"1\",\"no2Value\":\"0.002\",\"stationName\":\"태전동\",\"pm10Grade\":\"1\",\"o3Value\":\"0.042\"},{\"so2Grade\":\"1\",\"coFlag\":null,\"khaiValue\":\"61\",\"so2Value\":\"0.002\",\"coValue\":\"0.2\",\"pm25Flag\":null,\"pm10Flag\":null,\"o3Grade\":\"2\",\"pm10Value\":\"27\",\"khaiGrade\":\"2\",\"pm25Value\":\"7\",\"sidoName\":\"대구\",\"no2Flag\":null,\"no2Grade\":\"1\",\"o3Flag\":null,\"pm25Grade\":\"1\",\"so2Flag\":null,\"dataTime\":\"2022-02-05 15:00\",\"coGrade\":\"1\",\"no2Value\":\"0.003\",\"stationName\":\"산격동\",\"pm10Grade\":\"1\",\"o3Value\":\"0.043\"},{\"so2Grade\":\"1\",\"coFlag\":null,\"khaiValue\":\"59\",\"so2Value\":\"0.003\",\"coValue\":\"0.4\",\"pm25Flag\":null,\"pm10Flag\":null,\"o3Grade\":\"2\",\"pm10Value\":\"35\",\"khaiGrade\":\"2\",\"pm25Value\":\"2\",\"sidoName\":\"대구\",\"no2Flag\":null,\"no2Grade\":\"1\",\"o3Flag\":null,\"pm25Grade\":\"1\",\"so2Flag\":null,\"dataTime\":\"2022-02-05 15:00\",\"coGrade\":\"1\",\"no2Value\":\"0.009\",\"stationName\":\"만촌동\",\"pm10Grade\":\"1\",\"o3Value\":\"0.041\"},{\"so2Grade\":\"1\",\"coFlag\":null,\"khaiValue\":\"59\",\"so2Value\":\"0.002\",\"coValue\":\"0.3\",\"pm25Flag\":null,\"pm10Flag\":null,\"o3Grade\":\"2\",\"pm10Value\":\"27\",\"khaiGrade\":\"2\",\"pm25Value\":\"8\",\"sidoName\":\"대구\",\"no2Flag\":null,\"no2Grade\":\"1\",\"o3Flag\":null,\"pm25Grade\":\"1\",\"so2Flag\":null,\"dataTime\":\"2022-02-05 15:00\",\"coGrade\":\"1\",\"no2Value\":\"0.005\",\"stationName\":\"호림동\",\"pm10Grade\":\"1\",\"o3Value\":\"0.041\"},{\"so2Grade\":\"1\",\"coFlag\":null,\"khaiValue\":\"61\",\"so2Value\":\"0.002\",\"coValue\":\"0.6\",\"pm25Flag\":null,\"pm10Flag\":null,\"o3Grade\":\"2\",\"pm10Value\":\"21\",\"khaiGrade\":\"2\",\"pm25Value\":\"5\",\"sidoName\":\"대구\",\"no2Flag\":null,\"no2Grade\":\"1\",\"o3Flag\":null,\"pm25Grade\":\"1\",\"so2Flag\":null,\"dataTime\":\"2022-02-05 15:00\",\"coGrade\":\"1\",\"no2Value\":\"0.003\",\"stationName\":\"유가읍\",\"pm10Grade\":\"1\",\"o3Value\":\"0.043\"},{\"so2Grade\":\"1\",\"coFlag\":null,\"khaiValue\":\"61\",\"so2Value\":\"0.002\",\"coValue\":\"0.1\",\"pm25Flag\":null,\"pm10Flag\":null,\"o3Grade\":\"2\",\"pm10Value\":\"26\",\"khaiGrade\":\"2\",\"pm25Value\":\"9\",\"sidoName\":\"대구\",\"no2Flag\":null,\"no2Grade\":\"1\",\"o3Flag\":null,\"pm25Grade\":\"1\",\"so2Flag\":null,\"dataTime\":\"2022-02-05 15:00\",\"coGrade\":\"1\",\"no2Value\":\"0.006\",\"stationName\":\"이곡동\",\"pm10Grade\":\"1\",\"o3Value\":\"0.043\"},{\"so2Grade\":\"1\",\"coFlag\":null,\"khaiValue\":\"59\",\"so2Value\":\"0.002\",\"coValue\":\"0.3\",\"pm25Flag\":null,\"pm10Flag\":null,\"o3Grade\":\"2\",\"pm10Value\":\"30\",\"khaiGrade\":\"2\",\"pm25Value\":\"6\",\"sidoName\":\"대구\",\"no2Flag\":null,\"no2Grade\":\"1\",\"o3Flag\":null,\"pm25Grade\":\"1\",\"so2Flag\":null,\"dataTime\":\"2022-02-05 15:00\",\"coGrade\":\"1\",\"no2Value\":\"0.005\",\"stationName\":\"시지동\",\"pm10Grade\":\"1\",\"o3Value\":\"0.041\"},{\"so2Grade\":\"1\",\"coFlag\":null,\"khaiValue\":\"54\",\"so2Value\":\"0.001\",\"coValue\":\"0.3\",\"pm25Flag\":null,\"pm10Flag\":null,\"o3Grade\":\"1\",\"pm10Value\":\"43\",\"khaiGrade\":\"2\",\"pm25Value\":\"5\",\"sidoName\":\"대구\",\"no2Flag\":null,\"no2Grade\":\"1\",\"o3Flag\":null,\"pm25Grade\":\"1\",\"so2Flag\":null,\"dataTime\":\"2022-02-05 15:00\",\"coGrade\":\"1\",\"no2Value\":\"0.011\",\"stationName\":\"진천동\",\"pm10Grade\":\"2\",\"o3Value\":\"0.027\"},{\"so2Grade\":null,\"coFlag\":null,\"khaiValue\":\"61\",\"so2Value\":\"-\",\"coValue\":\"0.3\",\"pm25Flag\":null,\"pm10Flag\":null,\"o3Grade\":\"2\",\"pm10Value\":\"28\",\"khaiGrade\":\"2\",\"pm25Value\":\"7\",\"sidoName\":\"대구\",\"no2Flag\":null,\"no2Grade\":\"1\",\"o3Flag\":null,\"pm25Grade\":\"1\",\"so2Flag\":\"자료이상\",\"dataTime\":\"2022-02-05 15:00\",\"coGrade\":\"1\",\"no2Value\":\"0.003\",\"stationName\":\"다사읍\",\"pm10Grade\":\"1\",\"o3Value\":\"0.043\"},{\"so2Grade\":\"1\",\"coFlag\":null,\"khaiValue\":\"59\",\"so2Value\":\"0.001\",\"coValue\":\"0.1\",\"pm25Flag\":null,\"pm10Flag\":null,\"o3Grade\":\"2\",\"pm10Value\":\"45\",\"khaiGrade\":\"2\",\"pm25Value\":\"6\",\"sidoName\":\"대구\",\"no2Flag\":null,\"no2Grade\":\"1\",\"o3Flag\":null,\"pm25Grade\":\"1\",\"so2Flag\":null,\"dataTime\":\"2022-02-05 15:00\",\"coGrade\":\"1\",\"no2Value\":\"0.009\",\"stationName\":\"본동\",\"pm10Grade\":\"2\",\"o3Value\":\"0.037\"},{\"so2Grade\":\"1\",\"coFlag\":null,\"khaiValue\":\"60\",\"so2Value\":\"0.002\",\"coValue\":\"0.3\",\"pm25Flag\":null,\"pm10Flag\":null,\"o3Grade\":\"2\",\"pm10Value\":\"29\",\"khaiGrade\":\"2\",\"pm25Value\":\"5\",\"sidoName\":\"대구\",\"no2Flag\":null,\"no2Grade\":\"1\",\"o3Flag\":null,\"pm25Grade\":\"1\",\"so2Flag\":null,\"dataTime\":\"2022-02-05 15:00\",\"coGrade\":\"1\",\"no2Value\":\"0.004\",\"stationName\":\"내당동\",\"pm10Grade\":\"1\",\"o3Value\":\"0.042\"},{\"so2Grade\":\"1\",\"coFlag\":null,\"khaiValue\":\"58\",\"so2Value\":\"0.002\",\"coValue\":\"0.2\",\"pm25Flag\":null,\"pm10Flag\":null,\"o3Grade\":\"2\",\"pm10Value\":\"43\",\"khaiGrade\":\"2\",\"pm25Value\":\"10\",\"sidoName\":\"대구\",\"no2Flag\":null,\"no2Grade\":\"1\",\"o3Flag\":null,\"pm25Grade\":\"1\",\"so2Flag\":null,\"dataTime\":\"2022-02-05 15:00\",\"coGrade\":\"1\",\"no2Value\":\"0.005\",\"stationName\":\"침산동\",\"pm10Grade\":\"1\",\"o3Value\":\"0.039\"},{\"so2Grade\":\"1\",\"coFlag\":null,\"khaiValue\":\"59\",\"so2Value\":\"0.002\",\"coValue\":\"0.2\",\"pm25Flag\":null,\"pm10Flag\":null,\"o3Grade\":\"2\",\"pm10Value\":\"32\",\"khaiGrade\":\"2\",\"pm25Value\":\"9\",\"sidoName\":\"대구\",\"no2Flag\":null,\"no2Grade\":\"1\",\"o3Flag\":null,\"pm25Grade\":\"1\",\"so2Flag\":null,\"dataTime\":\"2022-02-05 15:00\",\"coGrade\":\"1\",\"no2Value\":\"0.005\",\"stationName\":\"화원읍\",\"pm10Grade\":\"1\",\"o3Value\":\"0.041\"}],\"pageNo\":1,\"numOfRows\":1000},\"header\":{\"resultMsg\":\"NORMAL_CODE\",\"resultCode\":\"00\"}}}'"
      ]
     },
     "execution_count": 16,
     "metadata": {},
     "output_type": "execute_result"
    }
   ],
   "source": [
    "res.text"
   ]
  },
  {
   "cell_type": "code",
   "execution_count": 18,
   "id": "f45b9071",
   "metadata": {},
   "outputs": [
    {
     "name": "stdout",
     "output_type": "stream",
     "text": [
      "<class 'dict'>\n",
      "{'response': {'body': {'totalCount': 20, 'items': [{'so2Grade': '1', 'coFlag': None, 'khaiValue': '60', 'so2Value': '0.002', 'coValue': '0.2', 'pm25Flag': None, 'pm10Flag': None, 'o3Grade': '2', 'pm10Value': '37', 'khaiGrade': '2', 'pm25Value': '5', 'sidoName': '대구', 'no2Flag': None, 'no2Grade': '1', 'o3Flag': None, 'pm25Grade': '1', 'so2Flag': None, 'dataTime': '2022-02-05 15:00', 'coGrade': '1', 'no2Value': '0.008', 'stationName': '수창동', 'pm10Grade': '1', 'o3Value': '0.042'}, {'so2Grade': '1', 'coFlag': None, 'khaiValue': '53', 'so2Value': '0.004', 'coValue': '0.3', 'pm25Flag': None, 'pm10Flag': None, 'o3Grade': '2', 'pm10Value': '33', 'khaiGrade': '2', 'pm25Value': '10', 'sidoName': '대구', 'no2Flag': None, 'no2Grade': '1', 'o3Flag': None, 'pm25Grade': '1', 'so2Flag': None, 'dataTime': '2022-02-05 15:00', 'coGrade': '1', 'no2Value': '0.007', 'stationName': '지산동', 'pm10Grade': '2', 'o3Value': '0.033'}, {'so2Grade': '1', 'coFlag': None, 'khaiValue': '-', 'so2Value': '0.002', 'coValue': '0.3', 'pm25Flag': None, 'pm10Flag': None, 'o3Grade': '2', 'pm10Value': '37', 'khaiGrade': None, 'pm25Value': '8', 'sidoName': '대구', 'no2Flag': None, 'no2Grade': '1', 'o3Flag': None, 'pm25Grade': None, 'so2Flag': None, 'dataTime': '2022-02-05 15:00', 'coGrade': '1', 'no2Value': '0.007', 'stationName': '서호동', 'pm10Grade': None, 'o3Value': '0.037'}, {'so2Grade': '1', 'coFlag': None, 'khaiValue': '62', 'so2Value': '0.002', 'coValue': '0.3', 'pm25Flag': None, 'pm10Flag': None, 'o3Grade': '2', 'pm10Value': '26', 'khaiGrade': '2', 'pm25Value': '7', 'sidoName': '대구', 'no2Flag': None, 'no2Grade': '1', 'o3Flag': None, 'pm25Grade': '1', 'so2Flag': None, 'dataTime': '2022-02-05 15:00', 'coGrade': '1', 'no2Value': '0.005', 'stationName': '이현동', 'pm10Grade': '1', 'o3Value': '0.044'}, {'so2Grade': '1', 'coFlag': None, 'khaiValue': '60', 'so2Value': '0.002', 'coValue': '0.3', 'pm25Flag': None, 'pm10Flag': None, 'o3Grade': '2', 'pm10Value': '43', 'khaiGrade': '2', 'pm25Value': '8', 'sidoName': '대구', 'no2Flag': None, 'no2Grade': '1', 'o3Flag': None, 'pm25Grade': '1', 'so2Flag': None, 'dataTime': '2022-02-05 15:00', 'coGrade': '1', 'no2Value': '0.010', 'stationName': '평리동', 'pm10Grade': '2', 'o3Value': '0.039'}, {'so2Grade': '1', 'coFlag': None, 'khaiValue': '59', 'so2Value': '0.002', 'coValue': '0.3', 'pm25Flag': None, 'pm10Flag': None, 'o3Grade': '2', 'pm10Value': '27', 'khaiGrade': '2', 'pm25Value': '7', 'sidoName': '대구', 'no2Flag': None, 'no2Grade': '1', 'o3Flag': None, 'pm25Grade': '1', 'so2Flag': None, 'dataTime': '2022-02-05 15:00', 'coGrade': '1', 'no2Value': '0.004', 'stationName': '대명동', 'pm10Grade': '1', 'o3Value': '0.041'}, {'so2Grade': '1', 'coFlag': None, 'khaiValue': '60', 'so2Value': '0.001', 'coValue': '0.5', 'pm25Flag': None, 'pm10Flag': None, 'o3Grade': '2', 'pm10Value': '39', 'khaiGrade': '2', 'pm25Value': '6', 'sidoName': '대구', 'no2Flag': None, 'no2Grade': '1', 'o3Flag': None, 'pm25Grade': '1', 'so2Flag': None, 'dataTime': '2022-02-05 15:00', 'coGrade': '1', 'no2Value': '0.005', 'stationName': '신암동', 'pm10Grade': '1', 'o3Value': '0.042'}, {'so2Grade': '1', 'coFlag': None, 'khaiValue': '60', 'so2Value': '0.002', 'coValue': '0.4', 'pm25Flag': None, 'pm10Flag': None, 'o3Grade': '2', 'pm10Value': '34', 'khaiGrade': '2', 'pm25Value': '7', 'sidoName': '대구', 'no2Flag': None, 'no2Grade': '1', 'o3Flag': None, 'pm25Grade': '1', 'so2Flag': None, 'dataTime': '2022-02-05 15:00', 'coGrade': '1', 'no2Value': '0.002', 'stationName': '태전동', 'pm10Grade': '1', 'o3Value': '0.042'}, {'so2Grade': '1', 'coFlag': None, 'khaiValue': '61', 'so2Value': '0.002', 'coValue': '0.2', 'pm25Flag': None, 'pm10Flag': None, 'o3Grade': '2', 'pm10Value': '27', 'khaiGrade': '2', 'pm25Value': '7', 'sidoName': '대구', 'no2Flag': None, 'no2Grade': '1', 'o3Flag': None, 'pm25Grade': '1', 'so2Flag': None, 'dataTime': '2022-02-05 15:00', 'coGrade': '1', 'no2Value': '0.003', 'stationName': '산격동', 'pm10Grade': '1', 'o3Value': '0.043'}, {'so2Grade': '1', 'coFlag': None, 'khaiValue': '59', 'so2Value': '0.003', 'coValue': '0.4', 'pm25Flag': None, 'pm10Flag': None, 'o3Grade': '2', 'pm10Value': '35', 'khaiGrade': '2', 'pm25Value': '2', 'sidoName': '대구', 'no2Flag': None, 'no2Grade': '1', 'o3Flag': None, 'pm25Grade': '1', 'so2Flag': None, 'dataTime': '2022-02-05 15:00', 'coGrade': '1', 'no2Value': '0.009', 'stationName': '만촌동', 'pm10Grade': '1', 'o3Value': '0.041'}, {'so2Grade': '1', 'coFlag': None, 'khaiValue': '59', 'so2Value': '0.002', 'coValue': '0.3', 'pm25Flag': None, 'pm10Flag': None, 'o3Grade': '2', 'pm10Value': '27', 'khaiGrade': '2', 'pm25Value': '8', 'sidoName': '대구', 'no2Flag': None, 'no2Grade': '1', 'o3Flag': None, 'pm25Grade': '1', 'so2Flag': None, 'dataTime': '2022-02-05 15:00', 'coGrade': '1', 'no2Value': '0.005', 'stationName': '호림동', 'pm10Grade': '1', 'o3Value': '0.041'}, {'so2Grade': '1', 'coFlag': None, 'khaiValue': '61', 'so2Value': '0.002', 'coValue': '0.6', 'pm25Flag': None, 'pm10Flag': None, 'o3Grade': '2', 'pm10Value': '21', 'khaiGrade': '2', 'pm25Value': '5', 'sidoName': '대구', 'no2Flag': None, 'no2Grade': '1', 'o3Flag': None, 'pm25Grade': '1', 'so2Flag': None, 'dataTime': '2022-02-05 15:00', 'coGrade': '1', 'no2Value': '0.003', 'stationName': '유가읍', 'pm10Grade': '1', 'o3Value': '0.043'}, {'so2Grade': '1', 'coFlag': None, 'khaiValue': '61', 'so2Value': '0.002', 'coValue': '0.1', 'pm25Flag': None, 'pm10Flag': None, 'o3Grade': '2', 'pm10Value': '26', 'khaiGrade': '2', 'pm25Value': '9', 'sidoName': '대구', 'no2Flag': None, 'no2Grade': '1', 'o3Flag': None, 'pm25Grade': '1', 'so2Flag': None, 'dataTime': '2022-02-05 15:00', 'coGrade': '1', 'no2Value': '0.006', 'stationName': '이곡동', 'pm10Grade': '1', 'o3Value': '0.043'}, {'so2Grade': '1', 'coFlag': None, 'khaiValue': '59', 'so2Value': '0.002', 'coValue': '0.3', 'pm25Flag': None, 'pm10Flag': None, 'o3Grade': '2', 'pm10Value': '30', 'khaiGrade': '2', 'pm25Value': '6', 'sidoName': '대구', 'no2Flag': None, 'no2Grade': '1', 'o3Flag': None, 'pm25Grade': '1', 'so2Flag': None, 'dataTime': '2022-02-05 15:00', 'coGrade': '1', 'no2Value': '0.005', 'stationName': '시지동', 'pm10Grade': '1', 'o3Value': '0.041'}, {'so2Grade': '1', 'coFlag': None, 'khaiValue': '54', 'so2Value': '0.001', 'coValue': '0.3', 'pm25Flag': None, 'pm10Flag': None, 'o3Grade': '1', 'pm10Value': '43', 'khaiGrade': '2', 'pm25Value': '5', 'sidoName': '대구', 'no2Flag': None, 'no2Grade': '1', 'o3Flag': None, 'pm25Grade': '1', 'so2Flag': None, 'dataTime': '2022-02-05 15:00', 'coGrade': '1', 'no2Value': '0.011', 'stationName': '진천동', 'pm10Grade': '2', 'o3Value': '0.027'}, {'so2Grade': None, 'coFlag': None, 'khaiValue': '61', 'so2Value': '-', 'coValue': '0.3', 'pm25Flag': None, 'pm10Flag': None, 'o3Grade': '2', 'pm10Value': '28', 'khaiGrade': '2', 'pm25Value': '7', 'sidoName': '대구', 'no2Flag': None, 'no2Grade': '1', 'o3Flag': None, 'pm25Grade': '1', 'so2Flag': '자료이상', 'dataTime': '2022-02-05 15:00', 'coGrade': '1', 'no2Value': '0.003', 'stationName': '다사읍', 'pm10Grade': '1', 'o3Value': '0.043'}, {'so2Grade': '1', 'coFlag': None, 'khaiValue': '59', 'so2Value': '0.001', 'coValue': '0.1', 'pm25Flag': None, 'pm10Flag': None, 'o3Grade': '2', 'pm10Value': '45', 'khaiGrade': '2', 'pm25Value': '6', 'sidoName': '대구', 'no2Flag': None, 'no2Grade': '1', 'o3Flag': None, 'pm25Grade': '1', 'so2Flag': None, 'dataTime': '2022-02-05 15:00', 'coGrade': '1', 'no2Value': '0.009', 'stationName': '본동', 'pm10Grade': '2', 'o3Value': '0.037'}, {'so2Grade': '1', 'coFlag': None, 'khaiValue': '60', 'so2Value': '0.002', 'coValue': '0.3', 'pm25Flag': None, 'pm10Flag': None, 'o3Grade': '2', 'pm10Value': '29', 'khaiGrade': '2', 'pm25Value': '5', 'sidoName': '대구', 'no2Flag': None, 'no2Grade': '1', 'o3Flag': None, 'pm25Grade': '1', 'so2Flag': None, 'dataTime': '2022-02-05 15:00', 'coGrade': '1', 'no2Value': '0.004', 'stationName': '내당동', 'pm10Grade': '1', 'o3Value': '0.042'}, {'so2Grade': '1', 'coFlag': None, 'khaiValue': '58', 'so2Value': '0.002', 'coValue': '0.2', 'pm25Flag': None, 'pm10Flag': None, 'o3Grade': '2', 'pm10Value': '43', 'khaiGrade': '2', 'pm25Value': '10', 'sidoName': '대구', 'no2Flag': None, 'no2Grade': '1', 'o3Flag': None, 'pm25Grade': '1', 'so2Flag': None, 'dataTime': '2022-02-05 15:00', 'coGrade': '1', 'no2Value': '0.005', 'stationName': '침산동', 'pm10Grade': '1', 'o3Value': '0.039'}, {'so2Grade': '1', 'coFlag': None, 'khaiValue': '59', 'so2Value': '0.002', 'coValue': '0.2', 'pm25Flag': None, 'pm10Flag': None, 'o3Grade': '2', 'pm10Value': '32', 'khaiGrade': '2', 'pm25Value': '9', 'sidoName': '대구', 'no2Flag': None, 'no2Grade': '1', 'o3Flag': None, 'pm25Grade': '1', 'so2Flag': None, 'dataTime': '2022-02-05 15:00', 'coGrade': '1', 'no2Value': '0.005', 'stationName': '화원읍', 'pm10Grade': '1', 'o3Value': '0.041'}], 'pageNo': 1, 'numOfRows': 1000}, 'header': {'resultMsg': 'NORMAL_CODE', 'resultCode': '00'}}}\n"
     ]
    }
   ],
   "source": [
    "data=res.json()\n",
    "print(type(data))\n",
    "print(data)"
   ]
  },
  {
   "cell_type": "code",
   "execution_count": 19,
   "id": "fa0dd9da",
   "metadata": {},
   "outputs": [
    {
     "name": "stdout",
     "output_type": "stream",
     "text": [
      "response\n"
     ]
    }
   ],
   "source": [
    "for key in data:\n",
    "    print(key)"
   ]
  },
  {
   "cell_type": "code",
   "execution_count": 25,
   "id": "dc50ab9e",
   "metadata": {
    "scrolled": true
   },
   "outputs": [
    {
     "name": "stdout",
     "output_type": "stream",
     "text": [
      "[{'so2Grade': '1', 'coFlag': None, 'khaiValue': '60', 'so2Value': '0.002', 'coValue': '0.2', 'pm25Flag': None, 'pm10Flag': None, 'o3Grade': '2', 'pm10Value': '37', 'khaiGrade': '2', 'pm25Value': '5', 'sidoName': '대구', 'no2Flag': None, 'no2Grade': '1', 'o3Flag': None, 'pm25Grade': '1', 'so2Flag': None, 'dataTime': '2022-02-05 15:00', 'coGrade': '1', 'no2Value': '0.008', 'stationName': '수창동', 'pm10Grade': '1', 'o3Value': '0.042'}, {'so2Grade': '1', 'coFlag': None, 'khaiValue': '53', 'so2Value': '0.004', 'coValue': '0.3', 'pm25Flag': None, 'pm10Flag': None, 'o3Grade': '2', 'pm10Value': '33', 'khaiGrade': '2', 'pm25Value': '10', 'sidoName': '대구', 'no2Flag': None, 'no2Grade': '1', 'o3Flag': None, 'pm25Grade': '1', 'so2Flag': None, 'dataTime': '2022-02-05 15:00', 'coGrade': '1', 'no2Value': '0.007', 'stationName': '지산동', 'pm10Grade': '2', 'o3Value': '0.033'}, {'so2Grade': '1', 'coFlag': None, 'khaiValue': '-', 'so2Value': '0.002', 'coValue': '0.3', 'pm25Flag': None, 'pm10Flag': None, 'o3Grade': '2', 'pm10Value': '37', 'khaiGrade': None, 'pm25Value': '8', 'sidoName': '대구', 'no2Flag': None, 'no2Grade': '1', 'o3Flag': None, 'pm25Grade': None, 'so2Flag': None, 'dataTime': '2022-02-05 15:00', 'coGrade': '1', 'no2Value': '0.007', 'stationName': '서호동', 'pm10Grade': None, 'o3Value': '0.037'}, {'so2Grade': '1', 'coFlag': None, 'khaiValue': '62', 'so2Value': '0.002', 'coValue': '0.3', 'pm25Flag': None, 'pm10Flag': None, 'o3Grade': '2', 'pm10Value': '26', 'khaiGrade': '2', 'pm25Value': '7', 'sidoName': '대구', 'no2Flag': None, 'no2Grade': '1', 'o3Flag': None, 'pm25Grade': '1', 'so2Flag': None, 'dataTime': '2022-02-05 15:00', 'coGrade': '1', 'no2Value': '0.005', 'stationName': '이현동', 'pm10Grade': '1', 'o3Value': '0.044'}, {'so2Grade': '1', 'coFlag': None, 'khaiValue': '60', 'so2Value': '0.002', 'coValue': '0.3', 'pm25Flag': None, 'pm10Flag': None, 'o3Grade': '2', 'pm10Value': '43', 'khaiGrade': '2', 'pm25Value': '8', 'sidoName': '대구', 'no2Flag': None, 'no2Grade': '1', 'o3Flag': None, 'pm25Grade': '1', 'so2Flag': None, 'dataTime': '2022-02-05 15:00', 'coGrade': '1', 'no2Value': '0.010', 'stationName': '평리동', 'pm10Grade': '2', 'o3Value': '0.039'}, {'so2Grade': '1', 'coFlag': None, 'khaiValue': '59', 'so2Value': '0.002', 'coValue': '0.3', 'pm25Flag': None, 'pm10Flag': None, 'o3Grade': '2', 'pm10Value': '27', 'khaiGrade': '2', 'pm25Value': '7', 'sidoName': '대구', 'no2Flag': None, 'no2Grade': '1', 'o3Flag': None, 'pm25Grade': '1', 'so2Flag': None, 'dataTime': '2022-02-05 15:00', 'coGrade': '1', 'no2Value': '0.004', 'stationName': '대명동', 'pm10Grade': '1', 'o3Value': '0.041'}, {'so2Grade': '1', 'coFlag': None, 'khaiValue': '60', 'so2Value': '0.001', 'coValue': '0.5', 'pm25Flag': None, 'pm10Flag': None, 'o3Grade': '2', 'pm10Value': '39', 'khaiGrade': '2', 'pm25Value': '6', 'sidoName': '대구', 'no2Flag': None, 'no2Grade': '1', 'o3Flag': None, 'pm25Grade': '1', 'so2Flag': None, 'dataTime': '2022-02-05 15:00', 'coGrade': '1', 'no2Value': '0.005', 'stationName': '신암동', 'pm10Grade': '1', 'o3Value': '0.042'}, {'so2Grade': '1', 'coFlag': None, 'khaiValue': '60', 'so2Value': '0.002', 'coValue': '0.4', 'pm25Flag': None, 'pm10Flag': None, 'o3Grade': '2', 'pm10Value': '34', 'khaiGrade': '2', 'pm25Value': '7', 'sidoName': '대구', 'no2Flag': None, 'no2Grade': '1', 'o3Flag': None, 'pm25Grade': '1', 'so2Flag': None, 'dataTime': '2022-02-05 15:00', 'coGrade': '1', 'no2Value': '0.002', 'stationName': '태전동', 'pm10Grade': '1', 'o3Value': '0.042'}, {'so2Grade': '1', 'coFlag': None, 'khaiValue': '61', 'so2Value': '0.002', 'coValue': '0.2', 'pm25Flag': None, 'pm10Flag': None, 'o3Grade': '2', 'pm10Value': '27', 'khaiGrade': '2', 'pm25Value': '7', 'sidoName': '대구', 'no2Flag': None, 'no2Grade': '1', 'o3Flag': None, 'pm25Grade': '1', 'so2Flag': None, 'dataTime': '2022-02-05 15:00', 'coGrade': '1', 'no2Value': '0.003', 'stationName': '산격동', 'pm10Grade': '1', 'o3Value': '0.043'}, {'so2Grade': '1', 'coFlag': None, 'khaiValue': '59', 'so2Value': '0.003', 'coValue': '0.4', 'pm25Flag': None, 'pm10Flag': None, 'o3Grade': '2', 'pm10Value': '35', 'khaiGrade': '2', 'pm25Value': '2', 'sidoName': '대구', 'no2Flag': None, 'no2Grade': '1', 'o3Flag': None, 'pm25Grade': '1', 'so2Flag': None, 'dataTime': '2022-02-05 15:00', 'coGrade': '1', 'no2Value': '0.009', 'stationName': '만촌동', 'pm10Grade': '1', 'o3Value': '0.041'}, {'so2Grade': '1', 'coFlag': None, 'khaiValue': '59', 'so2Value': '0.002', 'coValue': '0.3', 'pm25Flag': None, 'pm10Flag': None, 'o3Grade': '2', 'pm10Value': '27', 'khaiGrade': '2', 'pm25Value': '8', 'sidoName': '대구', 'no2Flag': None, 'no2Grade': '1', 'o3Flag': None, 'pm25Grade': '1', 'so2Flag': None, 'dataTime': '2022-02-05 15:00', 'coGrade': '1', 'no2Value': '0.005', 'stationName': '호림동', 'pm10Grade': '1', 'o3Value': '0.041'}, {'so2Grade': '1', 'coFlag': None, 'khaiValue': '61', 'so2Value': '0.002', 'coValue': '0.6', 'pm25Flag': None, 'pm10Flag': None, 'o3Grade': '2', 'pm10Value': '21', 'khaiGrade': '2', 'pm25Value': '5', 'sidoName': '대구', 'no2Flag': None, 'no2Grade': '1', 'o3Flag': None, 'pm25Grade': '1', 'so2Flag': None, 'dataTime': '2022-02-05 15:00', 'coGrade': '1', 'no2Value': '0.003', 'stationName': '유가읍', 'pm10Grade': '1', 'o3Value': '0.043'}, {'so2Grade': '1', 'coFlag': None, 'khaiValue': '61', 'so2Value': '0.002', 'coValue': '0.1', 'pm25Flag': None, 'pm10Flag': None, 'o3Grade': '2', 'pm10Value': '26', 'khaiGrade': '2', 'pm25Value': '9', 'sidoName': '대구', 'no2Flag': None, 'no2Grade': '1', 'o3Flag': None, 'pm25Grade': '1', 'so2Flag': None, 'dataTime': '2022-02-05 15:00', 'coGrade': '1', 'no2Value': '0.006', 'stationName': '이곡동', 'pm10Grade': '1', 'o3Value': '0.043'}, {'so2Grade': '1', 'coFlag': None, 'khaiValue': '59', 'so2Value': '0.002', 'coValue': '0.3', 'pm25Flag': None, 'pm10Flag': None, 'o3Grade': '2', 'pm10Value': '30', 'khaiGrade': '2', 'pm25Value': '6', 'sidoName': '대구', 'no2Flag': None, 'no2Grade': '1', 'o3Flag': None, 'pm25Grade': '1', 'so2Flag': None, 'dataTime': '2022-02-05 15:00', 'coGrade': '1', 'no2Value': '0.005', 'stationName': '시지동', 'pm10Grade': '1', 'o3Value': '0.041'}, {'so2Grade': '1', 'coFlag': None, 'khaiValue': '54', 'so2Value': '0.001', 'coValue': '0.3', 'pm25Flag': None, 'pm10Flag': None, 'o3Grade': '1', 'pm10Value': '43', 'khaiGrade': '2', 'pm25Value': '5', 'sidoName': '대구', 'no2Flag': None, 'no2Grade': '1', 'o3Flag': None, 'pm25Grade': '1', 'so2Flag': None, 'dataTime': '2022-02-05 15:00', 'coGrade': '1', 'no2Value': '0.011', 'stationName': '진천동', 'pm10Grade': '2', 'o3Value': '0.027'}, {'so2Grade': None, 'coFlag': None, 'khaiValue': '61', 'so2Value': '-', 'coValue': '0.3', 'pm25Flag': None, 'pm10Flag': None, 'o3Grade': '2', 'pm10Value': '28', 'khaiGrade': '2', 'pm25Value': '7', 'sidoName': '대구', 'no2Flag': None, 'no2Grade': '1', 'o3Flag': None, 'pm25Grade': '1', 'so2Flag': '자료이상', 'dataTime': '2022-02-05 15:00', 'coGrade': '1', 'no2Value': '0.003', 'stationName': '다사읍', 'pm10Grade': '1', 'o3Value': '0.043'}, {'so2Grade': '1', 'coFlag': None, 'khaiValue': '59', 'so2Value': '0.001', 'coValue': '0.1', 'pm25Flag': None, 'pm10Flag': None, 'o3Grade': '2', 'pm10Value': '45', 'khaiGrade': '2', 'pm25Value': '6', 'sidoName': '대구', 'no2Flag': None, 'no2Grade': '1', 'o3Flag': None, 'pm25Grade': '1', 'so2Flag': None, 'dataTime': '2022-02-05 15:00', 'coGrade': '1', 'no2Value': '0.009', 'stationName': '본동', 'pm10Grade': '2', 'o3Value': '0.037'}, {'so2Grade': '1', 'coFlag': None, 'khaiValue': '60', 'so2Value': '0.002', 'coValue': '0.3', 'pm25Flag': None, 'pm10Flag': None, 'o3Grade': '2', 'pm10Value': '29', 'khaiGrade': '2', 'pm25Value': '5', 'sidoName': '대구', 'no2Flag': None, 'no2Grade': '1', 'o3Flag': None, 'pm25Grade': '1', 'so2Flag': None, 'dataTime': '2022-02-05 15:00', 'coGrade': '1', 'no2Value': '0.004', 'stationName': '내당동', 'pm10Grade': '1', 'o3Value': '0.042'}, {'so2Grade': '1', 'coFlag': None, 'khaiValue': '58', 'so2Value': '0.002', 'coValue': '0.2', 'pm25Flag': None, 'pm10Flag': None, 'o3Grade': '2', 'pm10Value': '43', 'khaiGrade': '2', 'pm25Value': '10', 'sidoName': '대구', 'no2Flag': None, 'no2Grade': '1', 'o3Flag': None, 'pm25Grade': '1', 'so2Flag': None, 'dataTime': '2022-02-05 15:00', 'coGrade': '1', 'no2Value': '0.005', 'stationName': '침산동', 'pm10Grade': '1', 'o3Value': '0.039'}, {'so2Grade': '1', 'coFlag': None, 'khaiValue': '59', 'so2Value': '0.002', 'coValue': '0.2', 'pm25Flag': None, 'pm10Flag': None, 'o3Grade': '2', 'pm10Value': '32', 'khaiGrade': '2', 'pm25Value': '9', 'sidoName': '대구', 'no2Flag': None, 'no2Grade': '1', 'o3Flag': None, 'pm25Grade': '1', 'so2Flag': None, 'dataTime': '2022-02-05 15:00', 'coGrade': '1', 'no2Value': '0.005', 'stationName': '화원읍', 'pm10Grade': '1', 'o3Value': '0.041'}]\n"
     ]
    }
   ],
   "source": [
    "deagu_items=data['response']['body']['items']\n",
    "print(deagu_items)"
   ]
  },
  {
   "cell_type": "code",
   "execution_count": 26,
   "id": "0fa87d18",
   "metadata": {},
   "outputs": [
    {
     "name": "stdout",
     "output_type": "stream",
     "text": [
      "{'so2Grade': '1', 'coFlag': None, 'khaiValue': '60', 'so2Value': '0.002', 'coValue': '0.2', 'pm25Flag': None, 'pm10Flag': None, 'o3Grade': '2', 'pm10Value': '37', 'khaiGrade': '2', 'pm25Value': '5', 'sidoName': '대구', 'no2Flag': None, 'no2Grade': '1', 'o3Flag': None, 'pm25Grade': '1', 'so2Flag': None, 'dataTime': '2022-02-05 15:00', 'coGrade': '1', 'no2Value': '0.008', 'stationName': '수창동', 'pm10Grade': '1', 'o3Value': '0.042'}\n",
      "\n",
      "{'so2Grade': '1', 'coFlag': None, 'khaiValue': '53', 'so2Value': '0.004', 'coValue': '0.3', 'pm25Flag': None, 'pm10Flag': None, 'o3Grade': '2', 'pm10Value': '33', 'khaiGrade': '2', 'pm25Value': '10', 'sidoName': '대구', 'no2Flag': None, 'no2Grade': '1', 'o3Flag': None, 'pm25Grade': '1', 'so2Flag': None, 'dataTime': '2022-02-05 15:00', 'coGrade': '1', 'no2Value': '0.007', 'stationName': '지산동', 'pm10Grade': '2', 'o3Value': '0.033'}\n",
      "\n",
      "{'so2Grade': '1', 'coFlag': None, 'khaiValue': '-', 'so2Value': '0.002', 'coValue': '0.3', 'pm25Flag': None, 'pm10Flag': None, 'o3Grade': '2', 'pm10Value': '37', 'khaiGrade': None, 'pm25Value': '8', 'sidoName': '대구', 'no2Flag': None, 'no2Grade': '1', 'o3Flag': None, 'pm25Grade': None, 'so2Flag': None, 'dataTime': '2022-02-05 15:00', 'coGrade': '1', 'no2Value': '0.007', 'stationName': '서호동', 'pm10Grade': None, 'o3Value': '0.037'}\n",
      "\n",
      "{'so2Grade': '1', 'coFlag': None, 'khaiValue': '62', 'so2Value': '0.002', 'coValue': '0.3', 'pm25Flag': None, 'pm10Flag': None, 'o3Grade': '2', 'pm10Value': '26', 'khaiGrade': '2', 'pm25Value': '7', 'sidoName': '대구', 'no2Flag': None, 'no2Grade': '1', 'o3Flag': None, 'pm25Grade': '1', 'so2Flag': None, 'dataTime': '2022-02-05 15:00', 'coGrade': '1', 'no2Value': '0.005', 'stationName': '이현동', 'pm10Grade': '1', 'o3Value': '0.044'}\n",
      "\n",
      "{'so2Grade': '1', 'coFlag': None, 'khaiValue': '60', 'so2Value': '0.002', 'coValue': '0.3', 'pm25Flag': None, 'pm10Flag': None, 'o3Grade': '2', 'pm10Value': '43', 'khaiGrade': '2', 'pm25Value': '8', 'sidoName': '대구', 'no2Flag': None, 'no2Grade': '1', 'o3Flag': None, 'pm25Grade': '1', 'so2Flag': None, 'dataTime': '2022-02-05 15:00', 'coGrade': '1', 'no2Value': '0.010', 'stationName': '평리동', 'pm10Grade': '2', 'o3Value': '0.039'}\n",
      "\n",
      "{'so2Grade': '1', 'coFlag': None, 'khaiValue': '59', 'so2Value': '0.002', 'coValue': '0.3', 'pm25Flag': None, 'pm10Flag': None, 'o3Grade': '2', 'pm10Value': '27', 'khaiGrade': '2', 'pm25Value': '7', 'sidoName': '대구', 'no2Flag': None, 'no2Grade': '1', 'o3Flag': None, 'pm25Grade': '1', 'so2Flag': None, 'dataTime': '2022-02-05 15:00', 'coGrade': '1', 'no2Value': '0.004', 'stationName': '대명동', 'pm10Grade': '1', 'o3Value': '0.041'}\n",
      "\n",
      "{'so2Grade': '1', 'coFlag': None, 'khaiValue': '60', 'so2Value': '0.001', 'coValue': '0.5', 'pm25Flag': None, 'pm10Flag': None, 'o3Grade': '2', 'pm10Value': '39', 'khaiGrade': '2', 'pm25Value': '6', 'sidoName': '대구', 'no2Flag': None, 'no2Grade': '1', 'o3Flag': None, 'pm25Grade': '1', 'so2Flag': None, 'dataTime': '2022-02-05 15:00', 'coGrade': '1', 'no2Value': '0.005', 'stationName': '신암동', 'pm10Grade': '1', 'o3Value': '0.042'}\n",
      "\n",
      "{'so2Grade': '1', 'coFlag': None, 'khaiValue': '60', 'so2Value': '0.002', 'coValue': '0.4', 'pm25Flag': None, 'pm10Flag': None, 'o3Grade': '2', 'pm10Value': '34', 'khaiGrade': '2', 'pm25Value': '7', 'sidoName': '대구', 'no2Flag': None, 'no2Grade': '1', 'o3Flag': None, 'pm25Grade': '1', 'so2Flag': None, 'dataTime': '2022-02-05 15:00', 'coGrade': '1', 'no2Value': '0.002', 'stationName': '태전동', 'pm10Grade': '1', 'o3Value': '0.042'}\n",
      "\n",
      "{'so2Grade': '1', 'coFlag': None, 'khaiValue': '61', 'so2Value': '0.002', 'coValue': '0.2', 'pm25Flag': None, 'pm10Flag': None, 'o3Grade': '2', 'pm10Value': '27', 'khaiGrade': '2', 'pm25Value': '7', 'sidoName': '대구', 'no2Flag': None, 'no2Grade': '1', 'o3Flag': None, 'pm25Grade': '1', 'so2Flag': None, 'dataTime': '2022-02-05 15:00', 'coGrade': '1', 'no2Value': '0.003', 'stationName': '산격동', 'pm10Grade': '1', 'o3Value': '0.043'}\n",
      "\n",
      "{'so2Grade': '1', 'coFlag': None, 'khaiValue': '59', 'so2Value': '0.003', 'coValue': '0.4', 'pm25Flag': None, 'pm10Flag': None, 'o3Grade': '2', 'pm10Value': '35', 'khaiGrade': '2', 'pm25Value': '2', 'sidoName': '대구', 'no2Flag': None, 'no2Grade': '1', 'o3Flag': None, 'pm25Grade': '1', 'so2Flag': None, 'dataTime': '2022-02-05 15:00', 'coGrade': '1', 'no2Value': '0.009', 'stationName': '만촌동', 'pm10Grade': '1', 'o3Value': '0.041'}\n",
      "\n",
      "{'so2Grade': '1', 'coFlag': None, 'khaiValue': '59', 'so2Value': '0.002', 'coValue': '0.3', 'pm25Flag': None, 'pm10Flag': None, 'o3Grade': '2', 'pm10Value': '27', 'khaiGrade': '2', 'pm25Value': '8', 'sidoName': '대구', 'no2Flag': None, 'no2Grade': '1', 'o3Flag': None, 'pm25Grade': '1', 'so2Flag': None, 'dataTime': '2022-02-05 15:00', 'coGrade': '1', 'no2Value': '0.005', 'stationName': '호림동', 'pm10Grade': '1', 'o3Value': '0.041'}\n",
      "\n",
      "{'so2Grade': '1', 'coFlag': None, 'khaiValue': '61', 'so2Value': '0.002', 'coValue': '0.6', 'pm25Flag': None, 'pm10Flag': None, 'o3Grade': '2', 'pm10Value': '21', 'khaiGrade': '2', 'pm25Value': '5', 'sidoName': '대구', 'no2Flag': None, 'no2Grade': '1', 'o3Flag': None, 'pm25Grade': '1', 'so2Flag': None, 'dataTime': '2022-02-05 15:00', 'coGrade': '1', 'no2Value': '0.003', 'stationName': '유가읍', 'pm10Grade': '1', 'o3Value': '0.043'}\n",
      "\n",
      "{'so2Grade': '1', 'coFlag': None, 'khaiValue': '61', 'so2Value': '0.002', 'coValue': '0.1', 'pm25Flag': None, 'pm10Flag': None, 'o3Grade': '2', 'pm10Value': '26', 'khaiGrade': '2', 'pm25Value': '9', 'sidoName': '대구', 'no2Flag': None, 'no2Grade': '1', 'o3Flag': None, 'pm25Grade': '1', 'so2Flag': None, 'dataTime': '2022-02-05 15:00', 'coGrade': '1', 'no2Value': '0.006', 'stationName': '이곡동', 'pm10Grade': '1', 'o3Value': '0.043'}\n",
      "\n",
      "{'so2Grade': '1', 'coFlag': None, 'khaiValue': '59', 'so2Value': '0.002', 'coValue': '0.3', 'pm25Flag': None, 'pm10Flag': None, 'o3Grade': '2', 'pm10Value': '30', 'khaiGrade': '2', 'pm25Value': '6', 'sidoName': '대구', 'no2Flag': None, 'no2Grade': '1', 'o3Flag': None, 'pm25Grade': '1', 'so2Flag': None, 'dataTime': '2022-02-05 15:00', 'coGrade': '1', 'no2Value': '0.005', 'stationName': '시지동', 'pm10Grade': '1', 'o3Value': '0.041'}\n",
      "\n",
      "{'so2Grade': '1', 'coFlag': None, 'khaiValue': '54', 'so2Value': '0.001', 'coValue': '0.3', 'pm25Flag': None, 'pm10Flag': None, 'o3Grade': '1', 'pm10Value': '43', 'khaiGrade': '2', 'pm25Value': '5', 'sidoName': '대구', 'no2Flag': None, 'no2Grade': '1', 'o3Flag': None, 'pm25Grade': '1', 'so2Flag': None, 'dataTime': '2022-02-05 15:00', 'coGrade': '1', 'no2Value': '0.011', 'stationName': '진천동', 'pm10Grade': '2', 'o3Value': '0.027'}\n",
      "\n",
      "{'so2Grade': None, 'coFlag': None, 'khaiValue': '61', 'so2Value': '-', 'coValue': '0.3', 'pm25Flag': None, 'pm10Flag': None, 'o3Grade': '2', 'pm10Value': '28', 'khaiGrade': '2', 'pm25Value': '7', 'sidoName': '대구', 'no2Flag': None, 'no2Grade': '1', 'o3Flag': None, 'pm25Grade': '1', 'so2Flag': '자료이상', 'dataTime': '2022-02-05 15:00', 'coGrade': '1', 'no2Value': '0.003', 'stationName': '다사읍', 'pm10Grade': '1', 'o3Value': '0.043'}\n",
      "\n",
      "{'so2Grade': '1', 'coFlag': None, 'khaiValue': '59', 'so2Value': '0.001', 'coValue': '0.1', 'pm25Flag': None, 'pm10Flag': None, 'o3Grade': '2', 'pm10Value': '45', 'khaiGrade': '2', 'pm25Value': '6', 'sidoName': '대구', 'no2Flag': None, 'no2Grade': '1', 'o3Flag': None, 'pm25Grade': '1', 'so2Flag': None, 'dataTime': '2022-02-05 15:00', 'coGrade': '1', 'no2Value': '0.009', 'stationName': '본동', 'pm10Grade': '2', 'o3Value': '0.037'}\n",
      "\n",
      "{'so2Grade': '1', 'coFlag': None, 'khaiValue': '60', 'so2Value': '0.002', 'coValue': '0.3', 'pm25Flag': None, 'pm10Flag': None, 'o3Grade': '2', 'pm10Value': '29', 'khaiGrade': '2', 'pm25Value': '5', 'sidoName': '대구', 'no2Flag': None, 'no2Grade': '1', 'o3Flag': None, 'pm25Grade': '1', 'so2Flag': None, 'dataTime': '2022-02-05 15:00', 'coGrade': '1', 'no2Value': '0.004', 'stationName': '내당동', 'pm10Grade': '1', 'o3Value': '0.042'}\n",
      "\n",
      "{'so2Grade': '1', 'coFlag': None, 'khaiValue': '58', 'so2Value': '0.002', 'coValue': '0.2', 'pm25Flag': None, 'pm10Flag': None, 'o3Grade': '2', 'pm10Value': '43', 'khaiGrade': '2', 'pm25Value': '10', 'sidoName': '대구', 'no2Flag': None, 'no2Grade': '1', 'o3Flag': None, 'pm25Grade': '1', 'so2Flag': None, 'dataTime': '2022-02-05 15:00', 'coGrade': '1', 'no2Value': '0.005', 'stationName': '침산동', 'pm10Grade': '1', 'o3Value': '0.039'}\n",
      "\n",
      "{'so2Grade': '1', 'coFlag': None, 'khaiValue': '59', 'so2Value': '0.002', 'coValue': '0.2', 'pm25Flag': None, 'pm10Flag': None, 'o3Grade': '2', 'pm10Value': '32', 'khaiGrade': '2', 'pm25Value': '9', 'sidoName': '대구', 'no2Flag': None, 'no2Grade': '1', 'o3Flag': None, 'pm25Grade': '1', 'so2Flag': None, 'dataTime': '2022-02-05 15:00', 'coGrade': '1', 'no2Value': '0.005', 'stationName': '화원읍', 'pm10Grade': '1', 'o3Value': '0.041'}\n",
      "\n"
     ]
    }
   ],
   "source": [
    "for item in deagu_items:\n",
    "    print(item)\n",
    "    print(\"\")"
   ]
  },
  {
   "cell_type": "code",
   "execution_count": null,
   "id": "59a8e566",
   "metadata": {},
   "outputs": [],
   "source": []
  }
 ],
 "metadata": {
  "kernelspec": {
   "display_name": "Python 3 (ipykernel)",
   "language": "python",
   "name": "python3"
  },
  "language_info": {
   "codemirror_mode": {
    "name": "ipython",
    "version": 3
   },
   "file_extension": ".py",
   "mimetype": "text/x-python",
   "name": "python",
   "nbconvert_exporter": "python",
   "pygments_lexer": "ipython3",
   "version": "3.9.7"
  }
 },
 "nbformat": 4,
 "nbformat_minor": 5
}
