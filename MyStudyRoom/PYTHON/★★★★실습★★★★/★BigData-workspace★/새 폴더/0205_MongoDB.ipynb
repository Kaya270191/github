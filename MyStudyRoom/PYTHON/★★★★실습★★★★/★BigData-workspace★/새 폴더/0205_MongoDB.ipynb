{
 "cells": [
  {
   "cell_type": "code",
   "execution_count": 1,
   "id": "838fa204",
   "metadata": {},
   "outputs": [],
   "source": [
    "from pymongo import MongoClient"
   ]
  },
  {
   "cell_type": "code",
   "execution_count": 6,
   "id": "c5d2367d",
   "metadata": {},
   "outputs": [],
   "source": [
    "client=MongoClient(\"localhost\",27017)\n",
    "#client=MongoClient(\"mongodb://localhost:27017\")"
   ]
  },
  {
   "cell_type": "code",
   "execution_count": 11,
   "id": "b86afdfd",
   "metadata": {},
   "outputs": [],
   "source": [
    "db=client['test_database']\n",
    "#db=client.test_database"
   ]
  },
  {
   "cell_type": "code",
   "execution_count": 13,
   "id": "ffe801ce",
   "metadata": {},
   "outputs": [],
   "source": [
    "collection=db['test_database']\n",
    "#collection=db.test_database"
   ]
  },
  {
   "cell_type": "code",
   "execution_count": 25,
   "id": "3eaf2541",
   "metadata": {},
   "outputs": [],
   "source": [
    "data_dic={'name':'홍길동','age':17}"
   ]
  },
  {
   "cell_type": "code",
   "execution_count": 26,
   "id": "d89263f0",
   "metadata": {},
   "outputs": [],
   "source": [
    "re_data_dic=collection.insert_one(data_dic)"
   ]
  },
  {
   "cell_type": "code",
   "execution_count": 27,
   "id": "94a27c38",
   "metadata": {},
   "outputs": [],
   "source": [
    "data_dic2={'name':'김길동',\"age\":23}"
   ]
  },
  {
   "cell_type": "code",
   "execution_count": 28,
   "id": "7b4005a1",
   "metadata": {},
   "outputs": [],
   "source": [
    "re_data_dic2=collection.insert_one(data_dic2)"
   ]
  },
  {
   "cell_type": "code",
   "execution_count": 32,
   "id": "8738c304",
   "metadata": {},
   "outputs": [],
   "source": [
    "data_list=[\n",
    "    {'name':'이길동',\"age\":29},\n",
    "    {'name':'박길동',\"age\":24},\n",
    "    {'name':'장길동',\"age\":35}\n",
    "]"
   ]
  },
  {
   "cell_type": "code",
   "execution_count": 33,
   "id": "ae2ca8b9",
   "metadata": {},
   "outputs": [],
   "source": [
    "re_data_dic3=collection.insert_many(data_list)"
   ]
  },
  {
   "cell_type": "code",
   "execution_count": 41,
   "id": "a470179d",
   "metadata": {},
   "outputs": [],
   "source": [
    "search_results=collection.find_one()"
   ]
  },
  {
   "cell_type": "code",
   "execution_count": 42,
   "id": "1e0b47dd",
   "metadata": {},
   "outputs": [
    {
     "data": {
      "text/plain": [
       "{'_id': ObjectId('61fde493f7682934520b4e64'), 'name': '홍길동', 'age': 17}"
      ]
     },
     "execution_count": 42,
     "metadata": {},
     "output_type": "execute_result"
    }
   ],
   "source": [
    "search_results"
   ]
  },
  {
   "cell_type": "code",
   "execution_count": 43,
   "id": "26327887",
   "metadata": {},
   "outputs": [
    {
     "data": {
      "text/plain": [
       "dict"
      ]
     },
     "execution_count": 43,
     "metadata": {},
     "output_type": "execute_result"
    }
   ],
   "source": [
    "type(search_results)"
   ]
  },
  {
   "cell_type": "code",
   "execution_count": 72,
   "id": "bb675d70",
   "metadata": {},
   "outputs": [],
   "source": [
    "search_results2=collection.find()"
   ]
  },
  {
   "cell_type": "code",
   "execution_count": 73,
   "id": "10d46ec4",
   "metadata": {},
   "outputs": [
    {
     "data": {
      "text/plain": [
       "<pymongo.cursor.Cursor at 0x295224498b0>"
      ]
     },
     "execution_count": 73,
     "metadata": {},
     "output_type": "execute_result"
    }
   ],
   "source": [
    "search_results2"
   ]
  },
  {
   "cell_type": "code",
   "execution_count": 74,
   "id": "2b3e87d0",
   "metadata": {},
   "outputs": [
    {
     "data": {
      "text/plain": [
       "pymongo.cursor.Cursor"
      ]
     },
     "execution_count": 74,
     "metadata": {},
     "output_type": "execute_result"
    }
   ],
   "source": [
    "type(search_results2)"
   ]
  },
  {
   "cell_type": "code",
   "execution_count": 75,
   "id": "a58b0705",
   "metadata": {},
   "outputs": [
    {
     "name": "stdout",
     "output_type": "stream",
     "text": [
      "{'_id': ObjectId('61fde493f7682934520b4e64'), 'name': '홍길동', 'age': 17}\n",
      "{'_id': ObjectId('61fde4c5f7682934520b4e65'), 'name': '김길동', 'age': 23}\n",
      "{'_id': ObjectId('61fde5b1f7682934520b4e66'), 'name': '이길동', 'age': 29}\n",
      "{'_id': ObjectId('61fde5b1f7682934520b4e67'), 'name': '박길동', 'age': 24}\n",
      "{'_id': ObjectId('61fde5b1f7682934520b4e68'), 'name': '장길동', 'age': 35}\n"
     ]
    }
   ],
   "source": [
    "for i in search_results2:\n",
    "    print(i)"
   ]
  },
  {
   "cell_type": "code",
   "execution_count": 78,
   "id": "c677e468",
   "metadata": {},
   "outputs": [],
   "source": [
    "#where name=\"홍길동\"\n",
    "search_results_hong=collection.find({'name':'홍길동'})"
   ]
  },
  {
   "cell_type": "code",
   "execution_count": 79,
   "id": "9a3e089b",
   "metadata": {},
   "outputs": [
    {
     "name": "stdout",
     "output_type": "stream",
     "text": [
      "<pymongo.cursor.Cursor object at 0x0000029522367820>\n"
     ]
    }
   ],
   "source": [
    "print(search_results_hong)"
   ]
  },
  {
   "cell_type": "code",
   "execution_count": 80,
   "id": "a51ceab8",
   "metadata": {},
   "outputs": [
    {
     "name": "stdout",
     "output_type": "stream",
     "text": [
      "{'_id': ObjectId('61fde493f7682934520b4e64'), 'name': '홍길동', 'age': 17}\n"
     ]
    }
   ],
   "source": [
    "for i in search_results_hong:\n",
    "    print(i)"
   ]
  },
  {
   "cell_type": "code",
   "execution_count": 85,
   "id": "96e82814",
   "metadata": {},
   "outputs": [],
   "source": [
    "#where name=\"홍길동\" and age=\"17\"\n",
    "search_results_hong17=collection.find({'name':'홍길동','age':17})"
   ]
  },
  {
   "cell_type": "code",
   "execution_count": 86,
   "id": "e6a25043",
   "metadata": {},
   "outputs": [
    {
     "name": "stdout",
     "output_type": "stream",
     "text": [
      "<pymongo.cursor.Cursor object at 0x00000295222332E0>\n"
     ]
    }
   ],
   "source": [
    "print(search_results_hong17)"
   ]
  },
  {
   "cell_type": "code",
   "execution_count": 87,
   "id": "b10076e0",
   "metadata": {},
   "outputs": [
    {
     "name": "stdout",
     "output_type": "stream",
     "text": [
      "{'_id': ObjectId('61fde493f7682934520b4e64'), 'name': '홍길동', 'age': 17}\n"
     ]
    }
   ],
   "source": [
    "for i in search_results_hong17:\n",
    "    print(i)"
   ]
  },
  {
   "cell_type": "code",
   "execution_count": 90,
   "id": "b846f144",
   "metadata": {},
   "outputs": [],
   "source": [
    "#where age>17\n",
    "search_results_over17=collection.find({'age':{'$gte':17}})#$gt : 초과, $gte:이상"
   ]
  },
  {
   "cell_type": "code",
   "execution_count": 91,
   "id": "14dead45",
   "metadata": {},
   "outputs": [
    {
     "name": "stdout",
     "output_type": "stream",
     "text": [
      "{'_id': ObjectId('61fde493f7682934520b4e64'), 'name': '홍길동', 'age': 17}\n",
      "{'_id': ObjectId('61fde4c5f7682934520b4e65'), 'name': '김길동', 'age': 23}\n",
      "{'_id': ObjectId('61fde5b1f7682934520b4e66'), 'name': '이길동', 'age': 29}\n",
      "{'_id': ObjectId('61fde5b1f7682934520b4e67'), 'name': '박길동', 'age': 24}\n",
      "{'_id': ObjectId('61fde5b1f7682934520b4e68'), 'name': '장길동', 'age': 35}\n"
     ]
    }
   ],
   "source": [
    "for i in search_results_over17:\n",
    "    print(i)"
   ]
  },
  {
   "cell_type": "code",
   "execution_count": 96,
   "id": "423cae20",
   "metadata": {},
   "outputs": [],
   "source": [
    "#where age<28\n",
    "serch_results_less28=collection.find({'age':{'$lt':28}})#$lt : 미만, $lte: 이하"
   ]
  },
  {
   "cell_type": "code",
   "execution_count": 97,
   "id": "f474a776",
   "metadata": {},
   "outputs": [
    {
     "name": "stdout",
     "output_type": "stream",
     "text": [
      "{'_id': ObjectId('61fde493f7682934520b4e64'), 'name': '홍길동', 'age': 17}\n",
      "{'_id': ObjectId('61fde4c5f7682934520b4e65'), 'name': '김길동', 'age': 23}\n",
      "{'_id': ObjectId('61fde5b1f7682934520b4e67'), 'name': '박길동', 'age': 24}\n"
     ]
    }
   ],
   "source": [
    "for i in serch_results_less28:\n",
    "    print(i)"
   ]
  },
  {
   "cell_type": "code",
   "execution_count": 98,
   "id": "797025d2",
   "metadata": {},
   "outputs": [],
   "source": [
    "#where name!='홍길동'\n",
    "serach_results_nothong=collection.find({'name':{'$ne':'홍길동'}})"
   ]
  },
  {
   "cell_type": "code",
   "execution_count": 99,
   "id": "d85a9594",
   "metadata": {},
   "outputs": [
    {
     "name": "stdout",
     "output_type": "stream",
     "text": [
      "{'_id': ObjectId('61fde4c5f7682934520b4e65'), 'name': '김길동', 'age': 23}\n",
      "{'_id': ObjectId('61fde5b1f7682934520b4e66'), 'name': '이길동', 'age': 29}\n",
      "{'_id': ObjectId('61fde5b1f7682934520b4e67'), 'name': '박길동', 'age': 24}\n",
      "{'_id': ObjectId('61fde5b1f7682934520b4e68'), 'name': '장길동', 'age': 35}\n"
     ]
    }
   ],
   "source": [
    "for i in serach_results_nothong:\n",
    "    print(i)"
   ]
  },
  {
   "cell_type": "code",
   "execution_count": 102,
   "id": "85bff174",
   "metadata": {},
   "outputs": [],
   "source": [
    "#select name from ... where age>17\n",
    "search_results_over17_name=collection.find({'age':{'$gt':17}},{'name':1})#({where부분},{select부분 : 1가져옴 0안가져옴})"
   ]
  },
  {
   "cell_type": "code",
   "execution_count": 103,
   "id": "a99437bd",
   "metadata": {},
   "outputs": [
    {
     "name": "stdout",
     "output_type": "stream",
     "text": [
      "{'_id': ObjectId('61fde4c5f7682934520b4e65'), 'name': '김길동'}\n",
      "{'_id': ObjectId('61fde5b1f7682934520b4e66'), 'name': '이길동'}\n",
      "{'_id': ObjectId('61fde5b1f7682934520b4e67'), 'name': '박길동'}\n",
      "{'_id': ObjectId('61fde5b1f7682934520b4e68'), 'name': '장길동'}\n"
     ]
    }
   ],
   "source": [
    "for i in search_results_over17_name:\n",
    "    print(i)"
   ]
  },
  {
   "cell_type": "code",
   "execution_count": 104,
   "id": "ab74ed0c",
   "metadata": {},
   "outputs": [],
   "source": [
    "search_results_over17_noid=collection.find({'age':{'$gt':17}},{'_id':0})"
   ]
  },
  {
   "cell_type": "code",
   "execution_count": 105,
   "id": "675e2929",
   "metadata": {},
   "outputs": [
    {
     "name": "stdout",
     "output_type": "stream",
     "text": [
      "{'name': '김길동', 'age': 23}\n",
      "{'name': '이길동', 'age': 29}\n",
      "{'name': '박길동', 'age': 24}\n",
      "{'name': '장길동', 'age': 35}\n"
     ]
    }
   ],
   "source": [
    "for i in search_results_over17_noid:\n",
    "    print(i)"
   ]
  },
  {
   "cell_type": "code",
   "execution_count": 107,
   "id": "f8dce530",
   "metadata": {},
   "outputs": [],
   "source": [
    "set_result=collection.update_one({'name':'홍길동'},{'$set':{'age':18}})#({where},{'$set':{set}})"
   ]
  },
  {
   "cell_type": "code",
   "execution_count": 108,
   "id": "8085c28a",
   "metadata": {},
   "outputs": [
    {
     "name": "stdout",
     "output_type": "stream",
     "text": [
      "<pymongo.results.UpdateResult object at 0x0000029522454C00>\n"
     ]
    }
   ],
   "source": [
    "print(set_result)"
   ]
  },
  {
   "cell_type": "code",
   "execution_count": 115,
   "id": "34d1c865",
   "metadata": {},
   "outputs": [],
   "source": [
    "search_results_hong=collection.find({'name':'홍길동'})"
   ]
  },
  {
   "cell_type": "code",
   "execution_count": 116,
   "id": "8ea728ae",
   "metadata": {},
   "outputs": [
    {
     "name": "stdout",
     "output_type": "stream",
     "text": [
      "{'_id': ObjectId('61fde493f7682934520b4e64'), 'name': '홍길동', 'age': 18}\n"
     ]
    }
   ],
   "source": [
    "for i in search_results_hong:\n",
    "    print(i)"
   ]
  },
  {
   "cell_type": "code",
   "execution_count": 119,
   "id": "e3e03aef",
   "metadata": {},
   "outputs": [],
   "source": [
    "search_results_hong2=collection.find({'name':{'$regex':'길동'}})#$regex : 포함된"
   ]
  },
  {
   "cell_type": "code",
   "execution_count": 120,
   "id": "8f44e02c",
   "metadata": {},
   "outputs": [
    {
     "name": "stdout",
     "output_type": "stream",
     "text": [
      "{'_id': ObjectId('61fde493f7682934520b4e64'), 'name': '홍길동', 'age': 18}\n",
      "{'_id': ObjectId('61fde4c5f7682934520b4e65'), 'name': '김길동', 'age': 23}\n",
      "{'_id': ObjectId('61fde5b1f7682934520b4e66'), 'name': '이길동', 'age': 29}\n",
      "{'_id': ObjectId('61fde5b1f7682934520b4e67'), 'name': '박길동', 'age': 24}\n",
      "{'_id': ObjectId('61fde5b1f7682934520b4e68'), 'name': '장길동', 'age': 35}\n"
     ]
    }
   ],
   "source": [
    "for i in search_results_hong2:\n",
    "    print(i)"
   ]
  },
  {
   "cell_type": "code",
   "execution_count": null,
   "id": "41ed5ce3",
   "metadata": {},
   "outputs": [],
   "source": []
  }
 ],
 "metadata": {
  "kernelspec": {
   "display_name": "Python 3 (ipykernel)",
   "language": "python",
   "name": "python3"
  },
  "language_info": {
   "codemirror_mode": {
    "name": "ipython",
    "version": 3
   },
   "file_extension": ".py",
   "mimetype": "text/x-python",
   "name": "python",
   "nbconvert_exporter": "python",
   "pygments_lexer": "ipython3",
   "version": "3.9.7"
  }
 },
 "nbformat": 4,
 "nbformat_minor": 5
}
