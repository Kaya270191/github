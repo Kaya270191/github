{
 "cells": [
  {
   "cell_type": "markdown",
   "id": "2a4fdffa",
   "metadata": {},
   "source": [
    "# 시도별 실시간 측정 정보 조회"
   ]
  },
  {
   "cell_type": "markdown",
   "id": "a87c0c0a",
   "metadata": {},
   "source": [
    "웹 브라우저 test\n",
    "\n",
    "- link http://apis.data.go.kr/B552584/ArpltnInforInqireSvc\n",
    "- key dx787IZ9fd2MlLGJtSAHZ1JhN4mHOCq%2FH8MUynMuKpY6T6cqlUkXMgUtpRCsNXtRkM9TfvjrZw%2FS6ZFQeE%2F69g%3D%3D\n",
    "- http://apis.data.go.kr/B552584/ArpltnInforInqireSvc/getCtprvnRltmMesureDnsty?sidoName=대구&pageNo=1&numOfRows=1000&returnType=json&serviceKey=서비스키&ver=1.0\n",
    "- numOfRows : 1000/return Type : json/sidoName : 대구/serviceKey=자신의 서비스키 url에 바로 요청할때는 인코딩된 키 입력\n",
    "- link+key http://apis.data.go.kr/B552584/ArpltnInforInqireSvc/getCtprvnRltmMesureDnsty?sidoName=대구&pageNo=1&numOfRows=1000&returnType=json&serviceKey=dx787IZ9fd2MlLGJtSAHZ1JhN4mHOCq%2FH8MUynMuKpY6T6cqlUkXMgUtpRCsNXtRkM9TfvjrZw%2FS6ZFQeE%2F69g%3D%3D&ver=1.0"
   ]
  },
  {
   "cell_type": "code",
   "execution_count": 4,
   "id": "645a981e",
   "metadata": {},
   "outputs": [],
   "source": [
    "import requests\n",
    "from bs4 import BeautifulSoup"
   ]
  },
  {
   "cell_type": "code",
   "execution_count": 7,
   "id": "239dd99c",
   "metadata": {},
   "outputs": [],
   "source": [
    "url=\"http://apis.data.go.kr/B552584/ArpltnInforInqireSvc/getCtprvnRltmMesureDnsty\"\n",
    "param_data={\n",
    "    'sidoName':'대구',#요청할 시 도\n",
    "    'pageNo':'1',#페이지 번호\n",
    "    'numOfRows':'1000',\n",
    "    'returnType':'json',#리턴타입\n",
    "    #디코딩된 serviceKey. => param으로 요청시 python에서 인코딩하여 요청\n",
    "    'serviceKey':'oy303B8ca02wOlnd/GH9vhfaak6OmPOhBWVjX8FT0EJ3iTkkSgyLQb4piJUB4kt9PgQ7efXZIDuiQo345g0knA==',\n",
    "    'ver':'1.0'\n",
    "}\n",
    "res=requests.get(url,params=param_data)"
   ]
  },
  {
   "cell_type": "code",
   "execution_count": 8,
   "id": "1bd34e66",
   "metadata": {},
   "outputs": [
    {
     "name": "stdout",
     "output_type": "stream",
     "text": [
      "http://apis.data.go.kr/B552584/ArpltnInforInqireSvc/getCtprvnRltmMesureDnsty?sidoName=%EB%8C%80%EA%B5%AC&pageNo=1&numOfRows=1000&returnType=json&serviceKey=oy303B8ca02wOlnd%2FGH9vhfaak6OmPOhBWVjX8FT0EJ3iTkkSgyLQb4piJUB4kt9PgQ7efXZIDuiQo345g0knA%3D%3D&ver=1.0\n"
     ]
    }
   ],
   "source": [
    "print(res.url)"
   ]
  },
  {
   "cell_type": "code",
   "execution_count": 9,
   "id": "a4ea2600",
   "metadata": {},
   "outputs": [
    {
     "data": {
      "text/plain": [
       "'{\"response\":{\"body\":{\"totalCount\":20,\"items\":[{\"so2Grade\":\"1\",\"coFlag\":null,\"khaiValue\":\"79\",\"so2Value\":\"0.004\",\"coValue\":\"0.5\",\"pm25Flag\":null,\"pm10Flag\":null,\"o3Grade\":\"1\",\"pm10Value\":\"47\",\"khaiGrade\":\"2\",\"pm25Value\":\"27\",\"sidoName\":\"대구\",\"no2Flag\":null,\"no2Grade\":\"2\",\"o3Flag\":null,\"pm25Grade\":\"2\",\"so2Flag\":null,\"dataTime\":\"2022-02-10 10:00\",\"coGrade\":\"1\",\"no2Value\":\"0.041\",\"stationName\":\"수창동\",\"pm10Grade\":\"2\",\"o3Value\":\"0.014\"},{\"so2Grade\":\"1\",\"coFlag\":null,\"khaiValue\":\"74\",\"so2Value\":\"0.005\",\"coValue\":\"0.6\",\"pm25Flag\":null,\"pm10Flag\":null,\"o3Grade\":\"1\",\"pm10Value\":\"50\",\"khaiGrade\":\"2\",\"pm25Value\":\"30\",\"sidoName\":\"대구\",\"no2Flag\":null,\"no2Grade\":\"2\",\"o3Flag\":null,\"pm25Grade\":\"2\",\"so2Flag\":null,\"dataTime\":\"2022-02-10 10:00\",\"coGrade\":\"1\",\"no2Value\":\"0.035\",\"stationName\":\"지산동\",\"pm10Grade\":\"2\",\"o3Value\":\"0.014\"},{\"so2Grade\":\"1\",\"coFlag\":null,\"khaiValue\":\"105\",\"so2Value\":\"0.006\",\"coValue\":\"0.8\",\"pm25Flag\":null,\"pm10Flag\":null,\"o3Grade\":\"1\",\"pm10Value\":\"77\",\"khaiGrade\":\"3\",\"pm25Value\":\"51\",\"sidoName\":\"대구\",\"no2Flag\":null,\"no2Grade\":\"2\",\"o3Flag\":null,\"pm25Grade\":\"3\",\"so2Flag\":null,\"dataTime\":\"2022-02-10 10:00\",\"coGrade\":\"1\",\"no2Value\":\"0.053\",\"stationName\":\"서호동\",\"pm10Grade\":\"2\",\"o3Value\":\"0.004\"},{\"so2Grade\":\"1\",\"coFlag\":null,\"khaiValue\":\"85\",\"so2Value\":\"0.003\",\"coValue\":\"0.2\",\"pm25Flag\":null,\"pm10Flag\":null,\"o3Grade\":\"1\",\"pm10Value\":\"45\",\"khaiGrade\":\"2\",\"pm25Value\":\"33\",\"sidoName\":\"대구\",\"no2Flag\":null,\"no2Grade\":\"1\",\"o3Flag\":null,\"pm25Grade\":\"2\",\"so2Flag\":null,\"dataTime\":\"2022-02-10 10:00\",\"coGrade\":\"1\",\"no2Value\":\"0.030\",\"stationName\":\"이현동\",\"pm10Grade\":\"2\",\"o3Value\":\"0.018\"},{\"so2Grade\":\"1\",\"coFlag\":null,\"khaiValue\":\"97\",\"so2Value\":\"0.006\",\"coValue\":\"0.6\",\"pm25Flag\":null,\"pm10Flag\":null,\"o3Grade\":\"1\",\"pm10Value\":\"65\",\"khaiGrade\":\"2\",\"pm25Value\":\"37\",\"sidoName\":\"대구\",\"no2Flag\":null,\"no2Grade\":\"2\",\"o3Flag\":null,\"pm25Grade\":\"2\",\"so2Flag\":null,\"dataTime\":\"2022-02-10 10:00\",\"coGrade\":\"1\",\"no2Value\":\"0.050\",\"stationName\":\"평리동\",\"pm10Grade\":\"2\",\"o3Value\":\"0.008\"},{\"so2Grade\":\"1\",\"coFlag\":null,\"khaiValue\":\"82\",\"so2Value\":\"0.003\",\"coValue\":\"0.5\",\"pm25Flag\":null,\"pm10Flag\":null,\"o3Grade\":\"1\",\"pm10Value\":\"54\",\"khaiGrade\":\"2\",\"pm25Value\":\"28\",\"sidoName\":\"대구\",\"no2Flag\":null,\"no2Grade\":\"2\",\"o3Flag\":null,\"pm25Grade\":\"2\",\"so2Flag\":null,\"dataTime\":\"2022-02-10 10:00\",\"coGrade\":\"1\",\"no2Value\":\"0.037\",\"stationName\":\"대명동\",\"pm10Grade\":\"2\",\"o3Value\":\"0.014\"},{\"so2Grade\":\"1\",\"coFlag\":null,\"khaiValue\":\"83\",\"so2Value\":\"0.004\",\"coValue\":\"0.7\",\"pm25Flag\":null,\"pm10Flag\":null,\"o3Grade\":\"1\",\"pm10Value\":\"78\",\"khaiGrade\":\"2\",\"pm25Value\":\"38\",\"sidoName\":\"대구\",\"no2Flag\":null,\"no2Grade\":\"2\",\"o3Flag\":null,\"pm25Grade\":\"2\",\"so2Flag\":null,\"dataTime\":\"2022-02-10 10:00\",\"coGrade\":\"1\",\"no2Value\":\"0.050\",\"stationName\":\"신암동\",\"pm10Grade\":\"2\",\"o3Value\":\"0.008\"},{\"so2Grade\":\"1\",\"coFlag\":null,\"khaiValue\":\"66\",\"so2Value\":\"0.004\",\"coValue\":\"0.6\",\"pm25Flag\":null,\"pm10Flag\":null,\"o3Grade\":\"1\",\"pm10Value\":\"51\",\"khaiGrade\":\"2\",\"pm25Value\":\"26\",\"sidoName\":\"대구\",\"no2Flag\":null,\"no2Grade\":\"2\",\"o3Flag\":null,\"pm25Grade\":\"2\",\"so2Flag\":null,\"dataTime\":\"2022-02-10 10:00\",\"coGrade\":\"1\",\"no2Value\":\"0.040\",\"stationName\":\"태전동\",\"pm10Grade\":\"2\",\"o3Value\":\"0.011\"},{\"so2Grade\":\"1\",\"coFlag\":null,\"khaiValue\":\"74\",\"so2Value\":\"0.003\",\"coValue\":\"0.4\",\"pm25Flag\":null,\"pm10Flag\":null,\"o3Grade\":\"1\",\"pm10Value\":\"51\",\"khaiGrade\":\"2\",\"pm25Value\":\"34\",\"sidoName\":\"대구\",\"no2Flag\":null,\"no2Grade\":\"2\",\"o3Flag\":null,\"pm25Grade\":\"2\",\"so2Flag\":null,\"dataTime\":\"2022-02-10 10:00\",\"coGrade\":\"1\",\"no2Value\":\"0.036\",\"stationName\":\"산격동\",\"pm10Grade\":\"2\",\"o3Value\":\"0.011\"},{\"so2Grade\":\"1\",\"coFlag\":null,\"khaiValue\":\"74\",\"so2Value\":\"0.004\",\"coValue\":\"0.6\",\"pm25Flag\":null,\"pm10Flag\":null,\"o3Grade\":\"1\",\"pm10Value\":\"52\",\"khaiGrade\":\"2\",\"pm25Value\":\"32\",\"sidoName\":\"대구\",\"no2Flag\":null,\"no2Grade\":\"2\",\"o3Flag\":null,\"pm25Grade\":\"2\",\"so2Flag\":null,\"dataTime\":\"2022-02-10 10:00\",\"coGrade\":\"1\",\"no2Value\":\"0.043\",\"stationName\":\"만촌동\",\"pm10Grade\":\"2\",\"o3Value\":\"0.011\"},{\"so2Grade\":null,\"coFlag\":\"점검및교정\",\"khaiValue\":\"-\",\"so2Value\":\"-\",\"coValue\":\"-\",\"pm25Flag\":\"점검및교정\",\"pm10Flag\":\"점검및교정\",\"o3Grade\":null,\"pm10Value\":\"-\",\"khaiGrade\":null,\"pm25Value\":\"-\",\"sidoName\":\"대구\",\"no2Flag\":\"점검및교정\",\"no2Grade\":null,\"o3Flag\":\"점검및교정\",\"pm25Grade\":null,\"so2Flag\":\"점검및교정\",\"dataTime\":\"2022-02-10 10:00\",\"coGrade\":null,\"no2Value\":\"-\",\"stationName\":\"호림동\",\"pm10Grade\":null,\"o3Value\":\"-\"},{\"so2Grade\":\"1\",\"coFlag\":null,\"khaiValue\":\"77\",\"so2Value\":\"0.001\",\"coValue\":\"0.3\",\"pm25Flag\":null,\"pm10Flag\":null,\"o3Grade\":\"1\",\"pm10Value\":\"50\",\"khaiGrade\":\"2\",\"pm25Value\":\"27\",\"sidoName\":\"대구\",\"no2Flag\":null,\"no2Grade\":\"1\",\"o3Flag\":null,\"pm25Grade\":\"2\",\"so2Flag\":null,\"dataTime\":\"2022-02-10 10:00\",\"coGrade\":\"1\",\"no2Value\":\"0.026\",\"stationName\":\"유가읍\",\"pm10Grade\":\"2\",\"o3Value\":\"0.026\"},{\"so2Grade\":\"1\",\"coFlag\":null,\"khaiValue\":\"105\",\"so2Value\":\"0.005\",\"coValue\":\"0.4\",\"pm25Flag\":null,\"pm10Flag\":null,\"o3Grade\":\"1\",\"pm10Value\":\"64\",\"khaiGrade\":\"3\",\"pm25Value\":\"42\",\"sidoName\":\"대구\",\"no2Flag\":null,\"no2Grade\":\"2\",\"o3Flag\":null,\"pm25Grade\":\"3\",\"so2Flag\":null,\"dataTime\":\"2022-02-10 10:00\",\"coGrade\":\"1\",\"no2Value\":\"0.046\",\"stationName\":\"이곡동\",\"pm10Grade\":\"2\",\"o3Value\":\"0.008\"},{\"so2Grade\":\"1\",\"coFlag\":null,\"khaiValue\":\"77\",\"so2Value\":\"0.003\",\"coValue\":\"0.6\",\"pm25Flag\":null,\"pm10Flag\":null,\"o3Grade\":\"1\",\"pm10Value\":\"46\",\"khaiGrade\":\"2\",\"pm25Value\":\"35\",\"sidoName\":\"대구\",\"no2Flag\":null,\"no2Grade\":\"2\",\"o3Flag\":null,\"pm25Grade\":\"2\",\"so2Flag\":null,\"dataTime\":\"2022-02-10 10:00\",\"coGrade\":\"1\",\"no2Value\":\"0.040\",\"stationName\":\"시지동\",\"pm10Grade\":\"2\",\"o3Value\":\"0.014\"},{\"so2Grade\":\"1\",\"coFlag\":null,\"khaiValue\":\"74\",\"so2Value\":\"0.003\",\"coValue\":\"0.6\",\"pm25Flag\":null,\"pm10Flag\":null,\"o3Grade\":\"1\",\"pm10Value\":\"53\",\"khaiGrade\":\"2\",\"pm25Value\":\"28\",\"sidoName\":\"대구\",\"no2Flag\":null,\"no2Grade\":\"2\",\"o3Flag\":null,\"pm25Grade\":\"2\",\"so2Flag\":null,\"dataTime\":\"2022-02-10 10:00\",\"coGrade\":\"1\",\"no2Value\":\"0.033\",\"stationName\":\"진천동\",\"pm10Grade\":\"2\",\"o3Value\":\"0.012\"},{\"so2Grade\":\"1\",\"coFlag\":null,\"khaiValue\":\"85\",\"so2Value\":\"0.003\",\"coValue\":\"0.5\",\"pm25Flag\":null,\"pm10Flag\":null,\"o3Grade\":\"1\",\"pm10Value\":\"68\",\"khaiGrade\":\"2\",\"pm25Value\":\"39\",\"sidoName\":\"대구\",\"no2Flag\":null,\"no2Grade\":\"1\",\"o3Flag\":null,\"pm25Grade\":\"2\",\"so2Flag\":null,\"dataTime\":\"2022-02-10 10:00\",\"coGrade\":\"1\",\"no2Value\":\"0.026\",\"stationName\":\"다사읍\",\"pm10Grade\":\"2\",\"o3Value\":\"0.009\"},{\"so2Grade\":\"1\",\"coFlag\":null,\"khaiValue\":\"97\",\"so2Value\":\"0.003\",\"coValue\":\"0.5\",\"pm25Flag\":null,\"pm10Flag\":null,\"o3Grade\":\"1\",\"pm10Value\":\"58\",\"khaiGrade\":\"2\",\"pm25Value\":\"40\",\"sidoName\":\"대구\",\"no2Flag\":null,\"no2Grade\":\"2\",\"o3Flag\":null,\"pm25Grade\":\"2\",\"so2Flag\":null,\"dataTime\":\"2022-02-10 10:00\",\"coGrade\":\"1\",\"no2Value\":\"0.043\",\"stationName\":\"본동\",\"pm10Grade\":\"2\",\"o3Value\":\"0.010\"},{\"so2Grade\":\"1\",\"coFlag\":null,\"khaiValue\":\"97\",\"so2Value\":\"0.003\",\"coValue\":\"0.5\",\"pm25Flag\":null,\"pm10Flag\":null,\"o3Grade\":\"1\",\"pm10Value\":\"57\",\"khaiGrade\":\"2\",\"pm25Value\":\"40\",\"sidoName\":\"대구\",\"no2Flag\":null,\"no2Grade\":\"2\",\"o3Flag\":null,\"pm25Grade\":\"2\",\"so2Flag\":null,\"dataTime\":\"2022-02-10 10:00\",\"coGrade\":\"1\",\"no2Value\":\"0.039\",\"stationName\":\"내당동\",\"pm10Grade\":\"2\",\"o3Value\":\"0.012\"},{\"so2Grade\":\"1\",\"coFlag\":null,\"khaiValue\":\"97\",\"so2Value\":\"0.004\",\"coValue\":\"0.6\",\"pm25Flag\":null,\"pm10Flag\":null,\"o3Grade\":\"1\",\"pm10Value\":\"53\",\"khaiGrade\":\"2\",\"pm25Value\":\"42\",\"sidoName\":\"대구\",\"no2Flag\":null,\"no2Grade\":\"2\",\"o3Flag\":null,\"pm25Grade\":\"2\",\"so2Flag\":null,\"dataTime\":\"2022-02-10 10:00\",\"coGrade\":\"1\",\"no2Value\":\"0.046\",\"stationName\":\"침산동\",\"pm10Grade\":\"2\",\"o3Value\":\"0.008\"},{\"so2Grade\":\"1\",\"coFlag\":null,\"khaiValue\":\"77\",\"so2Value\":\"0.004\",\"coValue\":\"0.5\",\"pm25Flag\":null,\"pm10Flag\":null,\"o3Grade\":\"1\",\"pm10Value\":\"59\",\"khaiGrade\":\"2\",\"pm25Value\":\"36\",\"sidoName\":\"대구\",\"no2Flag\":null,\"no2Grade\":\"2\",\"o3Flag\":null,\"pm25Grade\":\"2\",\"so2Flag\":null,\"dataTime\":\"2022-02-10 10:00\",\"coGrade\":\"1\",\"no2Value\":\"0.039\",\"stationName\":\"화원읍\",\"pm10Grade\":\"2\",\"o3Value\":\"0.009\"}],\"pageNo\":1,\"numOfRows\":1000},\"header\":{\"resultMsg\":\"NORMAL_CODE\",\"resultCode\":\"00\"}}}'"
      ]
     },
     "execution_count": 9,
     "metadata": {},
     "output_type": "execute_result"
    }
   ],
   "source": [
    "res.text"
   ]
  },
  {
   "cell_type": "code",
   "execution_count": 11,
   "id": "264d84a2",
   "metadata": {},
   "outputs": [
    {
     "name": "stdout",
     "output_type": "stream",
     "text": [
      "<class 'dict'>\n",
      "{'response': {'body': {'totalCount': 20, 'items': [{'so2Grade': '1', 'coFlag': None, 'khaiValue': '79', 'so2Value': '0.004', 'coValue': '0.5', 'pm25Flag': None, 'pm10Flag': None, 'o3Grade': '1', 'pm10Value': '47', 'khaiGrade': '2', 'pm25Value': '27', 'sidoName': '대구', 'no2Flag': None, 'no2Grade': '2', 'o3Flag': None, 'pm25Grade': '2', 'so2Flag': None, 'dataTime': '2022-02-10 10:00', 'coGrade': '1', 'no2Value': '0.041', 'stationName': '수창동', 'pm10Grade': '2', 'o3Value': '0.014'}, {'so2Grade': '1', 'coFlag': None, 'khaiValue': '74', 'so2Value': '0.005', 'coValue': '0.6', 'pm25Flag': None, 'pm10Flag': None, 'o3Grade': '1', 'pm10Value': '50', 'khaiGrade': '2', 'pm25Value': '30', 'sidoName': '대구', 'no2Flag': None, 'no2Grade': '2', 'o3Flag': None, 'pm25Grade': '2', 'so2Flag': None, 'dataTime': '2022-02-10 10:00', 'coGrade': '1', 'no2Value': '0.035', 'stationName': '지산동', 'pm10Grade': '2', 'o3Value': '0.014'}, {'so2Grade': '1', 'coFlag': None, 'khaiValue': '105', 'so2Value': '0.006', 'coValue': '0.8', 'pm25Flag': None, 'pm10Flag': None, 'o3Grade': '1', 'pm10Value': '77', 'khaiGrade': '3', 'pm25Value': '51', 'sidoName': '대구', 'no2Flag': None, 'no2Grade': '2', 'o3Flag': None, 'pm25Grade': '3', 'so2Flag': None, 'dataTime': '2022-02-10 10:00', 'coGrade': '1', 'no2Value': '0.053', 'stationName': '서호동', 'pm10Grade': '2', 'o3Value': '0.004'}, {'so2Grade': '1', 'coFlag': None, 'khaiValue': '85', 'so2Value': '0.003', 'coValue': '0.2', 'pm25Flag': None, 'pm10Flag': None, 'o3Grade': '1', 'pm10Value': '45', 'khaiGrade': '2', 'pm25Value': '33', 'sidoName': '대구', 'no2Flag': None, 'no2Grade': '1', 'o3Flag': None, 'pm25Grade': '2', 'so2Flag': None, 'dataTime': '2022-02-10 10:00', 'coGrade': '1', 'no2Value': '0.030', 'stationName': '이현동', 'pm10Grade': '2', 'o3Value': '0.018'}, {'so2Grade': '1', 'coFlag': None, 'khaiValue': '97', 'so2Value': '0.006', 'coValue': '0.6', 'pm25Flag': None, 'pm10Flag': None, 'o3Grade': '1', 'pm10Value': '65', 'khaiGrade': '2', 'pm25Value': '37', 'sidoName': '대구', 'no2Flag': None, 'no2Grade': '2', 'o3Flag': None, 'pm25Grade': '2', 'so2Flag': None, 'dataTime': '2022-02-10 10:00', 'coGrade': '1', 'no2Value': '0.050', 'stationName': '평리동', 'pm10Grade': '2', 'o3Value': '0.008'}, {'so2Grade': '1', 'coFlag': None, 'khaiValue': '82', 'so2Value': '0.003', 'coValue': '0.5', 'pm25Flag': None, 'pm10Flag': None, 'o3Grade': '1', 'pm10Value': '54', 'khaiGrade': '2', 'pm25Value': '28', 'sidoName': '대구', 'no2Flag': None, 'no2Grade': '2', 'o3Flag': None, 'pm25Grade': '2', 'so2Flag': None, 'dataTime': '2022-02-10 10:00', 'coGrade': '1', 'no2Value': '0.037', 'stationName': '대명동', 'pm10Grade': '2', 'o3Value': '0.014'}, {'so2Grade': '1', 'coFlag': None, 'khaiValue': '83', 'so2Value': '0.004', 'coValue': '0.7', 'pm25Flag': None, 'pm10Flag': None, 'o3Grade': '1', 'pm10Value': '78', 'khaiGrade': '2', 'pm25Value': '38', 'sidoName': '대구', 'no2Flag': None, 'no2Grade': '2', 'o3Flag': None, 'pm25Grade': '2', 'so2Flag': None, 'dataTime': '2022-02-10 10:00', 'coGrade': '1', 'no2Value': '0.050', 'stationName': '신암동', 'pm10Grade': '2', 'o3Value': '0.008'}, {'so2Grade': '1', 'coFlag': None, 'khaiValue': '66', 'so2Value': '0.004', 'coValue': '0.6', 'pm25Flag': None, 'pm10Flag': None, 'o3Grade': '1', 'pm10Value': '51', 'khaiGrade': '2', 'pm25Value': '26', 'sidoName': '대구', 'no2Flag': None, 'no2Grade': '2', 'o3Flag': None, 'pm25Grade': '2', 'so2Flag': None, 'dataTime': '2022-02-10 10:00', 'coGrade': '1', 'no2Value': '0.040', 'stationName': '태전동', 'pm10Grade': '2', 'o3Value': '0.011'}, {'so2Grade': '1', 'coFlag': None, 'khaiValue': '74', 'so2Value': '0.003', 'coValue': '0.4', 'pm25Flag': None, 'pm10Flag': None, 'o3Grade': '1', 'pm10Value': '51', 'khaiGrade': '2', 'pm25Value': '34', 'sidoName': '대구', 'no2Flag': None, 'no2Grade': '2', 'o3Flag': None, 'pm25Grade': '2', 'so2Flag': None, 'dataTime': '2022-02-10 10:00', 'coGrade': '1', 'no2Value': '0.036', 'stationName': '산격동', 'pm10Grade': '2', 'o3Value': '0.011'}, {'so2Grade': '1', 'coFlag': None, 'khaiValue': '74', 'so2Value': '0.004', 'coValue': '0.6', 'pm25Flag': None, 'pm10Flag': None, 'o3Grade': '1', 'pm10Value': '52', 'khaiGrade': '2', 'pm25Value': '32', 'sidoName': '대구', 'no2Flag': None, 'no2Grade': '2', 'o3Flag': None, 'pm25Grade': '2', 'so2Flag': None, 'dataTime': '2022-02-10 10:00', 'coGrade': '1', 'no2Value': '0.043', 'stationName': '만촌동', 'pm10Grade': '2', 'o3Value': '0.011'}, {'so2Grade': None, 'coFlag': '점검및교정', 'khaiValue': '-', 'so2Value': '-', 'coValue': '-', 'pm25Flag': '점검및교정', 'pm10Flag': '점검및교정', 'o3Grade': None, 'pm10Value': '-', 'khaiGrade': None, 'pm25Value': '-', 'sidoName': '대구', 'no2Flag': '점검및교정', 'no2Grade': None, 'o3Flag': '점검및교정', 'pm25Grade': None, 'so2Flag': '점검및교정', 'dataTime': '2022-02-10 10:00', 'coGrade': None, 'no2Value': '-', 'stationName': '호림동', 'pm10Grade': None, 'o3Value': '-'}, {'so2Grade': '1', 'coFlag': None, 'khaiValue': '77', 'so2Value': '0.001', 'coValue': '0.3', 'pm25Flag': None, 'pm10Flag': None, 'o3Grade': '1', 'pm10Value': '50', 'khaiGrade': '2', 'pm25Value': '27', 'sidoName': '대구', 'no2Flag': None, 'no2Grade': '1', 'o3Flag': None, 'pm25Grade': '2', 'so2Flag': None, 'dataTime': '2022-02-10 10:00', 'coGrade': '1', 'no2Value': '0.026', 'stationName': '유가읍', 'pm10Grade': '2', 'o3Value': '0.026'}, {'so2Grade': '1', 'coFlag': None, 'khaiValue': '105', 'so2Value': '0.005', 'coValue': '0.4', 'pm25Flag': None, 'pm10Flag': None, 'o3Grade': '1', 'pm10Value': '64', 'khaiGrade': '3', 'pm25Value': '42', 'sidoName': '대구', 'no2Flag': None, 'no2Grade': '2', 'o3Flag': None, 'pm25Grade': '3', 'so2Flag': None, 'dataTime': '2022-02-10 10:00', 'coGrade': '1', 'no2Value': '0.046', 'stationName': '이곡동', 'pm10Grade': '2', 'o3Value': '0.008'}, {'so2Grade': '1', 'coFlag': None, 'khaiValue': '77', 'so2Value': '0.003', 'coValue': '0.6', 'pm25Flag': None, 'pm10Flag': None, 'o3Grade': '1', 'pm10Value': '46', 'khaiGrade': '2', 'pm25Value': '35', 'sidoName': '대구', 'no2Flag': None, 'no2Grade': '2', 'o3Flag': None, 'pm25Grade': '2', 'so2Flag': None, 'dataTime': '2022-02-10 10:00', 'coGrade': '1', 'no2Value': '0.040', 'stationName': '시지동', 'pm10Grade': '2', 'o3Value': '0.014'}, {'so2Grade': '1', 'coFlag': None, 'khaiValue': '74', 'so2Value': '0.003', 'coValue': '0.6', 'pm25Flag': None, 'pm10Flag': None, 'o3Grade': '1', 'pm10Value': '53', 'khaiGrade': '2', 'pm25Value': '28', 'sidoName': '대구', 'no2Flag': None, 'no2Grade': '2', 'o3Flag': None, 'pm25Grade': '2', 'so2Flag': None, 'dataTime': '2022-02-10 10:00', 'coGrade': '1', 'no2Value': '0.033', 'stationName': '진천동', 'pm10Grade': '2', 'o3Value': '0.012'}, {'so2Grade': '1', 'coFlag': None, 'khaiValue': '85', 'so2Value': '0.003', 'coValue': '0.5', 'pm25Flag': None, 'pm10Flag': None, 'o3Grade': '1', 'pm10Value': '68', 'khaiGrade': '2', 'pm25Value': '39', 'sidoName': '대구', 'no2Flag': None, 'no2Grade': '1', 'o3Flag': None, 'pm25Grade': '2', 'so2Flag': None, 'dataTime': '2022-02-10 10:00', 'coGrade': '1', 'no2Value': '0.026', 'stationName': '다사읍', 'pm10Grade': '2', 'o3Value': '0.009'}, {'so2Grade': '1', 'coFlag': None, 'khaiValue': '97', 'so2Value': '0.003', 'coValue': '0.5', 'pm25Flag': None, 'pm10Flag': None, 'o3Grade': '1', 'pm10Value': '58', 'khaiGrade': '2', 'pm25Value': '40', 'sidoName': '대구', 'no2Flag': None, 'no2Grade': '2', 'o3Flag': None, 'pm25Grade': '2', 'so2Flag': None, 'dataTime': '2022-02-10 10:00', 'coGrade': '1', 'no2Value': '0.043', 'stationName': '본동', 'pm10Grade': '2', 'o3Value': '0.010'}, {'so2Grade': '1', 'coFlag': None, 'khaiValue': '97', 'so2Value': '0.003', 'coValue': '0.5', 'pm25Flag': None, 'pm10Flag': None, 'o3Grade': '1', 'pm10Value': '57', 'khaiGrade': '2', 'pm25Value': '40', 'sidoName': '대구', 'no2Flag': None, 'no2Grade': '2', 'o3Flag': None, 'pm25Grade': '2', 'so2Flag': None, 'dataTime': '2022-02-10 10:00', 'coGrade': '1', 'no2Value': '0.039', 'stationName': '내당동', 'pm10Grade': '2', 'o3Value': '0.012'}, {'so2Grade': '1', 'coFlag': None, 'khaiValue': '97', 'so2Value': '0.004', 'coValue': '0.6', 'pm25Flag': None, 'pm10Flag': None, 'o3Grade': '1', 'pm10Value': '53', 'khaiGrade': '2', 'pm25Value': '42', 'sidoName': '대구', 'no2Flag': None, 'no2Grade': '2', 'o3Flag': None, 'pm25Grade': '2', 'so2Flag': None, 'dataTime': '2022-02-10 10:00', 'coGrade': '1', 'no2Value': '0.046', 'stationName': '침산동', 'pm10Grade': '2', 'o3Value': '0.008'}, {'so2Grade': '1', 'coFlag': None, 'khaiValue': '77', 'so2Value': '0.004', 'coValue': '0.5', 'pm25Flag': None, 'pm10Flag': None, 'o3Grade': '1', 'pm10Value': '59', 'khaiGrade': '2', 'pm25Value': '36', 'sidoName': '대구', 'no2Flag': None, 'no2Grade': '2', 'o3Flag': None, 'pm25Grade': '2', 'so2Flag': None, 'dataTime': '2022-02-10 10:00', 'coGrade': '1', 'no2Value': '0.039', 'stationName': '화원읍', 'pm10Grade': '2', 'o3Value': '0.009'}], 'pageNo': 1, 'numOfRows': 1000}, 'header': {'resultMsg': 'NORMAL_CODE', 'resultCode': '00'}}}\n"
     ]
    }
   ],
   "source": [
    "data = res.json()\n",
    "print(type(data))\n",
    "print(data)\n"
   ]
  },
  {
   "cell_type": "code",
   "execution_count": 12,
   "id": "2bb17b3e",
   "metadata": {},
   "outputs": [
    {
     "name": "stdout",
     "output_type": "stream",
     "text": [
      "response\n"
     ]
    }
   ],
   "source": [
    "for i in data:\n",
    "    print(i)"
   ]
  },
  {
   "cell_type": "code",
   "execution_count": 15,
   "id": "b872bf9f",
   "metadata": {},
   "outputs": [
    {
     "name": "stdout",
     "output_type": "stream",
     "text": [
      "[{'so2Grade': '1', 'coFlag': None, 'khaiValue': '79', 'so2Value': '0.004', 'coValue': '0.5', 'pm25Flag': None, 'pm10Flag': None, 'o3Grade': '1', 'pm10Value': '47', 'khaiGrade': '2', 'pm25Value': '27', 'sidoName': '대구', 'no2Flag': None, 'no2Grade': '2', 'o3Flag': None, 'pm25Grade': '2', 'so2Flag': None, 'dataTime': '2022-02-10 10:00', 'coGrade': '1', 'no2Value': '0.041', 'stationName': '수창동', 'pm10Grade': '2', 'o3Value': '0.014'}, {'so2Grade': '1', 'coFlag': None, 'khaiValue': '74', 'so2Value': '0.005', 'coValue': '0.6', 'pm25Flag': None, 'pm10Flag': None, 'o3Grade': '1', 'pm10Value': '50', 'khaiGrade': '2', 'pm25Value': '30', 'sidoName': '대구', 'no2Flag': None, 'no2Grade': '2', 'o3Flag': None, 'pm25Grade': '2', 'so2Flag': None, 'dataTime': '2022-02-10 10:00', 'coGrade': '1', 'no2Value': '0.035', 'stationName': '지산동', 'pm10Grade': '2', 'o3Value': '0.014'}, {'so2Grade': '1', 'coFlag': None, 'khaiValue': '105', 'so2Value': '0.006', 'coValue': '0.8', 'pm25Flag': None, 'pm10Flag': None, 'o3Grade': '1', 'pm10Value': '77', 'khaiGrade': '3', 'pm25Value': '51', 'sidoName': '대구', 'no2Flag': None, 'no2Grade': '2', 'o3Flag': None, 'pm25Grade': '3', 'so2Flag': None, 'dataTime': '2022-02-10 10:00', 'coGrade': '1', 'no2Value': '0.053', 'stationName': '서호동', 'pm10Grade': '2', 'o3Value': '0.004'}, {'so2Grade': '1', 'coFlag': None, 'khaiValue': '85', 'so2Value': '0.003', 'coValue': '0.2', 'pm25Flag': None, 'pm10Flag': None, 'o3Grade': '1', 'pm10Value': '45', 'khaiGrade': '2', 'pm25Value': '33', 'sidoName': '대구', 'no2Flag': None, 'no2Grade': '1', 'o3Flag': None, 'pm25Grade': '2', 'so2Flag': None, 'dataTime': '2022-02-10 10:00', 'coGrade': '1', 'no2Value': '0.030', 'stationName': '이현동', 'pm10Grade': '2', 'o3Value': '0.018'}, {'so2Grade': '1', 'coFlag': None, 'khaiValue': '97', 'so2Value': '0.006', 'coValue': '0.6', 'pm25Flag': None, 'pm10Flag': None, 'o3Grade': '1', 'pm10Value': '65', 'khaiGrade': '2', 'pm25Value': '37', 'sidoName': '대구', 'no2Flag': None, 'no2Grade': '2', 'o3Flag': None, 'pm25Grade': '2', 'so2Flag': None, 'dataTime': '2022-02-10 10:00', 'coGrade': '1', 'no2Value': '0.050', 'stationName': '평리동', 'pm10Grade': '2', 'o3Value': '0.008'}, {'so2Grade': '1', 'coFlag': None, 'khaiValue': '82', 'so2Value': '0.003', 'coValue': '0.5', 'pm25Flag': None, 'pm10Flag': None, 'o3Grade': '1', 'pm10Value': '54', 'khaiGrade': '2', 'pm25Value': '28', 'sidoName': '대구', 'no2Flag': None, 'no2Grade': '2', 'o3Flag': None, 'pm25Grade': '2', 'so2Flag': None, 'dataTime': '2022-02-10 10:00', 'coGrade': '1', 'no2Value': '0.037', 'stationName': '대명동', 'pm10Grade': '2', 'o3Value': '0.014'}, {'so2Grade': '1', 'coFlag': None, 'khaiValue': '83', 'so2Value': '0.004', 'coValue': '0.7', 'pm25Flag': None, 'pm10Flag': None, 'o3Grade': '1', 'pm10Value': '78', 'khaiGrade': '2', 'pm25Value': '38', 'sidoName': '대구', 'no2Flag': None, 'no2Grade': '2', 'o3Flag': None, 'pm25Grade': '2', 'so2Flag': None, 'dataTime': '2022-02-10 10:00', 'coGrade': '1', 'no2Value': '0.050', 'stationName': '신암동', 'pm10Grade': '2', 'o3Value': '0.008'}, {'so2Grade': '1', 'coFlag': None, 'khaiValue': '66', 'so2Value': '0.004', 'coValue': '0.6', 'pm25Flag': None, 'pm10Flag': None, 'o3Grade': '1', 'pm10Value': '51', 'khaiGrade': '2', 'pm25Value': '26', 'sidoName': '대구', 'no2Flag': None, 'no2Grade': '2', 'o3Flag': None, 'pm25Grade': '2', 'so2Flag': None, 'dataTime': '2022-02-10 10:00', 'coGrade': '1', 'no2Value': '0.040', 'stationName': '태전동', 'pm10Grade': '2', 'o3Value': '0.011'}, {'so2Grade': '1', 'coFlag': None, 'khaiValue': '74', 'so2Value': '0.003', 'coValue': '0.4', 'pm25Flag': None, 'pm10Flag': None, 'o3Grade': '1', 'pm10Value': '51', 'khaiGrade': '2', 'pm25Value': '34', 'sidoName': '대구', 'no2Flag': None, 'no2Grade': '2', 'o3Flag': None, 'pm25Grade': '2', 'so2Flag': None, 'dataTime': '2022-02-10 10:00', 'coGrade': '1', 'no2Value': '0.036', 'stationName': '산격동', 'pm10Grade': '2', 'o3Value': '0.011'}, {'so2Grade': '1', 'coFlag': None, 'khaiValue': '74', 'so2Value': '0.004', 'coValue': '0.6', 'pm25Flag': None, 'pm10Flag': None, 'o3Grade': '1', 'pm10Value': '52', 'khaiGrade': '2', 'pm25Value': '32', 'sidoName': '대구', 'no2Flag': None, 'no2Grade': '2', 'o3Flag': None, 'pm25Grade': '2', 'so2Flag': None, 'dataTime': '2022-02-10 10:00', 'coGrade': '1', 'no2Value': '0.043', 'stationName': '만촌동', 'pm10Grade': '2', 'o3Value': '0.011'}, {'so2Grade': None, 'coFlag': '점검및교정', 'khaiValue': '-', 'so2Value': '-', 'coValue': '-', 'pm25Flag': '점검및교정', 'pm10Flag': '점검및교정', 'o3Grade': None, 'pm10Value': '-', 'khaiGrade': None, 'pm25Value': '-', 'sidoName': '대구', 'no2Flag': '점검및교정', 'no2Grade': None, 'o3Flag': '점검및교정', 'pm25Grade': None, 'so2Flag': '점검및교정', 'dataTime': '2022-02-10 10:00', 'coGrade': None, 'no2Value': '-', 'stationName': '호림동', 'pm10Grade': None, 'o3Value': '-'}, {'so2Grade': '1', 'coFlag': None, 'khaiValue': '77', 'so2Value': '0.001', 'coValue': '0.3', 'pm25Flag': None, 'pm10Flag': None, 'o3Grade': '1', 'pm10Value': '50', 'khaiGrade': '2', 'pm25Value': '27', 'sidoName': '대구', 'no2Flag': None, 'no2Grade': '1', 'o3Flag': None, 'pm25Grade': '2', 'so2Flag': None, 'dataTime': '2022-02-10 10:00', 'coGrade': '1', 'no2Value': '0.026', 'stationName': '유가읍', 'pm10Grade': '2', 'o3Value': '0.026'}, {'so2Grade': '1', 'coFlag': None, 'khaiValue': '105', 'so2Value': '0.005', 'coValue': '0.4', 'pm25Flag': None, 'pm10Flag': None, 'o3Grade': '1', 'pm10Value': '64', 'khaiGrade': '3', 'pm25Value': '42', 'sidoName': '대구', 'no2Flag': None, 'no2Grade': '2', 'o3Flag': None, 'pm25Grade': '3', 'so2Flag': None, 'dataTime': '2022-02-10 10:00', 'coGrade': '1', 'no2Value': '0.046', 'stationName': '이곡동', 'pm10Grade': '2', 'o3Value': '0.008'}, {'so2Grade': '1', 'coFlag': None, 'khaiValue': '77', 'so2Value': '0.003', 'coValue': '0.6', 'pm25Flag': None, 'pm10Flag': None, 'o3Grade': '1', 'pm10Value': '46', 'khaiGrade': '2', 'pm25Value': '35', 'sidoName': '대구', 'no2Flag': None, 'no2Grade': '2', 'o3Flag': None, 'pm25Grade': '2', 'so2Flag': None, 'dataTime': '2022-02-10 10:00', 'coGrade': '1', 'no2Value': '0.040', 'stationName': '시지동', 'pm10Grade': '2', 'o3Value': '0.014'}, {'so2Grade': '1', 'coFlag': None, 'khaiValue': '74', 'so2Value': '0.003', 'coValue': '0.6', 'pm25Flag': None, 'pm10Flag': None, 'o3Grade': '1', 'pm10Value': '53', 'khaiGrade': '2', 'pm25Value': '28', 'sidoName': '대구', 'no2Flag': None, 'no2Grade': '2', 'o3Flag': None, 'pm25Grade': '2', 'so2Flag': None, 'dataTime': '2022-02-10 10:00', 'coGrade': '1', 'no2Value': '0.033', 'stationName': '진천동', 'pm10Grade': '2', 'o3Value': '0.012'}, {'so2Grade': '1', 'coFlag': None, 'khaiValue': '85', 'so2Value': '0.003', 'coValue': '0.5', 'pm25Flag': None, 'pm10Flag': None, 'o3Grade': '1', 'pm10Value': '68', 'khaiGrade': '2', 'pm25Value': '39', 'sidoName': '대구', 'no2Flag': None, 'no2Grade': '1', 'o3Flag': None, 'pm25Grade': '2', 'so2Flag': None, 'dataTime': '2022-02-10 10:00', 'coGrade': '1', 'no2Value': '0.026', 'stationName': '다사읍', 'pm10Grade': '2', 'o3Value': '0.009'}, {'so2Grade': '1', 'coFlag': None, 'khaiValue': '97', 'so2Value': '0.003', 'coValue': '0.5', 'pm25Flag': None, 'pm10Flag': None, 'o3Grade': '1', 'pm10Value': '58', 'khaiGrade': '2', 'pm25Value': '40', 'sidoName': '대구', 'no2Flag': None, 'no2Grade': '2', 'o3Flag': None, 'pm25Grade': '2', 'so2Flag': None, 'dataTime': '2022-02-10 10:00', 'coGrade': '1', 'no2Value': '0.043', 'stationName': '본동', 'pm10Grade': '2', 'o3Value': '0.010'}, {'so2Grade': '1', 'coFlag': None, 'khaiValue': '97', 'so2Value': '0.003', 'coValue': '0.5', 'pm25Flag': None, 'pm10Flag': None, 'o3Grade': '1', 'pm10Value': '57', 'khaiGrade': '2', 'pm25Value': '40', 'sidoName': '대구', 'no2Flag': None, 'no2Grade': '2', 'o3Flag': None, 'pm25Grade': '2', 'so2Flag': None, 'dataTime': '2022-02-10 10:00', 'coGrade': '1', 'no2Value': '0.039', 'stationName': '내당동', 'pm10Grade': '2', 'o3Value': '0.012'}, {'so2Grade': '1', 'coFlag': None, 'khaiValue': '97', 'so2Value': '0.004', 'coValue': '0.6', 'pm25Flag': None, 'pm10Flag': None, 'o3Grade': '1', 'pm10Value': '53', 'khaiGrade': '2', 'pm25Value': '42', 'sidoName': '대구', 'no2Flag': None, 'no2Grade': '2', 'o3Flag': None, 'pm25Grade': '2', 'so2Flag': None, 'dataTime': '2022-02-10 10:00', 'coGrade': '1', 'no2Value': '0.046', 'stationName': '침산동', 'pm10Grade': '2', 'o3Value': '0.008'}, {'so2Grade': '1', 'coFlag': None, 'khaiValue': '77', 'so2Value': '0.004', 'coValue': '0.5', 'pm25Flag': None, 'pm10Flag': None, 'o3Grade': '1', 'pm10Value': '59', 'khaiGrade': '2', 'pm25Value': '36', 'sidoName': '대구', 'no2Flag': None, 'no2Grade': '2', 'o3Flag': None, 'pm25Grade': '2', 'so2Flag': None, 'dataTime': '2022-02-10 10:00', 'coGrade': '1', 'no2Value': '0.039', 'stationName': '화원읍', 'pm10Grade': '2', 'o3Value': '0.009'}]\n"
     ]
    }
   ],
   "source": [
    "daegu_items = data['response']['body']['items']\n",
    "print(daegu_item)"
   ]
  },
  {
   "cell_type": "code",
   "execution_count": 16,
   "id": "cbeac811",
   "metadata": {
    "scrolled": false
   },
   "outputs": [
    {
     "name": "stdout",
     "output_type": "stream",
     "text": [
      "{'so2Grade': '1', 'coFlag': None, 'khaiValue': '79', 'so2Value': '0.004', 'coValue': '0.5', 'pm25Flag': None, 'pm10Flag': None, 'o3Grade': '1', 'pm10Value': '47', 'khaiGrade': '2', 'pm25Value': '27', 'sidoName': '대구', 'no2Flag': None, 'no2Grade': '2', 'o3Flag': None, 'pm25Grade': '2', 'so2Flag': None, 'dataTime': '2022-02-10 10:00', 'coGrade': '1', 'no2Value': '0.041', 'stationName': '수창동', 'pm10Grade': '2', 'o3Value': '0.014'}\n",
      " \n",
      "{'so2Grade': '1', 'coFlag': None, 'khaiValue': '74', 'so2Value': '0.005', 'coValue': '0.6', 'pm25Flag': None, 'pm10Flag': None, 'o3Grade': '1', 'pm10Value': '50', 'khaiGrade': '2', 'pm25Value': '30', 'sidoName': '대구', 'no2Flag': None, 'no2Grade': '2', 'o3Flag': None, 'pm25Grade': '2', 'so2Flag': None, 'dataTime': '2022-02-10 10:00', 'coGrade': '1', 'no2Value': '0.035', 'stationName': '지산동', 'pm10Grade': '2', 'o3Value': '0.014'}\n",
      " \n",
      "{'so2Grade': '1', 'coFlag': None, 'khaiValue': '105', 'so2Value': '0.006', 'coValue': '0.8', 'pm25Flag': None, 'pm10Flag': None, 'o3Grade': '1', 'pm10Value': '77', 'khaiGrade': '3', 'pm25Value': '51', 'sidoName': '대구', 'no2Flag': None, 'no2Grade': '2', 'o3Flag': None, 'pm25Grade': '3', 'so2Flag': None, 'dataTime': '2022-02-10 10:00', 'coGrade': '1', 'no2Value': '0.053', 'stationName': '서호동', 'pm10Grade': '2', 'o3Value': '0.004'}\n",
      " \n",
      "{'so2Grade': '1', 'coFlag': None, 'khaiValue': '85', 'so2Value': '0.003', 'coValue': '0.2', 'pm25Flag': None, 'pm10Flag': None, 'o3Grade': '1', 'pm10Value': '45', 'khaiGrade': '2', 'pm25Value': '33', 'sidoName': '대구', 'no2Flag': None, 'no2Grade': '1', 'o3Flag': None, 'pm25Grade': '2', 'so2Flag': None, 'dataTime': '2022-02-10 10:00', 'coGrade': '1', 'no2Value': '0.030', 'stationName': '이현동', 'pm10Grade': '2', 'o3Value': '0.018'}\n",
      " \n",
      "{'so2Grade': '1', 'coFlag': None, 'khaiValue': '97', 'so2Value': '0.006', 'coValue': '0.6', 'pm25Flag': None, 'pm10Flag': None, 'o3Grade': '1', 'pm10Value': '65', 'khaiGrade': '2', 'pm25Value': '37', 'sidoName': '대구', 'no2Flag': None, 'no2Grade': '2', 'o3Flag': None, 'pm25Grade': '2', 'so2Flag': None, 'dataTime': '2022-02-10 10:00', 'coGrade': '1', 'no2Value': '0.050', 'stationName': '평리동', 'pm10Grade': '2', 'o3Value': '0.008'}\n",
      " \n",
      "{'so2Grade': '1', 'coFlag': None, 'khaiValue': '82', 'so2Value': '0.003', 'coValue': '0.5', 'pm25Flag': None, 'pm10Flag': None, 'o3Grade': '1', 'pm10Value': '54', 'khaiGrade': '2', 'pm25Value': '28', 'sidoName': '대구', 'no2Flag': None, 'no2Grade': '2', 'o3Flag': None, 'pm25Grade': '2', 'so2Flag': None, 'dataTime': '2022-02-10 10:00', 'coGrade': '1', 'no2Value': '0.037', 'stationName': '대명동', 'pm10Grade': '2', 'o3Value': '0.014'}\n",
      " \n",
      "{'so2Grade': '1', 'coFlag': None, 'khaiValue': '83', 'so2Value': '0.004', 'coValue': '0.7', 'pm25Flag': None, 'pm10Flag': None, 'o3Grade': '1', 'pm10Value': '78', 'khaiGrade': '2', 'pm25Value': '38', 'sidoName': '대구', 'no2Flag': None, 'no2Grade': '2', 'o3Flag': None, 'pm25Grade': '2', 'so2Flag': None, 'dataTime': '2022-02-10 10:00', 'coGrade': '1', 'no2Value': '0.050', 'stationName': '신암동', 'pm10Grade': '2', 'o3Value': '0.008'}\n",
      " \n",
      "{'so2Grade': '1', 'coFlag': None, 'khaiValue': '66', 'so2Value': '0.004', 'coValue': '0.6', 'pm25Flag': None, 'pm10Flag': None, 'o3Grade': '1', 'pm10Value': '51', 'khaiGrade': '2', 'pm25Value': '26', 'sidoName': '대구', 'no2Flag': None, 'no2Grade': '2', 'o3Flag': None, 'pm25Grade': '2', 'so2Flag': None, 'dataTime': '2022-02-10 10:00', 'coGrade': '1', 'no2Value': '0.040', 'stationName': '태전동', 'pm10Grade': '2', 'o3Value': '0.011'}\n",
      " \n",
      "{'so2Grade': '1', 'coFlag': None, 'khaiValue': '74', 'so2Value': '0.003', 'coValue': '0.4', 'pm25Flag': None, 'pm10Flag': None, 'o3Grade': '1', 'pm10Value': '51', 'khaiGrade': '2', 'pm25Value': '34', 'sidoName': '대구', 'no2Flag': None, 'no2Grade': '2', 'o3Flag': None, 'pm25Grade': '2', 'so2Flag': None, 'dataTime': '2022-02-10 10:00', 'coGrade': '1', 'no2Value': '0.036', 'stationName': '산격동', 'pm10Grade': '2', 'o3Value': '0.011'}\n",
      " \n",
      "{'so2Grade': '1', 'coFlag': None, 'khaiValue': '74', 'so2Value': '0.004', 'coValue': '0.6', 'pm25Flag': None, 'pm10Flag': None, 'o3Grade': '1', 'pm10Value': '52', 'khaiGrade': '2', 'pm25Value': '32', 'sidoName': '대구', 'no2Flag': None, 'no2Grade': '2', 'o3Flag': None, 'pm25Grade': '2', 'so2Flag': None, 'dataTime': '2022-02-10 10:00', 'coGrade': '1', 'no2Value': '0.043', 'stationName': '만촌동', 'pm10Grade': '2', 'o3Value': '0.011'}\n",
      " \n",
      "{'so2Grade': None, 'coFlag': '점검및교정', 'khaiValue': '-', 'so2Value': '-', 'coValue': '-', 'pm25Flag': '점검및교정', 'pm10Flag': '점검및교정', 'o3Grade': None, 'pm10Value': '-', 'khaiGrade': None, 'pm25Value': '-', 'sidoName': '대구', 'no2Flag': '점검및교정', 'no2Grade': None, 'o3Flag': '점검및교정', 'pm25Grade': None, 'so2Flag': '점검및교정', 'dataTime': '2022-02-10 10:00', 'coGrade': None, 'no2Value': '-', 'stationName': '호림동', 'pm10Grade': None, 'o3Value': '-'}\n",
      " \n",
      "{'so2Grade': '1', 'coFlag': None, 'khaiValue': '77', 'so2Value': '0.001', 'coValue': '0.3', 'pm25Flag': None, 'pm10Flag': None, 'o3Grade': '1', 'pm10Value': '50', 'khaiGrade': '2', 'pm25Value': '27', 'sidoName': '대구', 'no2Flag': None, 'no2Grade': '1', 'o3Flag': None, 'pm25Grade': '2', 'so2Flag': None, 'dataTime': '2022-02-10 10:00', 'coGrade': '1', 'no2Value': '0.026', 'stationName': '유가읍', 'pm10Grade': '2', 'o3Value': '0.026'}\n",
      " \n",
      "{'so2Grade': '1', 'coFlag': None, 'khaiValue': '105', 'so2Value': '0.005', 'coValue': '0.4', 'pm25Flag': None, 'pm10Flag': None, 'o3Grade': '1', 'pm10Value': '64', 'khaiGrade': '3', 'pm25Value': '42', 'sidoName': '대구', 'no2Flag': None, 'no2Grade': '2', 'o3Flag': None, 'pm25Grade': '3', 'so2Flag': None, 'dataTime': '2022-02-10 10:00', 'coGrade': '1', 'no2Value': '0.046', 'stationName': '이곡동', 'pm10Grade': '2', 'o3Value': '0.008'}\n",
      " \n",
      "{'so2Grade': '1', 'coFlag': None, 'khaiValue': '77', 'so2Value': '0.003', 'coValue': '0.6', 'pm25Flag': None, 'pm10Flag': None, 'o3Grade': '1', 'pm10Value': '46', 'khaiGrade': '2', 'pm25Value': '35', 'sidoName': '대구', 'no2Flag': None, 'no2Grade': '2', 'o3Flag': None, 'pm25Grade': '2', 'so2Flag': None, 'dataTime': '2022-02-10 10:00', 'coGrade': '1', 'no2Value': '0.040', 'stationName': '시지동', 'pm10Grade': '2', 'o3Value': '0.014'}\n",
      " \n",
      "{'so2Grade': '1', 'coFlag': None, 'khaiValue': '74', 'so2Value': '0.003', 'coValue': '0.6', 'pm25Flag': None, 'pm10Flag': None, 'o3Grade': '1', 'pm10Value': '53', 'khaiGrade': '2', 'pm25Value': '28', 'sidoName': '대구', 'no2Flag': None, 'no2Grade': '2', 'o3Flag': None, 'pm25Grade': '2', 'so2Flag': None, 'dataTime': '2022-02-10 10:00', 'coGrade': '1', 'no2Value': '0.033', 'stationName': '진천동', 'pm10Grade': '2', 'o3Value': '0.012'}\n",
      " \n",
      "{'so2Grade': '1', 'coFlag': None, 'khaiValue': '85', 'so2Value': '0.003', 'coValue': '0.5', 'pm25Flag': None, 'pm10Flag': None, 'o3Grade': '1', 'pm10Value': '68', 'khaiGrade': '2', 'pm25Value': '39', 'sidoName': '대구', 'no2Flag': None, 'no2Grade': '1', 'o3Flag': None, 'pm25Grade': '2', 'so2Flag': None, 'dataTime': '2022-02-10 10:00', 'coGrade': '1', 'no2Value': '0.026', 'stationName': '다사읍', 'pm10Grade': '2', 'o3Value': '0.009'}\n",
      " \n",
      "{'so2Grade': '1', 'coFlag': None, 'khaiValue': '97', 'so2Value': '0.003', 'coValue': '0.5', 'pm25Flag': None, 'pm10Flag': None, 'o3Grade': '1', 'pm10Value': '58', 'khaiGrade': '2', 'pm25Value': '40', 'sidoName': '대구', 'no2Flag': None, 'no2Grade': '2', 'o3Flag': None, 'pm25Grade': '2', 'so2Flag': None, 'dataTime': '2022-02-10 10:00', 'coGrade': '1', 'no2Value': '0.043', 'stationName': '본동', 'pm10Grade': '2', 'o3Value': '0.010'}\n",
      " \n",
      "{'so2Grade': '1', 'coFlag': None, 'khaiValue': '97', 'so2Value': '0.003', 'coValue': '0.5', 'pm25Flag': None, 'pm10Flag': None, 'o3Grade': '1', 'pm10Value': '57', 'khaiGrade': '2', 'pm25Value': '40', 'sidoName': '대구', 'no2Flag': None, 'no2Grade': '2', 'o3Flag': None, 'pm25Grade': '2', 'so2Flag': None, 'dataTime': '2022-02-10 10:00', 'coGrade': '1', 'no2Value': '0.039', 'stationName': '내당동', 'pm10Grade': '2', 'o3Value': '0.012'}\n",
      " \n",
      "{'so2Grade': '1', 'coFlag': None, 'khaiValue': '97', 'so2Value': '0.004', 'coValue': '0.6', 'pm25Flag': None, 'pm10Flag': None, 'o3Grade': '1', 'pm10Value': '53', 'khaiGrade': '2', 'pm25Value': '42', 'sidoName': '대구', 'no2Flag': None, 'no2Grade': '2', 'o3Flag': None, 'pm25Grade': '2', 'so2Flag': None, 'dataTime': '2022-02-10 10:00', 'coGrade': '1', 'no2Value': '0.046', 'stationName': '침산동', 'pm10Grade': '2', 'o3Value': '0.008'}\n",
      " \n",
      "{'so2Grade': '1', 'coFlag': None, 'khaiValue': '77', 'so2Value': '0.004', 'coValue': '0.5', 'pm25Flag': None, 'pm10Flag': None, 'o3Grade': '1', 'pm10Value': '59', 'khaiGrade': '2', 'pm25Value': '36', 'sidoName': '대구', 'no2Flag': None, 'no2Grade': '2', 'o3Flag': None, 'pm25Grade': '2', 'so2Flag': None, 'dataTime': '2022-02-10 10:00', 'coGrade': '1', 'no2Value': '0.039', 'stationName': '화원읍', 'pm10Grade': '2', 'o3Value': '0.009'}\n",
      " \n"
     ]
    }
   ],
   "source": [
    "for item in daegu_items:\n",
    "    print(item)\n",
    "    print(\" \")"
   ]
  },
  {
   "cell_type": "code",
   "execution_count": 57,
   "id": "31486720",
   "metadata": {},
   "outputs": [
    {
     "name": "stdout",
     "output_type": "stream",
     "text": [
      "so2Grade : 1\n",
      "coFlag : None\n",
      "khaiValue : 79\n",
      "so2Value : 0.004\n",
      "coValue : 0.5\n",
      "pm25Flag : None\n",
      "pm10Flag : None\n",
      "o3Grade : 1\n",
      "pm10Value : 47\n",
      "khaiGrade : 2\n",
      "pm25Value : 27\n",
      "sidoName : 대구\n",
      "no2Flag : None\n",
      "no2Grade : 2\n",
      "o3Flag : None\n",
      "pm25Grade : 2\n",
      "so2Flag : None\n",
      "dataTime : 2022-02-10 10:00\n",
      "coGrade : 1\n",
      "no2Value : 0.041\n",
      "stationName : 수창동\n",
      "pm10Grade : 2\n",
      "o3Value : 0.014\n"
     ]
    }
   ],
   "source": [
    "for key, value in daegu_items[0].items():\n",
    "    print(key, \":\",value)"
   ]
  },
  {
   "cell_type": "code",
   "execution_count": 74,
   "id": "0eefb209",
   "metadata": {
    "scrolled": true
   },
   "outputs": [
    {
     "name": "stdout",
     "output_type": "stream",
     "text": [
      "배열의각요소: {'so2Grade': '1', 'coFlag': None, 'khaiValue': '79', 'so2Value': '0.004', 'coValue': '0.5', 'pm25Flag': None, 'pm10Flag': None, 'o3Grade': '1', 'pm10Value': '47', 'khaiGrade': '2', 'pm25Value': '27', 'sidoName': '대구', 'no2Flag': None, 'no2Grade': '2', 'o3Flag': None, 'pm25Grade': '2', 'so2Flag': None, 'dataTime': '2022-02-10 10:00', 'coGrade': '1', 'no2Value': '0.041', 'stationName': '수창동', 'pm10Grade': '2', 'o3Value': '0.014'}\n",
      "1\n",
      "sidoName : 대구\n",
      "대구\n",
      "-------\n",
      "배열의각요소: {'so2Grade': '1', 'coFlag': None, 'khaiValue': '74', 'so2Value': '0.005', 'coValue': '0.6', 'pm25Flag': None, 'pm10Flag': None, 'o3Grade': '1', 'pm10Value': '50', 'khaiGrade': '2', 'pm25Value': '30', 'sidoName': '대구', 'no2Flag': None, 'no2Grade': '2', 'o3Flag': None, 'pm25Grade': '2', 'so2Flag': None, 'dataTime': '2022-02-10 10:00', 'coGrade': '1', 'no2Value': '0.035', 'stationName': '지산동', 'pm10Grade': '2', 'o3Value': '0.014'}\n",
      "1\n",
      "sidoName : 대구\n",
      "대구\n",
      "-------\n",
      "배열의각요소: {'so2Grade': '1', 'coFlag': None, 'khaiValue': '105', 'so2Value': '0.006', 'coValue': '0.8', 'pm25Flag': None, 'pm10Flag': None, 'o3Grade': '1', 'pm10Value': '77', 'khaiGrade': '3', 'pm25Value': '51', 'sidoName': '대구', 'no2Flag': None, 'no2Grade': '2', 'o3Flag': None, 'pm25Grade': '3', 'so2Flag': None, 'dataTime': '2022-02-10 10:00', 'coGrade': '1', 'no2Value': '0.053', 'stationName': '서호동', 'pm10Grade': '2', 'o3Value': '0.004'}\n",
      "1\n",
      "sidoName : 대구\n",
      "대구\n",
      "-------\n",
      "배열의각요소: {'so2Grade': '1', 'coFlag': None, 'khaiValue': '85', 'so2Value': '0.003', 'coValue': '0.2', 'pm25Flag': None, 'pm10Flag': None, 'o3Grade': '1', 'pm10Value': '45', 'khaiGrade': '2', 'pm25Value': '33', 'sidoName': '대구', 'no2Flag': None, 'no2Grade': '1', 'o3Flag': None, 'pm25Grade': '2', 'so2Flag': None, 'dataTime': '2022-02-10 10:00', 'coGrade': '1', 'no2Value': '0.030', 'stationName': '이현동', 'pm10Grade': '2', 'o3Value': '0.018'}\n",
      "1\n",
      "sidoName : 대구\n",
      "대구\n",
      "-------\n",
      "배열의각요소: {'so2Grade': '1', 'coFlag': None, 'khaiValue': '97', 'so2Value': '0.006', 'coValue': '0.6', 'pm25Flag': None, 'pm10Flag': None, 'o3Grade': '1', 'pm10Value': '65', 'khaiGrade': '2', 'pm25Value': '37', 'sidoName': '대구', 'no2Flag': None, 'no2Grade': '2', 'o3Flag': None, 'pm25Grade': '2', 'so2Flag': None, 'dataTime': '2022-02-10 10:00', 'coGrade': '1', 'no2Value': '0.050', 'stationName': '평리동', 'pm10Grade': '2', 'o3Value': '0.008'}\n",
      "1\n",
      "sidoName : 대구\n",
      "대구\n",
      "-------\n",
      "배열의각요소: {'so2Grade': '1', 'coFlag': None, 'khaiValue': '82', 'so2Value': '0.003', 'coValue': '0.5', 'pm25Flag': None, 'pm10Flag': None, 'o3Grade': '1', 'pm10Value': '54', 'khaiGrade': '2', 'pm25Value': '28', 'sidoName': '대구', 'no2Flag': None, 'no2Grade': '2', 'o3Flag': None, 'pm25Grade': '2', 'so2Flag': None, 'dataTime': '2022-02-10 10:00', 'coGrade': '1', 'no2Value': '0.037', 'stationName': '대명동', 'pm10Grade': '2', 'o3Value': '0.014'}\n",
      "1\n",
      "sidoName : 대구\n",
      "대구\n",
      "-------\n",
      "배열의각요소: {'so2Grade': '1', 'coFlag': None, 'khaiValue': '83', 'so2Value': '0.004', 'coValue': '0.7', 'pm25Flag': None, 'pm10Flag': None, 'o3Grade': '1', 'pm10Value': '78', 'khaiGrade': '2', 'pm25Value': '38', 'sidoName': '대구', 'no2Flag': None, 'no2Grade': '2', 'o3Flag': None, 'pm25Grade': '2', 'so2Flag': None, 'dataTime': '2022-02-10 10:00', 'coGrade': '1', 'no2Value': '0.050', 'stationName': '신암동', 'pm10Grade': '2', 'o3Value': '0.008'}\n",
      "1\n",
      "sidoName : 대구\n",
      "대구\n",
      "-------\n",
      "배열의각요소: {'so2Grade': '1', 'coFlag': None, 'khaiValue': '66', 'so2Value': '0.004', 'coValue': '0.6', 'pm25Flag': None, 'pm10Flag': None, 'o3Grade': '1', 'pm10Value': '51', 'khaiGrade': '2', 'pm25Value': '26', 'sidoName': '대구', 'no2Flag': None, 'no2Grade': '2', 'o3Flag': None, 'pm25Grade': '2', 'so2Flag': None, 'dataTime': '2022-02-10 10:00', 'coGrade': '1', 'no2Value': '0.040', 'stationName': '태전동', 'pm10Grade': '2', 'o3Value': '0.011'}\n",
      "1\n",
      "sidoName : 대구\n",
      "대구\n",
      "-------\n",
      "배열의각요소: {'so2Grade': '1', 'coFlag': None, 'khaiValue': '74', 'so2Value': '0.003', 'coValue': '0.4', 'pm25Flag': None, 'pm10Flag': None, 'o3Grade': '1', 'pm10Value': '51', 'khaiGrade': '2', 'pm25Value': '34', 'sidoName': '대구', 'no2Flag': None, 'no2Grade': '2', 'o3Flag': None, 'pm25Grade': '2', 'so2Flag': None, 'dataTime': '2022-02-10 10:00', 'coGrade': '1', 'no2Value': '0.036', 'stationName': '산격동', 'pm10Grade': '2', 'o3Value': '0.011'}\n",
      "1\n",
      "sidoName : 대구\n",
      "대구\n",
      "-------\n",
      "배열의각요소: {'so2Grade': '1', 'coFlag': None, 'khaiValue': '74', 'so2Value': '0.004', 'coValue': '0.6', 'pm25Flag': None, 'pm10Flag': None, 'o3Grade': '1', 'pm10Value': '52', 'khaiGrade': '2', 'pm25Value': '32', 'sidoName': '대구', 'no2Flag': None, 'no2Grade': '2', 'o3Flag': None, 'pm25Grade': '2', 'so2Flag': None, 'dataTime': '2022-02-10 10:00', 'coGrade': '1', 'no2Value': '0.043', 'stationName': '만촌동', 'pm10Grade': '2', 'o3Value': '0.011'}\n",
      "1\n",
      "sidoName : 대구\n",
      "대구\n",
      "-------\n",
      "배열의각요소: {'so2Grade': None, 'coFlag': '점검및교정', 'khaiValue': '-', 'so2Value': '-', 'coValue': '-', 'pm25Flag': '점검및교정', 'pm10Flag': '점검및교정', 'o3Grade': None, 'pm10Value': '-', 'khaiGrade': None, 'pm25Value': '-', 'sidoName': '대구', 'no2Flag': '점검및교정', 'no2Grade': None, 'o3Flag': '점검및교정', 'pm25Grade': None, 'so2Flag': '점검및교정', 'dataTime': '2022-02-10 10:00', 'coGrade': None, 'no2Value': '-', 'stationName': '호림동', 'pm10Grade': None, 'o3Value': '-'}\n",
      "None\n",
      "sidoName : 대구\n",
      "대구\n",
      "-------\n",
      "배열의각요소: {'so2Grade': '1', 'coFlag': None, 'khaiValue': '77', 'so2Value': '0.001', 'coValue': '0.3', 'pm25Flag': None, 'pm10Flag': None, 'o3Grade': '1', 'pm10Value': '50', 'khaiGrade': '2', 'pm25Value': '27', 'sidoName': '대구', 'no2Flag': None, 'no2Grade': '1', 'o3Flag': None, 'pm25Grade': '2', 'so2Flag': None, 'dataTime': '2022-02-10 10:00', 'coGrade': '1', 'no2Value': '0.026', 'stationName': '유가읍', 'pm10Grade': '2', 'o3Value': '0.026'}\n",
      "1\n",
      "sidoName : 대구\n",
      "대구\n",
      "-------\n",
      "배열의각요소: {'so2Grade': '1', 'coFlag': None, 'khaiValue': '105', 'so2Value': '0.005', 'coValue': '0.4', 'pm25Flag': None, 'pm10Flag': None, 'o3Grade': '1', 'pm10Value': '64', 'khaiGrade': '3', 'pm25Value': '42', 'sidoName': '대구', 'no2Flag': None, 'no2Grade': '2', 'o3Flag': None, 'pm25Grade': '3', 'so2Flag': None, 'dataTime': '2022-02-10 10:00', 'coGrade': '1', 'no2Value': '0.046', 'stationName': '이곡동', 'pm10Grade': '2', 'o3Value': '0.008'}\n",
      "1\n",
      "sidoName : 대구\n",
      "대구\n",
      "-------\n",
      "배열의각요소: {'so2Grade': '1', 'coFlag': None, 'khaiValue': '77', 'so2Value': '0.003', 'coValue': '0.6', 'pm25Flag': None, 'pm10Flag': None, 'o3Grade': '1', 'pm10Value': '46', 'khaiGrade': '2', 'pm25Value': '35', 'sidoName': '대구', 'no2Flag': None, 'no2Grade': '2', 'o3Flag': None, 'pm25Grade': '2', 'so2Flag': None, 'dataTime': '2022-02-10 10:00', 'coGrade': '1', 'no2Value': '0.040', 'stationName': '시지동', 'pm10Grade': '2', 'o3Value': '0.014'}\n",
      "1\n",
      "sidoName : 대구\n",
      "대구\n",
      "-------\n",
      "배열의각요소: {'so2Grade': '1', 'coFlag': None, 'khaiValue': '74', 'so2Value': '0.003', 'coValue': '0.6', 'pm25Flag': None, 'pm10Flag': None, 'o3Grade': '1', 'pm10Value': '53', 'khaiGrade': '2', 'pm25Value': '28', 'sidoName': '대구', 'no2Flag': None, 'no2Grade': '2', 'o3Flag': None, 'pm25Grade': '2', 'so2Flag': None, 'dataTime': '2022-02-10 10:00', 'coGrade': '1', 'no2Value': '0.033', 'stationName': '진천동', 'pm10Grade': '2', 'o3Value': '0.012'}\n",
      "1\n",
      "sidoName : 대구\n",
      "대구\n",
      "-------\n",
      "배열의각요소: {'so2Grade': '1', 'coFlag': None, 'khaiValue': '85', 'so2Value': '0.003', 'coValue': '0.5', 'pm25Flag': None, 'pm10Flag': None, 'o3Grade': '1', 'pm10Value': '68', 'khaiGrade': '2', 'pm25Value': '39', 'sidoName': '대구', 'no2Flag': None, 'no2Grade': '1', 'o3Flag': None, 'pm25Grade': '2', 'so2Flag': None, 'dataTime': '2022-02-10 10:00', 'coGrade': '1', 'no2Value': '0.026', 'stationName': '다사읍', 'pm10Grade': '2', 'o3Value': '0.009'}\n",
      "1\n",
      "sidoName : 대구\n",
      "대구\n",
      "-------\n",
      "배열의각요소: {'so2Grade': '1', 'coFlag': None, 'khaiValue': '97', 'so2Value': '0.003', 'coValue': '0.5', 'pm25Flag': None, 'pm10Flag': None, 'o3Grade': '1', 'pm10Value': '58', 'khaiGrade': '2', 'pm25Value': '40', 'sidoName': '대구', 'no2Flag': None, 'no2Grade': '2', 'o3Flag': None, 'pm25Grade': '2', 'so2Flag': None, 'dataTime': '2022-02-10 10:00', 'coGrade': '1', 'no2Value': '0.043', 'stationName': '본동', 'pm10Grade': '2', 'o3Value': '0.010'}\n",
      "1\n",
      "sidoName : 대구\n",
      "대구\n",
      "-------\n",
      "배열의각요소: {'so2Grade': '1', 'coFlag': None, 'khaiValue': '97', 'so2Value': '0.003', 'coValue': '0.5', 'pm25Flag': None, 'pm10Flag': None, 'o3Grade': '1', 'pm10Value': '57', 'khaiGrade': '2', 'pm25Value': '40', 'sidoName': '대구', 'no2Flag': None, 'no2Grade': '2', 'o3Flag': None, 'pm25Grade': '2', 'so2Flag': None, 'dataTime': '2022-02-10 10:00', 'coGrade': '1', 'no2Value': '0.039', 'stationName': '내당동', 'pm10Grade': '2', 'o3Value': '0.012'}\n",
      "1\n",
      "sidoName : 대구\n",
      "대구\n",
      "-------\n",
      "배열의각요소: {'so2Grade': '1', 'coFlag': None, 'khaiValue': '97', 'so2Value': '0.004', 'coValue': '0.6', 'pm25Flag': None, 'pm10Flag': None, 'o3Grade': '1', 'pm10Value': '53', 'khaiGrade': '2', 'pm25Value': '42', 'sidoName': '대구', 'no2Flag': None, 'no2Grade': '2', 'o3Flag': None, 'pm25Grade': '2', 'so2Flag': None, 'dataTime': '2022-02-10 10:00', 'coGrade': '1', 'no2Value': '0.046', 'stationName': '침산동', 'pm10Grade': '2', 'o3Value': '0.008'}\n",
      "1\n",
      "sidoName : 대구\n",
      "대구\n",
      "-------\n",
      "배열의각요소: {'so2Grade': '1', 'coFlag': None, 'khaiValue': '77', 'so2Value': '0.004', 'coValue': '0.5', 'pm25Flag': None, 'pm10Flag': None, 'o3Grade': '1', 'pm10Value': '59', 'khaiGrade': '2', 'pm25Value': '36', 'sidoName': '대구', 'no2Flag': None, 'no2Grade': '2', 'o3Flag': None, 'pm25Grade': '2', 'so2Flag': None, 'dataTime': '2022-02-10 10:00', 'coGrade': '1', 'no2Value': '0.039', 'stationName': '화원읍', 'pm10Grade': '2', 'o3Value': '0.009'}\n",
      "1\n",
      "sidoName : 대구\n",
      "대구\n",
      "-------\n"
     ]
    }
   ],
   "source": [
    "for item in daegu_items: #for i in [{},{},{}]:  for i in 배열 :  \n",
    "    print('배열의각요소:',item) #배열의 각 밸류(객체)를 꺼내는 것 \\\n",
    "    print(item['so2Grade']) #키에 해당하는 밸류값 \n",
    "    \n",
    "    for i in item:\n",
    "        if(i == 'sidoName'):\n",
    "            print(i,\":\",item[i])\n",
    "    print(item['sidoName'])\n",
    "    \n",
    "#     for key, value in item.items():\n",
    "#         print(key, value)\n",
    "    \n",
    "    #print(item.keys())\n",
    "    #print(item.values())\n",
    "    print(\"-------\")"
   ]
  },
  {
   "cell_type": "code",
   "execution_count": null,
   "id": "de290870",
   "metadata": {},
   "outputs": [],
   "source": []
  },
  {
   "cell_type": "code",
   "execution_count": null,
   "id": "d43bbd46",
   "metadata": {},
   "outputs": [],
   "source": []
  },
  {
   "cell_type": "code",
   "execution_count": 50,
   "id": "f3a9ed39",
   "metadata": {},
   "outputs": [
    {
     "name": "stdout",
     "output_type": "stream",
     "text": [
      "ya\n",
      "hoho\n",
      "oho\n",
      "uuu\n",
      "kaka\n",
      "-----\n",
      "-----\n",
      "name\n",
      "address\n",
      "-----\n"
     ]
    }
   ],
   "source": [
    "a = [ 'ya', 'hoho', 'oho', 'uuu', 'kaka']\n",
    "\n",
    "c = {'name': 'kaya', 'address': 33}\n",
    "#for i in 배열:\n",
    "    #print(i) 배열의 밸류값을 꺼냄\n",
    "#for i in 객체: \n",
    "     #print(i) 객체의 키 값 \n",
    "    #print(객체[i]) 객체의 밸류 \n",
    "for i in a:\n",
    "    print(i)\n",
    "print('-----')\n",
    "\n",
    "print('-----')\n",
    "for i in c:\n",
    "    print(i)\n",
    "    #print(c[i])\n",
    "print('-----')"
   ]
  },
  {
   "cell_type": "code",
   "execution_count": null,
   "id": "ac80357e",
   "metadata": {},
   "outputs": [],
   "source": []
  },
  {
   "cell_type": "code",
   "execution_count": 75,
   "id": "ca7b8ca9",
   "metadata": {},
   "outputs": [],
   "source": [
    "array = [{'so2Grade': '1', 'coFlag': None, 'khaiValue': '79', }, \n",
    "{'so2Grade': '1', 'coFlag': None, 'khaiValue': '74', },\n",
    "{'so2Grade': '1', 'coFlag': None, 'khaiValue': '105', }]"
   ]
  },
  {
   "cell_type": "code",
   "execution_count": 76,
   "id": "77613f0d",
   "metadata": {},
   "outputs": [
    {
     "name": "stdout",
     "output_type": "stream",
     "text": [
      "{'so2Grade': '1', 'coFlag': None, 'khaiValue': '79'}\n",
      "{'so2Grade': '1', 'coFlag': None, 'khaiValue': '74'}\n",
      "{'so2Grade': '1', 'coFlag': None, 'khaiValue': '105'}\n"
     ]
    }
   ],
   "source": [
    "for index in array:\n",
    "    print(index)"
   ]
  },
  {
   "cell_type": "code",
   "execution_count": 94,
   "id": "1e467b6f",
   "metadata": {},
   "outputs": [
    {
     "name": "stdout",
     "output_type": "stream",
     "text": [
      "1\n",
      "so2Grade : 1\n",
      "coFlag : None\n",
      "khaiValue : 79\n",
      "-------\n",
      "1\n",
      "so2Grade : 1\n",
      "coFlag : None\n",
      "khaiValue : 74\n",
      "-------\n",
      "1\n",
      "so2Grade : 1\n",
      "coFlag : None\n",
      "khaiValue : 105\n",
      "-------\n"
     ]
    }
   ],
   "source": [
    "for index in array:\n",
    "    print(index['so2Grade']) # 배열 안 딕셔너리의[키]의 밸류값    \n",
    "    for key in index:\n",
    "        print(key , \":\",index[key]) #배알 안 딕셔너리의 키, 밸류 \n",
    "    print(\"-------\")"
   ]
  },
  {
   "cell_type": "code",
   "execution_count": 93,
   "id": "64fc0bdc",
   "metadata": {},
   "outputs": [
    {
     "name": "stdout",
     "output_type": "stream",
     "text": [
      "so2Grade : 1\n",
      "coFlag : None\n",
      "khaiValue : 79\n",
      "-----\n",
      "so2Grade : 1\n",
      "coFlag : None\n",
      "khaiValue : 74\n",
      "-----\n",
      "so2Grade : 1\n",
      "coFlag : None\n",
      "khaiValue : 105\n",
      "-----\n"
     ]
    }
   ],
   "source": [
    "for index in array:\n",
    "    for key, value in index.items():\n",
    "        print(key,\":\", value)\n",
    "    print(\"-----\")"
   ]
  },
  {
   "cell_type": "code",
   "execution_count": 91,
   "id": "e7f2932a",
   "metadata": {},
   "outputs": [
    {
     "name": "stdout",
     "output_type": "stream",
     "text": [
      "khaiValue : 79\n",
      "khaiValue : 74\n",
      "khaiValue : 105\n"
     ]
    }
   ],
   "source": [
    "for index in array:\n",
    "    for key, value in index.items():\n",
    "        if(key == \"khaiValue\"):\n",
    "            print(key, \":\" , value)"
   ]
  },
  {
   "cell_type": "code",
   "execution_count": 95,
   "id": "68835dfd",
   "metadata": {},
   "outputs": [],
   "source": [
    "dic= {'so2Grade': '1', 'coFlag': None, 'khaiValue': '74', 'so2Value': '0.005'}"
   ]
  },
  {
   "cell_type": "code",
   "execution_count": 99,
   "id": "651b0c4c",
   "metadata": {},
   "outputs": [
    {
     "name": "stdout",
     "output_type": "stream",
     "text": [
      "so2Grade : 105\n",
      "coFlag : 105\n",
      "khaiValue : 105\n",
      "so2Value : 105\n"
     ]
    }
   ],
   "source": [
    "for key in dic:\n",
    "    print(key, \":\" , value)"
   ]
  },
  {
   "cell_type": "code",
   "execution_count": 100,
   "id": "99c27c01",
   "metadata": {},
   "outputs": [
    {
     "name": "stdout",
     "output_type": "stream",
     "text": [
      "0.005\n"
     ]
    }
   ],
   "source": [
    "print(dic['so2Value']) #딕셔너리 dic의 키['so2Value'] 인 것 = 밸류값 "
   ]
  },
  {
   "cell_type": "code",
   "execution_count": 143,
   "id": "fd763949",
   "metadata": {},
   "outputs": [
    {
     "name": "stdout",
     "output_type": "stream",
     "text": [
      "[1, 3, 5, 7, 9, 11, 13, 15, 17, 19, 21, 23, 25, 27, 29, 31, 33, 35, 37, 39, 41, 43, 45, 47, 49, 51, 53, 55, 57, 59, 61, 63, 65, 67, 69, 71, 73, 75, 77, 79, 81, 83, 85, 87, 89, 91, 93, 95, 97, 99]\n",
      "홀수배열: [3, 7, 11, 15, 19, 23, 27, 31, 35, 39, 43, 47, 51, 55, 59, 63, 67, 71, 75, 79, 83, 87, 91, 95, 99]\n",
      "짝수배열: [1, 5, 9, 13, 17, 21, 25, 29, 33, 37, 41, 45, 49, 53, 57, 61, 65, 69, 73, 77, 81, 85, 89, 93, 97]\n",
      "{'name': 3, 'value': 1}\n",
      "{'name': 7, 'value': 5}\n",
      "{'name': 11, 'value': 9}\n",
      "{'name': 15, 'value': 13}\n",
      "{'name': 19, 'value': 17}\n",
      "{'name': 23, 'value': 21}\n",
      "{'name': 27, 'value': 25}\n",
      "{'name': 31, 'value': 29}\n",
      "{'name': 35, 'value': 33}\n",
      "{'name': 39, 'value': 37}\n",
      "{'name': 43, 'value': 41}\n",
      "{'name': 47, 'value': 45}\n",
      "{'name': 51, 'value': 49}\n",
      "{'name': 55, 'value': 53}\n",
      "{'name': 59, 'value': 57}\n",
      "{'name': 63, 'value': 61}\n",
      "{'name': 67, 'value': 65}\n",
      "{'name': 71, 'value': 69}\n",
      "{'name': 75, 'value': 73}\n",
      "{'name': 79, 'value': 77}\n",
      "{'name': 83, 'value': 81}\n",
      "{'name': 87, 'value': 85}\n",
      "{'name': 91, 'value': 89}\n",
      "{'name': 95, 'value': 93}\n",
      "{'name': 99, 'value': 97}\n"
     ]
    }
   ],
   "source": [
    "arrayNew = []\n",
    "for i in range(100):\n",
    "    if(i%2==1):\n",
    "        arrayNew.append(i)        \n",
    "\n",
    "print(arrayNew)\n",
    "\n",
    " \n",
    "\n",
    "arrayNew2=[] #홀수배열 \n",
    "arrayNew3=[] #짝수배열\n",
    "for i in arrayNew:    \n",
    "\n",
    "    if(arrayNew.index(i)%2 == 1): #짝수\n",
    "        arrayNew2.append(i)\n",
    "        \n",
    "    elif(arrayNew.index(i)%2 == 0): #홀수 \n",
    "        arrayNew3.append(i)\n",
    "        \n",
    "print(\"홀수배열:\", arrayNew2)\n",
    "print(\"짝수배열:\", arrayNew3)\n",
    "\n",
    "for i in range(len(arrayNew2)):\n",
    "    print({'name': arrayNew2[i], 'value': arrayNew3[i]})"
   ]
  },
  {
   "cell_type": "code",
   "execution_count": 144,
   "id": "0ed9dada",
   "metadata": {},
   "outputs": [
    {
     "name": "stdout",
     "output_type": "stream",
     "text": [
      "[1, 3, 5, 7, 9, 11, 13, 15, 17, 19, 21, 23, 25, 27, 29, 31, 33, 35, 37, 39, 41, 43, 45, 47, 49, 51, 53, 55, 57, 59, 61, 63, 65, 67, 69, 71, 73, 75, 77, 79, 81, 83, 85, 87, 89, 91, 93, 95, 97, 99]\n"
     ]
    }
   ],
   "source": [
    "print(arrayNew)"
   ]
  },
  {
   "cell_type": "code",
   "execution_count": 167,
   "id": "e570fdcf",
   "metadata": {
    "scrolled": false
   },
   "outputs": [
    {
     "name": "stdout",
     "output_type": "stream",
     "text": [
      "[{'name': 1, 'value': 3}, {'name': 5, 'value': 7}, {'name': 9, 'value': 11}, {'name': 13, 'value': 15}, {'name': 17, 'value': 19}, {'name': 21, 'value': 23}, {'name': 25, 'value': 27}, {'name': 29, 'value': 31}, {'name': 33, 'value': 35}, {'name': 37, 'value': 39}, {'name': 41, 'value': 43}, {'name': 45, 'value': 47}, {'name': 49, 'value': 51}, {'name': 53, 'value': 55}, {'name': 57, 'value': 59}, {'name': 61, 'value': 63}, {'name': 65, 'value': 67}, {'name': 69, 'value': 71}, {'name': 73, 'value': 75}, {'name': 77, 'value': 79}, {'name': 81, 'value': 83}, {'name': 85, 'value': 87}, {'name': 89, 'value': 91}, {'name': 93, 'value': 95}, {'name': 97, 'value': 99}]\n"
     ]
    }
   ],
   "source": [
    "arr1=[]\n",
    "dic={}\n",
    "\n",
    "for i in arrayNew:\n",
    "    \n",
    "    if(arrayNew.index(i) % 2 == 0 ): #홀수번째\n",
    "        dic['name'] = i \n",
    "        #print('홀:',dic['name'])\n",
    "    if(arrayNew.index(i)%2 == 1): #짝수번째 \n",
    "        dic['value'] = i \n",
    "        #print('짝:',dic['value'] )\n",
    "        #print(dic)\n",
    "        arr1.append(dic)\n",
    "        dic={}\n",
    "print(arr1)\n",
    "\n",
    "    \n",
    "        "
   ]
  },
  {
   "cell_type": "code",
   "execution_count": 177,
   "id": "2c69601b",
   "metadata": {},
   "outputs": [
    {
     "name": "stdout",
     "output_type": "stream",
     "text": [
      "{'name': 1, 'value': 3}\n",
      "name\n",
      "1\n",
      "value\n",
      "3\n",
      "{'name': 5, 'value': 7}\n",
      "name\n",
      "5\n",
      "value\n",
      "7\n",
      "{'name': 9, 'value': 11}\n",
      "name\n",
      "9\n",
      "value\n",
      "11\n",
      "{'name': 13, 'value': 15}\n",
      "name\n",
      "13\n",
      "value\n",
      "15\n",
      "{'name': 17, 'value': 19}\n",
      "name\n",
      "17\n",
      "value\n",
      "19\n",
      "{'name': 21, 'value': 23}\n",
      "name\n",
      "21\n",
      "value\n",
      "23\n",
      "{'name': 25, 'value': 27}\n",
      "name\n",
      "25\n",
      "value\n",
      "27\n",
      "{'name': 29, 'value': 31}\n",
      "name\n",
      "29\n",
      "value\n",
      "31\n",
      "{'name': 33, 'value': 35}\n",
      "name\n",
      "33\n",
      "value\n",
      "35\n",
      "{'name': 37, 'value': 39}\n",
      "name\n",
      "37\n",
      "value\n",
      "39\n",
      "{'name': 41, 'value': 43}\n",
      "name\n",
      "41\n",
      "value\n",
      "43\n",
      "{'name': 45, 'value': 47}\n",
      "name\n",
      "45\n",
      "value\n",
      "47\n",
      "{'name': 49, 'value': 51}\n",
      "name\n",
      "49\n",
      "value\n",
      "51\n",
      "{'name': 53, 'value': 55}\n",
      "name\n",
      "53\n",
      "value\n",
      "55\n",
      "{'name': 57, 'value': 59}\n",
      "name\n",
      "57\n",
      "value\n",
      "59\n",
      "{'name': 61, 'value': 63}\n",
      "name\n",
      "61\n",
      "value\n",
      "63\n",
      "{'name': 65, 'value': 67}\n",
      "name\n",
      "65\n",
      "value\n",
      "67\n",
      "{'name': 69, 'value': 71}\n",
      "name\n",
      "69\n",
      "value\n",
      "71\n",
      "{'name': 73, 'value': 75}\n",
      "name\n",
      "73\n",
      "value\n",
      "75\n",
      "{'name': 77, 'value': 79}\n",
      "name\n",
      "77\n",
      "value\n",
      "79\n",
      "{'name': 81, 'value': 83}\n",
      "name\n",
      "81\n",
      "value\n",
      "83\n",
      "{'name': 85, 'value': 87}\n",
      "name\n",
      "85\n",
      "value\n",
      "87\n",
      "{'name': 89, 'value': 91}\n",
      "name\n",
      "89\n",
      "value\n",
      "91\n",
      "{'name': 93, 'value': 95}\n",
      "name\n",
      "93\n",
      "value\n",
      "95\n",
      "{'name': 97, 'value': 99}\n",
      "name\n",
      "97\n",
      "value\n",
      "99\n"
     ]
    }
   ],
   "source": [
    "for dic in arr1:\n",
    "    print(dic)\n",
    "    for key, value in dic.items():\n",
    "        print(key)\n",
    "        print(value)"
   ]
  },
  {
   "cell_type": "code",
   "execution_count": null,
   "id": "6dea3154",
   "metadata": {},
   "outputs": [],
   "source": []
  }
 ],
 "metadata": {
  "kernelspec": {
   "display_name": "Python 3 (ipykernel)",
   "language": "python",
   "name": "python3"
  },
  "language_info": {
   "codemirror_mode": {
    "name": "ipython",
    "version": 3
   },
   "file_extension": ".py",
   "mimetype": "text/x-python",
   "name": "python",
   "nbconvert_exporter": "python",
   "pygments_lexer": "ipython3",
   "version": "3.9.7"
  }
 },
 "nbformat": 4,
 "nbformat_minor": 5
}
