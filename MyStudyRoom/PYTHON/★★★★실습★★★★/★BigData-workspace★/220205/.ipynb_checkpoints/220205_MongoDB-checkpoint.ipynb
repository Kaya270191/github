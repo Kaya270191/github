{
 "cells": [
  {
   "cell_type": "code",
   "execution_count": 1,
   "id": "b356896c",
   "metadata": {},
   "outputs": [],
   "source": [
    "from pymongo import MongoClient"
   ]
  },
  {
   "cell_type": "code",
   "execution_count": 2,
   "id": "6544dc7b",
   "metadata": {},
   "outputs": [],
   "source": [
    "client = MongoClient('localhost', 27017)\n",
    "#client = MongoClient('mongodb://localhost:27017')"
   ]
  },
  {
   "cell_type": "code",
   "execution_count": 3,
   "id": "e6b7b37d",
   "metadata": {},
   "outputs": [],
   "source": [
    "db = client['test-database']\n",
    "#db = client.test_database"
   ]
  },
  {
   "cell_type": "code",
   "execution_count": 4,
   "id": "d6d8e780",
   "metadata": {},
   "outputs": [],
   "source": [
    "collection = db['test-collection']\n",
    "#collection = db.test-collection"
   ]
  },
  {
   "cell_type": "code",
   "execution_count": null,
   "id": "23d19231",
   "metadata": {},
   "outputs": [],
   "source": []
  },
  {
   "cell_type": "code",
   "execution_count": 5,
   "id": "72707f18",
   "metadata": {},
   "outputs": [],
   "source": [
    "data_dic = {'name':'홍길동', 'age':17}"
   ]
  },
  {
   "cell_type": "code",
   "execution_count": 6,
   "id": "affbb5c4",
   "metadata": {},
   "outputs": [],
   "source": [
    "re_data_dic = collection.insert_one(data_dic)"
   ]
  },
  {
   "cell_type": "code",
   "execution_count": 7,
   "id": "cb554762",
   "metadata": {},
   "outputs": [
    {
     "name": "stdout",
     "output_type": "stream",
     "text": [
      "<pymongo.results.InsertOneResult object at 0x000002531D48A940>\n"
     ]
    }
   ],
   "source": [
    "print(re_data_dic)"
   ]
  },
  {
   "cell_type": "code",
   "execution_count": 8,
   "id": "ab057bd9",
   "metadata": {},
   "outputs": [],
   "source": [
    "data_dic2 = {'name':'김길동','age':28}"
   ]
  },
  {
   "cell_type": "code",
   "execution_count": 9,
   "id": "da796c19",
   "metadata": {},
   "outputs": [],
   "source": [
    "re_data_dic2 = collection.insert_one(data_dic2) #insert_one()데이터를 db에 저장 "
   ]
  },
  {
   "cell_type": "code",
   "execution_count": 10,
   "id": "0f16087a",
   "metadata": {},
   "outputs": [
    {
     "name": "stdout",
     "output_type": "stream",
     "text": [
      "<pymongo.results.InsertOneResult object at 0x000002531D4A2C00>\n"
     ]
    }
   ],
   "source": [
    "print(re_data_dic2)"
   ]
  },
  {
   "cell_type": "code",
   "execution_count": 11,
   "id": "7684551e",
   "metadata": {},
   "outputs": [
    {
     "name": "stdout",
     "output_type": "stream",
     "text": [
      "6202120fd356d0c6b9224393\n"
     ]
    }
   ],
   "source": [
    "print(re_data_dic2.inserted_id)"
   ]
  },
  {
   "cell_type": "code",
   "execution_count": 12,
   "id": "ac13b258",
   "metadata": {},
   "outputs": [],
   "source": [
    "data_list=[{'name':'이길동', 'age':25},\n",
    "{'name':'박길동', 'age':31},\n",
    "{'name':'정길동', 'age':35}]"
   ]
  },
  {
   "cell_type": "code",
   "execution_count": 13,
   "id": "2db9d936",
   "metadata": {},
   "outputs": [],
   "source": [
    "re_data_dic3 = collection.insert_many(data_list) #insert_many() 여러데이터를 db에 저장 "
   ]
  },
  {
   "cell_type": "code",
   "execution_count": 14,
   "id": "7e21dec6",
   "metadata": {},
   "outputs": [
    {
     "name": "stdout",
     "output_type": "stream",
     "text": [
      "<pymongo.results.InsertManyResult object at 0x000002531CF801C0>\n"
     ]
    }
   ],
   "source": [
    "print(re_data_dic3)"
   ]
  },
  {
   "cell_type": "code",
   "execution_count": 15,
   "id": "162f5b8d",
   "metadata": {},
   "outputs": [
    {
     "name": "stdout",
     "output_type": "stream",
     "text": [
      "[ObjectId('6202120fd356d0c6b9224394'), ObjectId('6202120fd356d0c6b9224395'), ObjectId('6202120fd356d0c6b9224396')]\n"
     ]
    }
   ],
   "source": [
    "print(re_data_dic3.inserted_ids)"
   ]
  },
  {
   "cell_type": "code",
   "execution_count": 16,
   "id": "cd1f8e6f",
   "metadata": {},
   "outputs": [],
   "source": [
    "search_results=collection.find_one() # 테이블 제일 위에꺼 조회"
   ]
  },
  {
   "cell_type": "code",
   "execution_count": 17,
   "id": "0c4e993f",
   "metadata": {},
   "outputs": [
    {
     "name": "stdout",
     "output_type": "stream",
     "text": [
      "<class 'dict'>\n",
      "{'_id': ObjectId('61fde386d7333bcfd0d42b41'), 'name': '홍길동', 'age': 17}\n"
     ]
    }
   ],
   "source": [
    "print(type(search_results))\n",
    "print(search_results)"
   ]
  },
  {
   "cell_type": "code",
   "execution_count": 18,
   "id": "3b0cbafd",
   "metadata": {},
   "outputs": [],
   "source": [
    "search_results=collection.find() #테이블 전체 다 조회 "
   ]
  },
  {
   "cell_type": "code",
   "execution_count": 19,
   "id": "cb492aae",
   "metadata": {},
   "outputs": [
    {
     "name": "stdout",
     "output_type": "stream",
     "text": [
      "<class 'pymongo.cursor.Cursor'>\n",
      "<pymongo.cursor.Cursor object at 0x000002531D4B4310>\n"
     ]
    }
   ],
   "source": [
    "print(type(search_results))\n",
    "print(search_results)"
   ]
  },
  {
   "cell_type": "code",
   "execution_count": 20,
   "id": "9dfe7e3d",
   "metadata": {},
   "outputs": [
    {
     "name": "stdout",
     "output_type": "stream",
     "text": [
      "{'_id': ObjectId('61fde386d7333bcfd0d42b41'), 'name': '홍길동', 'age': 17}\n",
      "{'_id': ObjectId('61fde4e0d7333bcfd0d42b42'), 'name': '김길동', 'age': 28}\n",
      "{'_id': ObjectId('61fde5bcd7333bcfd0d42b43'), 'name': '이길동', 'age': 25}\n",
      "{'_id': ObjectId('61fde5bcd7333bcfd0d42b44'), 'name': '박길동', 'age': 31}\n",
      "{'_id': ObjectId('61fde5bcd7333bcfd0d42b45'), 'name': '정길동', 'age': 35}\n",
      "{'_id': ObjectId('6202120ed356d0c6b9224392'), 'name': '홍길동', 'age': 17}\n",
      "{'_id': ObjectId('6202120fd356d0c6b9224393'), 'name': '김길동', 'age': 28}\n",
      "{'_id': ObjectId('6202120fd356d0c6b9224394'), 'name': '이길동', 'age': 25}\n",
      "{'_id': ObjectId('6202120fd356d0c6b9224395'), 'name': '박길동', 'age': 31}\n",
      "{'_id': ObjectId('6202120fd356d0c6b9224396'), 'name': '정길동', 'age': 35}\n"
     ]
    }
   ],
   "source": [
    "for search_result in search_results: # 전체 다 조회하기 위해서는 for 문 사용\n",
    "    print(search_result)"
   ]
  },
  {
   "cell_type": "code",
   "execution_count": 21,
   "id": "335b9080",
   "metadata": {},
   "outputs": [],
   "source": [
    "#where name = '\"홍길동\"\n",
    "search_results_hong=collection.find({'name': '홍길동'})"
   ]
  },
  {
   "cell_type": "code",
   "execution_count": 22,
   "id": "563938b9",
   "metadata": {},
   "outputs": [
    {
     "name": "stdout",
     "output_type": "stream",
     "text": [
      "<pymongo.cursor.Cursor object at 0x000002531D4C56D0>\n"
     ]
    }
   ],
   "source": [
    "print(search_results_hong)"
   ]
  },
  {
   "cell_type": "code",
   "execution_count": 23,
   "id": "516d1d1c",
   "metadata": {},
   "outputs": [
    {
     "name": "stdout",
     "output_type": "stream",
     "text": [
      "{'_id': ObjectId('61fde386d7333bcfd0d42b41'), 'name': '홍길동', 'age': 17}\n",
      "{'_id': ObjectId('6202120ed356d0c6b9224392'), 'name': '홍길동', 'age': 17}\n"
     ]
    }
   ],
   "source": [
    "for i in search_results_hong:\n",
    "    print(i)"
   ]
  },
  {
   "cell_type": "code",
   "execution_count": 24,
   "id": "7e257c20",
   "metadata": {},
   "outputs": [],
   "source": [
    "#where name =\"홍길동\" and age=17\n",
    "search_results_hong17 = collection.find({'name': '홍길동', 'age':17})"
   ]
  },
  {
   "cell_type": "code",
   "execution_count": 25,
   "id": "509ea526",
   "metadata": {},
   "outputs": [
    {
     "name": "stdout",
     "output_type": "stream",
     "text": [
      "<pymongo.cursor.Cursor object at 0x000002531D49D760>\n"
     ]
    }
   ],
   "source": [
    "print(search_results_hong17)"
   ]
  },
  {
   "cell_type": "code",
   "execution_count": 26,
   "id": "3ff48338",
   "metadata": {},
   "outputs": [
    {
     "name": "stdout",
     "output_type": "stream",
     "text": [
      "{'_id': ObjectId('61fde386d7333bcfd0d42b41'), 'name': '홍길동', 'age': 17}\n",
      "{'_id': ObjectId('6202120ed356d0c6b9224392'), 'name': '홍길동', 'age': 17}\n"
     ]
    }
   ],
   "source": [
    "for i in search_results_hong17:\n",
    "    print(i)"
   ]
  },
  {
   "cell_type": "code",
   "execution_count": 29,
   "id": "846aa1f4",
   "metadata": {},
   "outputs": [
    {
     "name": "stdout",
     "output_type": "stream",
     "text": [
      "<pymongo.cursor.Cursor object at 0x000002531D49D1C0>\n"
     ]
    }
   ],
   "source": [
    "#where age>17\n",
    "search_results_over17 = collection.find({'age':{'$gte':17}})\n",
    "print(search_results_over17)"
   ]
  },
  {
   "cell_type": "code",
   "execution_count": 28,
   "id": "a47bdccb",
   "metadata": {},
   "outputs": [
    {
     "name": "stdout",
     "output_type": "stream",
     "text": [
      "{'_id': ObjectId('61fde386d7333bcfd0d42b41'), 'name': '홍길동', 'age': 17}\n",
      "{'_id': ObjectId('61fde4e0d7333bcfd0d42b42'), 'name': '김길동', 'age': 28}\n",
      "{'_id': ObjectId('61fde5bcd7333bcfd0d42b43'), 'name': '이길동', 'age': 25}\n",
      "{'_id': ObjectId('61fde5bcd7333bcfd0d42b44'), 'name': '박길동', 'age': 31}\n",
      "{'_id': ObjectId('61fde5bcd7333bcfd0d42b45'), 'name': '정길동', 'age': 35}\n",
      "{'_id': ObjectId('6202120ed356d0c6b9224392'), 'name': '홍길동', 'age': 17}\n",
      "{'_id': ObjectId('6202120fd356d0c6b9224393'), 'name': '김길동', 'age': 28}\n",
      "{'_id': ObjectId('6202120fd356d0c6b9224394'), 'name': '이길동', 'age': 25}\n",
      "{'_id': ObjectId('6202120fd356d0c6b9224395'), 'name': '박길동', 'age': 31}\n",
      "{'_id': ObjectId('6202120fd356d0c6b9224396'), 'name': '정길동', 'age': 35}\n"
     ]
    }
   ],
   "source": [
    "for i in search_results_over17:\n",
    "    print(i)"
   ]
  },
  {
   "cell_type": "code",
   "execution_count": 31,
   "id": "d2c930f4",
   "metadata": {},
   "outputs": [
    {
     "name": "stdout",
     "output_type": "stream",
     "text": [
      "<pymongo.cursor.Cursor object at 0x000002531D49D850>\n"
     ]
    }
   ],
   "source": [
    "#while age<28\n",
    "search_results_less28 = collection.find({'age':{'$lt':28}})\n",
    "print(search_results_less28)"
   ]
  },
  {
   "cell_type": "code",
   "execution_count": 32,
   "id": "7e33d01a",
   "metadata": {},
   "outputs": [
    {
     "name": "stdout",
     "output_type": "stream",
     "text": [
      "{'_id': ObjectId('61fde386d7333bcfd0d42b41'), 'name': '홍길동', 'age': 17}\n",
      "{'_id': ObjectId('61fde5bcd7333bcfd0d42b43'), 'name': '이길동', 'age': 25}\n",
      "{'_id': ObjectId('6202120ed356d0c6b9224392'), 'name': '홍길동', 'age': 17}\n",
      "{'_id': ObjectId('6202120fd356d0c6b9224394'), 'name': '이길동', 'age': 25}\n"
     ]
    }
   ],
   "source": [
    "for i in search_results_less28:\n",
    "    print(i)"
   ]
  },
  {
   "cell_type": "code",
   "execution_count": 34,
   "id": "ea190ff1",
   "metadata": {},
   "outputs": [],
   "source": [
    "#where name!= '홍길동'\n",
    "serach_results_nothong=collection.find({'name':{'$ne':'홍길동'}})"
   ]
  },
  {
   "cell_type": "code",
   "execution_count": 36,
   "id": "d2a44fc0",
   "metadata": {},
   "outputs": [
    {
     "name": "stdout",
     "output_type": "stream",
     "text": [
      "{'_id': ObjectId('61fde4e0d7333bcfd0d42b42'), 'name': '김길동', 'age': 28}\n",
      "{'_id': ObjectId('61fde5bcd7333bcfd0d42b43'), 'name': '이길동', 'age': 25}\n",
      "{'_id': ObjectId('61fde5bcd7333bcfd0d42b44'), 'name': '박길동', 'age': 31}\n",
      "{'_id': ObjectId('61fde5bcd7333bcfd0d42b45'), 'name': '정길동', 'age': 35}\n",
      "{'_id': ObjectId('6202120fd356d0c6b9224393'), 'name': '김길동', 'age': 28}\n",
      "{'_id': ObjectId('6202120fd356d0c6b9224394'), 'name': '이길동', 'age': 25}\n",
      "{'_id': ObjectId('6202120fd356d0c6b9224395'), 'name': '박길동', 'age': 31}\n",
      "{'_id': ObjectId('6202120fd356d0c6b9224396'), 'name': '정길동', 'age': 35}\n"
     ]
    }
   ],
   "source": [
    "for i in serach_results_nothong:\n",
    "    print(i)"
   ]
  },
  {
   "cell_type": "code",
   "execution_count": 38,
   "id": "36912a45",
   "metadata": {},
   "outputs": [],
   "source": [
    "#select name from ... where age>17\n",
    "search_results_over17_name=collection.find({'age':{'$gt':17}},{'name':1})"
   ]
  },
  {
   "cell_type": "code",
   "execution_count": 39,
   "id": "bd04b2de",
   "metadata": {},
   "outputs": [
    {
     "name": "stdout",
     "output_type": "stream",
     "text": [
      "{'_id': ObjectId('61fde4e0d7333bcfd0d42b42'), 'name': '김길동'}\n",
      "{'_id': ObjectId('61fde5bcd7333bcfd0d42b43'), 'name': '이길동'}\n",
      "{'_id': ObjectId('61fde5bcd7333bcfd0d42b44'), 'name': '박길동'}\n",
      "{'_id': ObjectId('61fde5bcd7333bcfd0d42b45'), 'name': '정길동'}\n",
      "{'_id': ObjectId('6202120fd356d0c6b9224393'), 'name': '김길동'}\n",
      "{'_id': ObjectId('6202120fd356d0c6b9224394'), 'name': '이길동'}\n",
      "{'_id': ObjectId('6202120fd356d0c6b9224395'), 'name': '박길동'}\n",
      "{'_id': ObjectId('6202120fd356d0c6b9224396'), 'name': '정길동'}\n"
     ]
    }
   ],
   "source": [
    "for i in search_results_over17_name:\n",
    "    print(i)"
   ]
  },
  {
   "cell_type": "code",
   "execution_count": 40,
   "id": "3982b554",
   "metadata": {},
   "outputs": [],
   "source": [
    "search_results_over17_noid = collection.find({'age':{'$gt':17}}, {'_id':0})"
   ]
  },
  {
   "cell_type": "code",
   "execution_count": 41,
   "id": "db4d6a5c",
   "metadata": {},
   "outputs": [
    {
     "name": "stdout",
     "output_type": "stream",
     "text": [
      "{'name': '김길동', 'age': 28}\n",
      "{'name': '이길동', 'age': 25}\n",
      "{'name': '박길동', 'age': 31}\n",
      "{'name': '정길동', 'age': 35}\n",
      "{'name': '김길동', 'age': 28}\n",
      "{'name': '이길동', 'age': 25}\n",
      "{'name': '박길동', 'age': 31}\n",
      "{'name': '정길동', 'age': 35}\n"
     ]
    }
   ],
   "source": [
    "for i in search_results_over17_noid:\n",
    "    print(i)"
   ]
  },
  {
   "cell_type": "code",
   "execution_count": 43,
   "id": "22878981",
   "metadata": {},
   "outputs": [],
   "source": [
    "#({where},{'$set':{set}})\n",
    "set_result=collection.update_one({'name':'홍길동'},{'$set':{'age':18}})"
   ]
  },
  {
   "cell_type": "code",
   "execution_count": 44,
   "id": "b0f9075a",
   "metadata": {},
   "outputs": [
    {
     "name": "stdout",
     "output_type": "stream",
     "text": [
      "<pymongo.results.UpdateResult object at 0x000002531CF11C80>\n"
     ]
    }
   ],
   "source": [
    "print(set_result)"
   ]
  },
  {
   "cell_type": "code",
   "execution_count": 45,
   "id": "0cf71f86",
   "metadata": {},
   "outputs": [],
   "source": [
    "search_results_hong = collection.find({'name':'홍길동'})"
   ]
  },
  {
   "cell_type": "code",
   "execution_count": 47,
   "id": "a3420f80",
   "metadata": {},
   "outputs": [
    {
     "name": "stdout",
     "output_type": "stream",
     "text": [
      "{'_id': ObjectId('61fde386d7333bcfd0d42b41'), 'name': '홍길동', 'age': 18}\n",
      "{'_id': ObjectId('6202120ed356d0c6b9224392'), 'name': '홍길동', 'age': 17}\n"
     ]
    }
   ],
   "source": [
    "for i in search_results_hong:\n",
    "    print(i)"
   ]
  },
  {
   "cell_type": "code",
   "execution_count": 48,
   "id": "5499bff3",
   "metadata": {},
   "outputs": [],
   "source": [
    "search_results_hong2=collection.find({'name':{'$regex':'길동'}})"
   ]
  },
  {
   "cell_type": "code",
   "execution_count": 49,
   "id": "27155c84",
   "metadata": {},
   "outputs": [
    {
     "name": "stdout",
     "output_type": "stream",
     "text": [
      "<pymongo.cursor.Cursor object at 0x000002531D484E50>\n"
     ]
    }
   ],
   "source": [
    "print(search_results_hong2)"
   ]
  },
  {
   "cell_type": "code",
   "execution_count": 50,
   "id": "6542fe66",
   "metadata": {},
   "outputs": [
    {
     "name": "stdout",
     "output_type": "stream",
     "text": [
      "{'_id': ObjectId('61fde386d7333bcfd0d42b41'), 'name': '홍길동', 'age': 18}\n",
      "{'_id': ObjectId('61fde4e0d7333bcfd0d42b42'), 'name': '김길동', 'age': 28}\n",
      "{'_id': ObjectId('61fde5bcd7333bcfd0d42b43'), 'name': '이길동', 'age': 25}\n",
      "{'_id': ObjectId('61fde5bcd7333bcfd0d42b44'), 'name': '박길동', 'age': 31}\n",
      "{'_id': ObjectId('61fde5bcd7333bcfd0d42b45'), 'name': '정길동', 'age': 35}\n",
      "{'_id': ObjectId('6202120ed356d0c6b9224392'), 'name': '홍길동', 'age': 17}\n",
      "{'_id': ObjectId('6202120fd356d0c6b9224393'), 'name': '김길동', 'age': 28}\n",
      "{'_id': ObjectId('6202120fd356d0c6b9224394'), 'name': '이길동', 'age': 25}\n",
      "{'_id': ObjectId('6202120fd356d0c6b9224395'), 'name': '박길동', 'age': 31}\n",
      "{'_id': ObjectId('6202120fd356d0c6b9224396'), 'name': '정길동', 'age': 35}\n"
     ]
    }
   ],
   "source": [
    "for i in search_results_hong2:\n",
    "    print(i)"
   ]
  },
  {
   "cell_type": "code",
   "execution_count": null,
   "id": "00881d48",
   "metadata": {},
   "outputs": [],
   "source": []
  }
 ],
 "metadata": {
  "kernelspec": {
   "display_name": "Python 3 (ipykernel)",
   "language": "python",
   "name": "python3"
  },
  "language_info": {
   "codemirror_mode": {
    "name": "ipython",
    "version": 3
   },
   "file_extension": ".py",
   "mimetype": "text/x-python",
   "name": "python",
   "nbconvert_exporter": "python",
   "pygments_lexer": "ipython3",
   "version": "3.9.7"
  }
 },
 "nbformat": 4,
 "nbformat_minor": 5
}
